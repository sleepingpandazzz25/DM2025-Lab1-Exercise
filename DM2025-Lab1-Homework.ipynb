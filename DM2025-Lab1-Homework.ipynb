{
 "cells": [
  {
   "cell_type": "markdown",
   "metadata": {},
   "source": [
    "### Student Information\n",
    "Name: Catherine Tao\n",
    "\n",
    "Student ID: X1140008\n",
    "\n",
    "GitHub ID: sleepingpandazzz25"
   ]
  },
  {
   "cell_type": "markdown",
   "metadata": {},
   "source": [
    "---"
   ]
  },
  {
   "cell_type": "markdown",
   "metadata": {},
   "source": [
    "### Instructions"
   ]
  },
  {
   "cell_type": "markdown",
   "metadata": {},
   "source": [
    "### First Phase Submission"
   ]
  },
  {
   "cell_type": "markdown",
   "metadata": {},
   "source": [
    "1. First: do the **take home** exercises in the [DM2025-Lab1-Master](https://github.com/leoson-wu/DM2025-Lab1-Exercise/blob/main/DM2025-Lab1-Master.ipynb) that considered as **phase 1 (from exercise 1 to exercise 15)**. You can answer in the master file. __This part is worth 10% of your grade.__\n",
    "\n",
    "\n",
    "2. Second: follow the same process from the [DM2025-Lab1-Master](https://github.com/leoson-wu/DM2025-Lab1-Exercise/blob/main/DM2025-Lab1-Master.ipynb) on **the new dataset** up **until phase 1**. You can skip some exercises if you think some steps are not necessary. However main exercises should be completed. You don't need to explain all details as we did (some **minimal comments** explaining your code are useful though).  __This part is worth 15% of your grade.__\n",
    "    -  Use [the new dataset](https://github.com/leoson-wu/DM2025-Lab1-Exercise/blob/main/newdataset/Reddit-stock-sentiment.csv). The dataset contains a 16 columns including 'text' and 'label', with the sentiment labels being: 1.0 is positive, 0.0 is neutral and -1.0 is negative. You can simplify the dataset and use only the columns that you think are necessary. \n",
    "    \n",
    "    - You are allowed to use and modify the `helper` functions in the folder of the first lab session (notice they may need modification) or create your own.\n",
    "    - Use this file to complete the homework from the second part. Make sure the code can be run from the beginning till the end and has all the needed output.\n",
    "\n",
    "\n",
    "3. Third: please attempt the following tasks on **the new dataset**. __This part is worth 10% of your grade.__\n",
    "    - Generate meaningful **new data visualizations**. Refer to online resources and the Data Mining textbook for inspiration and ideas. \n",
    "    \n",
    "\n",
    "\n",
    "4. Fourth: It's hard for us to follow if your code is messy, so please **tidy up your notebook** and **add minimal comments where needed**. __This part is worth 5% of your grade.__\n",
    "\n",
    "You can submit your homework following these guidelines: [DM2025-Lab1-announcement](https://github.com/leoson-wu/DM2025-Lab1-Announcement/blob/main/README.md). Make sure to commit and save your changes to your repository __BEFORE the deadline (September 28th 11:59 pm, Sunday)__. "
   ]
  },
  {
   "cell_type": "markdown",
   "metadata": {},
   "source": [
    "### Second Phase Submission "
   ]
  },
  {
   "cell_type": "markdown",
   "metadata": {},
   "source": [
    "**You can keep the answer for phase 1 for easier running and update the phase 2 on the same page.**\n",
    "\n",
    "1. First: Continue doing the **take home** exercises in the [DM2025-Lab1-Master](https://github.com/leoson-wu/DM2025-Lab1-Exercise/blob/main/DM2025-Lab1-Master.ipynb) for **phase 2, starting from Finding frequent patterns**. Use the same master(.ipynb) file. Answer from phase 1 will not be considered at this stage. You can answer in the master file. __This part is worth 10% of your grade.__\n",
    "\n",
    "\n",
    "2. Second: Continue from first phase and do the same process from the [DM2025-Lab1-Master](https://github.com/leoson-wu/DM2025-Lab1-Exercise/blob/main/DM2025-Lab1-Master.ipynb) on **the new dataset** for phase 2, starting from Finding frequent pattern. You can skip some exercises if you think some steps are not necessary. However main exercises should be completed. You don't need to explain all details as we did (some **minimal comments** explaining your code are useful though).  __This part is worth 15% of your grade.__\n",
    "    - Continue using this file to complete the homework from the second part. Make sure the code can be run from the beginning till the end and has all the needed output. Use the same new dataset as in phase 1.\n",
    "    \n",
    "    - You are allowed to use and modify the `helper` functions in the folder of the first lab session (notice they may need modification) or create your own.\n",
    "\n",
    "3. Third: please attempt the following tasks on **the new dataset**. __This part is worth 20% of your grade.__\n",
    "    - Use this file to answer.\n",
    "    - Generate **TF-IDF features** from the tokens of each text. This will generating a document matrix, however, the weights will be computed differently (using the TF-IDF value of each word per document as opposed to the word frequency).  Refer to this Scikit-learn [guide](http://scikit-learn.org/stable/modules/generated/sklearn.feature_extraction.text.TfidfVectorizer.html) .\n",
    "    - Implement a simple **Naive Bayes classifier** that automatically classifies the records into their categories. Use both the TF-IDF features and word frequency features to build two seperate classifiers. Note that for the TF-IDF features you might need to use other type of NB classifier different than the one in the Master Notebook. Comment on the differences and when using augmentation with feature pattern.  Refer to this [article](https://hub.packtpub.com/implementing-3-naive-bayes-classifiers-in-scikit-learn/).\n",
    "\n",
    "\n",
    "4. Fourth: In the lab, we applied each step really quickly just to illustrate how to work with your dataset. There are somethings that are not ideal or the most efficient/meaningful. Each dataset can be handled differently as well. What are those inefficent parts you noticed? How can you improve the Data preprocessing for these specific datasets? __This part is worth 10% of your grade.__\n",
    "\n",
    "\n",
    "5. Fifth: It's hard for us to follow if your code is messy, so please **tidy up your notebook** and **add minimal comments where needed**. __This part is worth 5% of your grade.__\n",
    "\n",
    "\n",
    "You can submit your homework following these guidelines: [DM2025-Lab1-announcement](https://github.com/leoson-wu/DM2025-Lab1-Announcement/blob/main/README.md). Make sure to commit and save your changes to your repository __BEFORE the deadline (October 19th 11:59 pm, Sunday)__. "
   ]
  },
  {
   "cell_type": "markdown",
   "metadata": {},
   "source": [
    "# Phase 1"
   ]
  },
  {
   "cell_type": "code",
   "execution_count": 262,
   "metadata": {},
   "outputs": [
    {
     "name": "stderr",
     "output_type": "stream",
     "text": [
      "[nltk_data] Downloading package punkt to\n",
      "[nltk_data]     /Users/catherinetao/nltk_data...\n",
      "[nltk_data]   Package punkt is already up-to-date!\n"
     ]
    },
    {
     "data": {
      "text/html": [
       "<div>\n",
       "<style scoped>\n",
       "    .dataframe tbody tr th:only-of-type {\n",
       "        vertical-align: middle;\n",
       "    }\n",
       "\n",
       "    .dataframe tbody tr th {\n",
       "        vertical-align: top;\n",
       "    }\n",
       "\n",
       "    .dataframe thead th {\n",
       "        text-align: right;\n",
       "    }\n",
       "</style>\n",
       "<table border=\"1\" class=\"dataframe\">\n",
       "  <thead>\n",
       "    <tr style=\"text-align: right;\">\n",
       "      <th></th>\n",
       "      <th>text</th>\n",
       "      <th>label</th>\n",
       "      <th>subjectivity</th>\n",
       "      <th>polarity</th>\n",
       "      <th>datetime</th>\n",
       "      <th>subreddit</th>\n",
       "    </tr>\n",
       "  </thead>\n",
       "  <tbody>\n",
       "    <tr>\n",
       "      <th>0</th>\n",
       "      <td>Calls on retards</td>\n",
       "      <td>-1.0</td>\n",
       "      <td>1.000000</td>\n",
       "      <td>-0.900000</td>\n",
       "      <td>2025-04-11 17:29:56</td>\n",
       "      <td>wallstreetbets</td>\n",
       "    </tr>\n",
       "    <tr>\n",
       "      <th>1</th>\n",
       "      <td>Stunt as in like why did they even make a big ...</td>\n",
       "      <td>0.0</td>\n",
       "      <td>0.177778</td>\n",
       "      <td>0.083333</td>\n",
       "      <td>2025-04-12 1:12:19</td>\n",
       "      <td>wallstreetbets</td>\n",
       "    </tr>\n",
       "    <tr>\n",
       "      <th>2</th>\n",
       "      <td>Seeing lots of red in the ticker.</td>\n",
       "      <td>0.0</td>\n",
       "      <td>0.000000</td>\n",
       "      <td>0.000000</td>\n",
       "      <td>2025-04-10 15:09:41</td>\n",
       "      <td>StockMarket</td>\n",
       "    </tr>\n",
       "    <tr>\n",
       "      <th>3</th>\n",
       "      <td>Vision Marine Technologies Inc. is rewriting t...</td>\n",
       "      <td>1.0</td>\n",
       "      <td>0.646970</td>\n",
       "      <td>0.216383</td>\n",
       "      <td>2023-08-30 17:12:55</td>\n",
       "      <td>stockstobuytoday</td>\n",
       "    </tr>\n",
       "    <tr>\n",
       "      <th>4</th>\n",
       "      <td>He didn’t say thank you.</td>\n",
       "      <td>-1.0</td>\n",
       "      <td>0.000000</td>\n",
       "      <td>0.000000</td>\n",
       "      <td>2025-04-11 14:48:05</td>\n",
       "      <td>StockMarket</td>\n",
       "    </tr>\n",
       "    <tr>\n",
       "      <th>5</th>\n",
       "      <td>Hoping to ejaculate in wet warm puss tonight, ...</td>\n",
       "      <td>0.0</td>\n",
       "      <td>0.500000</td>\n",
       "      <td>0.250000</td>\n",
       "      <td>2025-04-12 2:19:03</td>\n",
       "      <td>wallstreetbets</td>\n",
       "    </tr>\n",
       "    <tr>\n",
       "      <th>6</th>\n",
       "      <td>Trump will respond to china increasing their t...</td>\n",
       "      <td>-1.0</td>\n",
       "      <td>0.380000</td>\n",
       "      <td>-0.108333</td>\n",
       "      <td>2025-04-11 12:37:23</td>\n",
       "      <td>stocks</td>\n",
       "    </tr>\n",
       "    <tr>\n",
       "      <th>7</th>\n",
       "      <td>Confirmed not a trap. Its been like this for p...</td>\n",
       "      <td>0.0</td>\n",
       "      <td>0.700000</td>\n",
       "      <td>0.050000</td>\n",
       "      <td>2025-04-11 17:28:50</td>\n",
       "      <td>wallstreetbets</td>\n",
       "    </tr>\n",
       "    <tr>\n",
       "      <th>8</th>\n",
       "      <td>Am I the only one seeing the cup &amp; handle brea...</td>\n",
       "      <td>1.0</td>\n",
       "      <td>0.491818</td>\n",
       "      <td>0.057045</td>\n",
       "      <td>2021-02-01 15:36:32</td>\n",
       "      <td>stocks</td>\n",
       "    </tr>\n",
       "    <tr>\n",
       "      <th>9</th>\n",
       "      <td>HLGN is $10. Hurry and catch it now before it ...</td>\n",
       "      <td>1.0</td>\n",
       "      <td>0.000000</td>\n",
       "      <td>0.000000</td>\n",
       "      <td>2021-12-31 16:29:49</td>\n",
       "      <td>stockstobuytoday</td>\n",
       "    </tr>\n",
       "    <tr>\n",
       "      <th>10</th>\n",
       "      <td>It's a copy/paste from a Bloomberg terminal.</td>\n",
       "      <td>0.0</td>\n",
       "      <td>0.000000</td>\n",
       "      <td>0.000000</td>\n",
       "      <td>2025-04-11 15:19:19</td>\n",
       "      <td>stocks</td>\n",
       "    </tr>\n",
       "    <tr>\n",
       "      <th>11</th>\n",
       "      <td>this sub has ruined emails for me, whenever I ...</td>\n",
       "      <td>0.0</td>\n",
       "      <td>0.300000</td>\n",
       "      <td>1.000000</td>\n",
       "      <td>2025-04-12 2:51:20</td>\n",
       "      <td>wallstreetbets</td>\n",
       "    </tr>\n",
       "    <tr>\n",
       "      <th>12</th>\n",
       "      <td>Honestly let the economy burn, maybe people wi...</td>\n",
       "      <td>-1.0</td>\n",
       "      <td>0.900000</td>\n",
       "      <td>0.600000</td>\n",
       "      <td>2025-04-11 5:55:28</td>\n",
       "      <td>stocks</td>\n",
       "    </tr>\n",
       "    <tr>\n",
       "      <th>13</th>\n",
       "      <td>\\nI’ve been doing pretty good with this, but i...</td>\n",
       "      <td>0.0</td>\n",
       "      <td>0.513333</td>\n",
       "      <td>0.116667</td>\n",
       "      <td>2025-03-04 23:49:37</td>\n",
       "      <td>stocks</td>\n",
       "    </tr>\n",
       "    <tr>\n",
       "      <th>14</th>\n",
       "      <td>USA begging China to call them</td>\n",
       "      <td>0.0</td>\n",
       "      <td>0.000000</td>\n",
       "      <td>0.000000</td>\n",
       "      <td>2025-04-11 13:46:40</td>\n",
       "      <td>stocks</td>\n",
       "    </tr>\n",
       "    <tr>\n",
       "      <th>15</th>\n",
       "      <td>Disgusting tactics</td>\n",
       "      <td>0.0</td>\n",
       "      <td>1.000000</td>\n",
       "      <td>-1.000000</td>\n",
       "      <td>2021-02-01 18:30:18</td>\n",
       "      <td>stocks</td>\n",
       "    </tr>\n",
       "    <tr>\n",
       "      <th>16</th>\n",
       "      <td>Jesus Christ</td>\n",
       "      <td>-1.0</td>\n",
       "      <td>0.000000</td>\n",
       "      <td>0.000000</td>\n",
       "      <td>2025-04-10 16:34:19</td>\n",
       "      <td>stocks</td>\n",
       "    </tr>\n",
       "    <tr>\n",
       "      <th>17</th>\n",
       "      <td>Exactly this. Trump will blink first because, ...</td>\n",
       "      <td>-1.0</td>\n",
       "      <td>0.369259</td>\n",
       "      <td>0.084444</td>\n",
       "      <td>2025-04-11 16:03:04</td>\n",
       "      <td>stocks</td>\n",
       "    </tr>\n",
       "    <tr>\n",
       "      <th>18</th>\n",
       "      <td>Trump and dump</td>\n",
       "      <td>-1.0</td>\n",
       "      <td>0.000000</td>\n",
       "      <td>0.000000</td>\n",
       "      <td>2025-04-11 14:03:38</td>\n",
       "      <td>StockMarket</td>\n",
       "    </tr>\n",
       "    <tr>\n",
       "      <th>19</th>\n",
       "      <td>I think we are past the numbers. Just assume f...</td>\n",
       "      <td>-1.0</td>\n",
       "      <td>0.451956</td>\n",
       "      <td>0.029337</td>\n",
       "      <td>2025-04-11 4:32:16</td>\n",
       "      <td>stocks</td>\n",
       "    </tr>\n",
       "    <tr>\n",
       "      <th>20</th>\n",
       "      <td>Nooo dont go down its smug bull day</td>\n",
       "      <td>-1.0</td>\n",
       "      <td>0.000000</td>\n",
       "      <td>0.000000</td>\n",
       "      <td>2025-04-11 13:11:35</td>\n",
       "      <td>stocks</td>\n",
       "    </tr>\n",
       "    <tr>\n",
       "      <th>21</th>\n",
       "      <td>GEO WM</td>\n",
       "      <td>0.0</td>\n",
       "      <td>0.000000</td>\n",
       "      <td>0.000000</td>\n",
       "      <td>2025-04-06 23:31:33</td>\n",
       "      <td>stockstobuytoday</td>\n",
       "    </tr>\n",
       "    <tr>\n",
       "      <th>22</th>\n",
       "      <td>Google \"target dei\".\\n\\nI did it for you.\\n\\n</td>\n",
       "      <td>0.0</td>\n",
       "      <td>0.000000</td>\n",
       "      <td>0.000000</td>\n",
       "      <td>2025-04-12 2:46:28</td>\n",
       "      <td>wallstreetbets</td>\n",
       "    </tr>\n",
       "    <tr>\n",
       "      <th>23</th>\n",
       "      <td>I feel like these HFs took the word \"retard\" t...</td>\n",
       "      <td>-1.0</td>\n",
       "      <td>0.900000</td>\n",
       "      <td>-0.575000</td>\n",
       "      <td>2021-02-01 19:17:31</td>\n",
       "      <td>stocks</td>\n",
       "    </tr>\n",
       "    <tr>\n",
       "      <th>24</th>\n",
       "      <td>Shop like a billionaire.</td>\n",
       "      <td>0.0</td>\n",
       "      <td>0.000000</td>\n",
       "      <td>0.000000</td>\n",
       "      <td>2025-04-11 11:37:41</td>\n",
       "      <td>stocks</td>\n",
       "    </tr>\n",
       "    <tr>\n",
       "      <th>25</th>\n",
       "      <td>You see, Target, pissing off a good chunk of y...</td>\n",
       "      <td>-1.0</td>\n",
       "      <td>0.758333</td>\n",
       "      <td>0.233333</td>\n",
       "      <td>2025-04-12 1:26:19</td>\n",
       "      <td>wallstreetbets</td>\n",
       "    </tr>\n",
       "    <tr>\n",
       "      <th>26</th>\n",
       "      <td>China will never lose a trade war. Delusional ...</td>\n",
       "      <td>-1.0</td>\n",
       "      <td>0.200000</td>\n",
       "      <td>0.100000</td>\n",
       "      <td>2025-04-11 12:38:55</td>\n",
       "      <td>StockMarket</td>\n",
       "    </tr>\n",
       "    <tr>\n",
       "      <th>27</th>\n",
       "      <td>Any thoughts on RVPH?</td>\n",
       "      <td>0.0</td>\n",
       "      <td>0.000000</td>\n",
       "      <td>0.000000</td>\n",
       "      <td>2022-10-12 1:31:17</td>\n",
       "      <td>stockstobuytoday</td>\n",
       "    </tr>\n",
       "    <tr>\n",
       "      <th>28</th>\n",
       "      <td>My first wife was tarded, she's a pilot now.</td>\n",
       "      <td>0.0</td>\n",
       "      <td>0.333333</td>\n",
       "      <td>0.250000</td>\n",
       "      <td>2025-04-11 17:21:44</td>\n",
       "      <td>wallstreetbets</td>\n",
       "    </tr>\n",
       "    <tr>\n",
       "      <th>29</th>\n",
       "      <td>Is sundial growers going to rise up?</td>\n",
       "      <td>0.0</td>\n",
       "      <td>0.000000</td>\n",
       "      <td>0.000000</td>\n",
       "      <td>2021-04-18 15:04:10</td>\n",
       "      <td>stockstobuytoday</td>\n",
       "    </tr>\n",
       "    <tr>\n",
       "      <th>30</th>\n",
       "      <td>&gt; Still seems like an awful investment\\n\\nThat...</td>\n",
       "      <td>-1.0</td>\n",
       "      <td>1.000000</td>\n",
       "      <td>-1.000000</td>\n",
       "      <td>2025-04-11 14:01:02</td>\n",
       "      <td>stocks</td>\n",
       "    </tr>\n",
       "    <tr>\n",
       "      <th>31</th>\n",
       "      <td>$EVGO \\n\\n*Record Revenue increasing 5 straigh...</td>\n",
       "      <td>0.0</td>\n",
       "      <td>0.422268</td>\n",
       "      <td>0.107880</td>\n",
       "      <td>2024-08-17 5:32:56</td>\n",
       "      <td>stockstobuytoday</td>\n",
       "    </tr>\n",
       "    <tr>\n",
       "      <th>32</th>\n",
       "      <td>Sorry; I’m dumb but is this not just a USD to ...</td>\n",
       "      <td>0.0</td>\n",
       "      <td>0.750000</td>\n",
       "      <td>-0.437500</td>\n",
       "      <td>2025-04-11 13:22:49</td>\n",
       "      <td>StockMarket</td>\n",
       "    </tr>\n",
       "    <tr>\n",
       "      <th>33</th>\n",
       "      <td>Pls respond</td>\n",
       "      <td>0.0</td>\n",
       "      <td>0.000000</td>\n",
       "      <td>0.000000</td>\n",
       "      <td>2025-04-11 15:56:34</td>\n",
       "      <td>StockMarket</td>\n",
       "    </tr>\n",
       "    <tr>\n",
       "      <th>34</th>\n",
       "      <td>So they went from saying redditors are bad for...</td>\n",
       "      <td>1.0</td>\n",
       "      <td>0.666667</td>\n",
       "      <td>-0.700000</td>\n",
       "      <td>2021-02-01 13:45:52</td>\n",
       "      <td>stocks</td>\n",
       "    </tr>\n",
       "    <tr>\n",
       "      <th>35</th>\n",
       "      <td>Goshdang about time. It was fine to say when I...</td>\n",
       "      <td>0.0</td>\n",
       "      <td>0.628571</td>\n",
       "      <td>0.169048</td>\n",
       "      <td>2025-04-11 17:30:23</td>\n",
       "      <td>wallstreetbets</td>\n",
       "    </tr>\n",
       "    <tr>\n",
       "      <th>36</th>\n",
       "      <td>Xi is calm and sure-footed in his response to ...</td>\n",
       "      <td>-1.0</td>\n",
       "      <td>0.750000</td>\n",
       "      <td>-0.055556</td>\n",
       "      <td>2025-04-11 15:59:43</td>\n",
       "      <td>StockMarket</td>\n",
       "    </tr>\n",
       "    <tr>\n",
       "      <th>37</th>\n",
       "      <td>Cash</td>\n",
       "      <td>0.0</td>\n",
       "      <td>0.000000</td>\n",
       "      <td>0.000000</td>\n",
       "      <td>2025-03-04 0:43:03</td>\n",
       "      <td>stocks</td>\n",
       "    </tr>\n",
       "    <tr>\n",
       "      <th>38</th>\n",
       "      <td>Hey our net worth match now, we can be friends!</td>\n",
       "      <td>1.0</td>\n",
       "      <td>0.050000</td>\n",
       "      <td>0.187500</td>\n",
       "      <td>2025-04-12 2:32:18</td>\n",
       "      <td>wallstreetbets</td>\n",
       "    </tr>\n",
       "    <tr>\n",
       "      <th>39</th>\n",
       "      <td>Other countries probably will go through a rec...</td>\n",
       "      <td>1.0</td>\n",
       "      <td>0.517857</td>\n",
       "      <td>0.049107</td>\n",
       "      <td>2025-04-11 14:09:53</td>\n",
       "      <td>stocks</td>\n",
       "    </tr>\n",
       "    <tr>\n",
       "      <th>40</th>\n",
       "      <td>These China AI factory memes are pretty good. ...</td>\n",
       "      <td>0.0</td>\n",
       "      <td>0.800000</td>\n",
       "      <td>0.475000</td>\n",
       "      <td>2025-04-11 22:00:36</td>\n",
       "      <td>wallstreetbets</td>\n",
       "    </tr>\n",
       "    <tr>\n",
       "      <th>41</th>\n",
       "      <td>And plug</td>\n",
       "      <td>0.0</td>\n",
       "      <td>0.000000</td>\n",
       "      <td>0.000000</td>\n",
       "      <td>2021-05-03 22:17:48</td>\n",
       "      <td>stockstobuytoday</td>\n",
       "    </tr>\n",
       "    <tr>\n",
       "      <th>42</th>\n",
       "      <td>So they went from saying redditors are bad for...</td>\n",
       "      <td>1.0</td>\n",
       "      <td>0.666667</td>\n",
       "      <td>-0.700000</td>\n",
       "      <td>2021-02-01 13:45:17</td>\n",
       "      <td>stocks</td>\n",
       "    </tr>\n",
       "    <tr>\n",
       "      <th>43</th>\n",
       "      <td>what if time machine parts come from china</td>\n",
       "      <td>0.0</td>\n",
       "      <td>0.000000</td>\n",
       "      <td>0.000000</td>\n",
       "      <td>2025-04-11 15:54:47</td>\n",
       "      <td>stocks</td>\n",
       "    </tr>\n",
       "    <tr>\n",
       "      <th>44</th>\n",
       "      <td>Completely unrelated, but for like 20 years of...</td>\n",
       "      <td>0.0</td>\n",
       "      <td>0.450000</td>\n",
       "      <td>-0.100000</td>\n",
       "      <td>2025-04-11 12:48:40</td>\n",
       "      <td>stocks</td>\n",
       "    </tr>\n",
       "    <tr>\n",
       "      <th>45</th>\n",
       "      <td>100% fact! Truth hurts.</td>\n",
       "      <td>0.0</td>\n",
       "      <td>0.000000</td>\n",
       "      <td>0.000000</td>\n",
       "      <td>2023-04-27 14:04:06</td>\n",
       "      <td>stockstobuytoday</td>\n",
       "    </tr>\n",
       "    <tr>\n",
       "      <th>46</th>\n",
       "      <td>If the \"rule of law\" wasn't a total joke, I mi...</td>\n",
       "      <td>-1.0</td>\n",
       "      <td>0.708333</td>\n",
       "      <td>-0.350000</td>\n",
       "      <td>2025-04-10 15:31:08</td>\n",
       "      <td>StockMarket</td>\n",
       "    </tr>\n",
       "    <tr>\n",
       "      <th>47</th>\n",
       "      <td>Weekend thread is where the real ones at ![img...</td>\n",
       "      <td>0.0</td>\n",
       "      <td>0.300000</td>\n",
       "      <td>0.250000</td>\n",
       "      <td>2025-04-12 2:03:43</td>\n",
       "      <td>wallstreetbets</td>\n",
       "    </tr>\n",
       "    <tr>\n",
       "      <th>48</th>\n",
       "      <td>\\n\\n  [MarketWatch: Stock Market News - Financ...</td>\n",
       "      <td>0.0</td>\n",
       "      <td>0.000000</td>\n",
       "      <td>0.000000</td>\n",
       "      <td>2025-04-02 13:00:42</td>\n",
       "      <td>stockstobuytoday</td>\n",
       "    </tr>\n",
       "    <tr>\n",
       "      <th>49</th>\n",
       "      <td>And you are? \\n\\nMarket. Mr. Market.</td>\n",
       "      <td>0.0</td>\n",
       "      <td>0.000000</td>\n",
       "      <td>0.000000</td>\n",
       "      <td>2025-04-11 16:01:45</td>\n",
       "      <td>stocks</td>\n",
       "    </tr>\n",
       "  </tbody>\n",
       "</table>\n",
       "</div>"
      ],
      "text/plain": [
       "                                                 text  label  subjectivity  \\\n",
       "0                                    Calls on retards   -1.0      1.000000   \n",
       "1   Stunt as in like why did they even make a big ...    0.0      0.177778   \n",
       "2                   Seeing lots of red in the ticker.    0.0      0.000000   \n",
       "3   Vision Marine Technologies Inc. is rewriting t...    1.0      0.646970   \n",
       "4                            He didn’t say thank you.   -1.0      0.000000   \n",
       "5   Hoping to ejaculate in wet warm puss tonight, ...    0.0      0.500000   \n",
       "6   Trump will respond to china increasing their t...   -1.0      0.380000   \n",
       "7   Confirmed not a trap. Its been like this for p...    0.0      0.700000   \n",
       "8   Am I the only one seeing the cup & handle brea...    1.0      0.491818   \n",
       "9   HLGN is $10. Hurry and catch it now before it ...    1.0      0.000000   \n",
       "10       It's a copy/paste from a Bloomberg terminal.    0.0      0.000000   \n",
       "11  this sub has ruined emails for me, whenever I ...    0.0      0.300000   \n",
       "12  Honestly let the economy burn, maybe people wi...   -1.0      0.900000   \n",
       "13  \\nI’ve been doing pretty good with this, but i...    0.0      0.513333   \n",
       "14                     USA begging China to call them    0.0      0.000000   \n",
       "15                                 Disgusting tactics    0.0      1.000000   \n",
       "16                                       Jesus Christ   -1.0      0.000000   \n",
       "17  Exactly this. Trump will blink first because, ...   -1.0      0.369259   \n",
       "18                                     Trump and dump   -1.0      0.000000   \n",
       "19  I think we are past the numbers. Just assume f...   -1.0      0.451956   \n",
       "20                Nooo dont go down its smug bull day   -1.0      0.000000   \n",
       "21                                             GEO WM    0.0      0.000000   \n",
       "22      Google \"target dei\".\\n\\nI did it for you.\\n\\n    0.0      0.000000   \n",
       "23  I feel like these HFs took the word \"retard\" t...   -1.0      0.900000   \n",
       "24                           Shop like a billionaire.    0.0      0.000000   \n",
       "25  You see, Target, pissing off a good chunk of y...   -1.0      0.758333   \n",
       "26  China will never lose a trade war. Delusional ...   -1.0      0.200000   \n",
       "27                              Any thoughts on RVPH?    0.0      0.000000   \n",
       "28       My first wife was tarded, she's a pilot now.    0.0      0.333333   \n",
       "29               Is sundial growers going to rise up?    0.0      0.000000   \n",
       "30  > Still seems like an awful investment\\n\\nThat...   -1.0      1.000000   \n",
       "31  $EVGO \\n\\n*Record Revenue increasing 5 straigh...    0.0      0.422268   \n",
       "32  Sorry; I’m dumb but is this not just a USD to ...    0.0      0.750000   \n",
       "33                                        Pls respond    0.0      0.000000   \n",
       "34  So they went from saying redditors are bad for...    1.0      0.666667   \n",
       "35  Goshdang about time. It was fine to say when I...    0.0      0.628571   \n",
       "36  Xi is calm and sure-footed in his response to ...   -1.0      0.750000   \n",
       "37                                               Cash    0.0      0.000000   \n",
       "38    Hey our net worth match now, we can be friends!    1.0      0.050000   \n",
       "39  Other countries probably will go through a rec...    1.0      0.517857   \n",
       "40  These China AI factory memes are pretty good. ...    0.0      0.800000   \n",
       "41                                           And plug    0.0      0.000000   \n",
       "42  So they went from saying redditors are bad for...    1.0      0.666667   \n",
       "43         what if time machine parts come from china    0.0      0.000000   \n",
       "44  Completely unrelated, but for like 20 years of...    0.0      0.450000   \n",
       "45                            100% fact! Truth hurts.    0.0      0.000000   \n",
       "46  If the \"rule of law\" wasn't a total joke, I mi...   -1.0      0.708333   \n",
       "47  Weekend thread is where the real ones at ![img...    0.0      0.300000   \n",
       "48  \\n\\n  [MarketWatch: Stock Market News - Financ...    0.0      0.000000   \n",
       "49              And you are? \\n\\nMarket. Mr. Market.     0.0      0.000000   \n",
       "\n",
       "    polarity             datetime         subreddit  \n",
       "0  -0.900000  2025-04-11 17:29:56    wallstreetbets  \n",
       "1   0.083333   2025-04-12 1:12:19    wallstreetbets  \n",
       "2   0.000000  2025-04-10 15:09:41       StockMarket  \n",
       "3   0.216383  2023-08-30 17:12:55  stockstobuytoday  \n",
       "4   0.000000  2025-04-11 14:48:05       StockMarket  \n",
       "5   0.250000   2025-04-12 2:19:03    wallstreetbets  \n",
       "6  -0.108333  2025-04-11 12:37:23            stocks  \n",
       "7   0.050000  2025-04-11 17:28:50    wallstreetbets  \n",
       "8   0.057045  2021-02-01 15:36:32            stocks  \n",
       "9   0.000000  2021-12-31 16:29:49  stockstobuytoday  \n",
       "10  0.000000  2025-04-11 15:19:19            stocks  \n",
       "11  1.000000   2025-04-12 2:51:20    wallstreetbets  \n",
       "12  0.600000   2025-04-11 5:55:28            stocks  \n",
       "13  0.116667  2025-03-04 23:49:37            stocks  \n",
       "14  0.000000  2025-04-11 13:46:40            stocks  \n",
       "15 -1.000000  2021-02-01 18:30:18            stocks  \n",
       "16  0.000000  2025-04-10 16:34:19            stocks  \n",
       "17  0.084444  2025-04-11 16:03:04            stocks  \n",
       "18  0.000000  2025-04-11 14:03:38       StockMarket  \n",
       "19  0.029337   2025-04-11 4:32:16            stocks  \n",
       "20  0.000000  2025-04-11 13:11:35            stocks  \n",
       "21  0.000000  2025-04-06 23:31:33  stockstobuytoday  \n",
       "22  0.000000   2025-04-12 2:46:28    wallstreetbets  \n",
       "23 -0.575000  2021-02-01 19:17:31            stocks  \n",
       "24  0.000000  2025-04-11 11:37:41            stocks  \n",
       "25  0.233333   2025-04-12 1:26:19    wallstreetbets  \n",
       "26  0.100000  2025-04-11 12:38:55       StockMarket  \n",
       "27  0.000000   2022-10-12 1:31:17  stockstobuytoday  \n",
       "28  0.250000  2025-04-11 17:21:44    wallstreetbets  \n",
       "29  0.000000  2021-04-18 15:04:10  stockstobuytoday  \n",
       "30 -1.000000  2025-04-11 14:01:02            stocks  \n",
       "31  0.107880   2024-08-17 5:32:56  stockstobuytoday  \n",
       "32 -0.437500  2025-04-11 13:22:49       StockMarket  \n",
       "33  0.000000  2025-04-11 15:56:34       StockMarket  \n",
       "34 -0.700000  2021-02-01 13:45:52            stocks  \n",
       "35  0.169048  2025-04-11 17:30:23    wallstreetbets  \n",
       "36 -0.055556  2025-04-11 15:59:43       StockMarket  \n",
       "37  0.000000   2025-03-04 0:43:03            stocks  \n",
       "38  0.187500   2025-04-12 2:32:18    wallstreetbets  \n",
       "39  0.049107  2025-04-11 14:09:53            stocks  \n",
       "40  0.475000  2025-04-11 22:00:36    wallstreetbets  \n",
       "41  0.000000  2021-05-03 22:17:48  stockstobuytoday  \n",
       "42 -0.700000  2021-02-01 13:45:17            stocks  \n",
       "43  0.000000  2025-04-11 15:54:47            stocks  \n",
       "44 -0.100000  2025-04-11 12:48:40            stocks  \n",
       "45  0.000000  2023-04-27 14:04:06  stockstobuytoday  \n",
       "46 -0.350000  2025-04-10 15:31:08       StockMarket  \n",
       "47  0.250000   2025-04-12 2:03:43    wallstreetbets  \n",
       "48  0.000000  2025-04-02 13:00:42  stockstobuytoday  \n",
       "49  0.000000  2025-04-11 16:01:45            stocks  "
      ]
     },
     "execution_count": 262,
     "metadata": {},
     "output_type": "execute_result"
    }
   ],
   "source": [
    "# Import\n",
    "\n",
    "import pandas as pd\n",
    "import numpy as np\n",
    "import nltk\n",
    "import matplotlib.pyplot as plt\n",
    "import seaborn as sns\n",
    "from sklearn.feature_extraction.text import CountVectorizer\n",
    "from nltk.tokenize import word_tokenize\n",
    "import helpers.data_mining_helpers as dmh\n",
    "\n",
    "nltk.download(\"punkt\")\n",
    "\n",
    "# Get data from CSV\n",
    "df = pd.read_csv(\"newdataset/Reddit-stock-sentiment.csv\")\n",
    "# Only keep text, label, subjectivity, and polarity \n",
    "df = df[[\"text\", \"label\", \"subjectivity\", \"polarity\", \"datetime\", \"subreddit\"]].copy()\n",
    "\n",
    "# Log first 5 elements\n",
    "df.head(50)\n"
   ]
  },
  {
   "cell_type": "code",
   "execution_count": 263,
   "metadata": {},
   "outputs": [
    {
     "name": "stdout",
     "output_type": "stream",
     "text": [
      "Number of duplicates before: 0\n",
      "Number of duplicates before: 0\n"
     ]
    }
   ],
   "source": [
    "# Drop duplicates\n",
    "print(\"Number of duplicates before: \" + str(sum(df.duplicated())))\n",
    "df.drop_duplicates(keep=False, inplace=True) # inplace applies changes directly on our dataframe\n",
    "print(\"Number of duplicates before: \" + str(sum(df.duplicated())))\n"
   ]
  },
  {
   "cell_type": "code",
   "execution_count": 264,
   "metadata": {},
   "outputs": [
    {
     "name": "stdout",
     "output_type": "stream",
     "text": [
      "Calls on retards\n",
      "Stunt as in like why did they even make a big deal about starting it in the first place? No company should ever talk about politics ever.\n",
      "Seeing lots of red in the ticker.\n"
     ]
    }
   ],
   "source": [
    "# Exercise 1\n",
    "for t in df[\"text\"][:3]:\n",
    "    print(t)"
   ]
  },
  {
   "cell_type": "code",
   "execution_count": 265,
   "metadata": {},
   "outputs": [
    {
     "data": {
      "text/plain": [
       "1      wallstreetbets\n",
       "2         StockMarket\n",
       "3    stockstobuytoday\n",
       "4         StockMarket\n",
       "Name: subreddit, dtype: object"
      ]
     },
     "execution_count": 265,
     "metadata": {},
     "output_type": "execute_result"
    }
   ],
   "source": [
    "# Exercise 2\n",
    "df.iloc[1:5, -1]"
   ]
  },
  {
   "cell_type": "code",
   "execution_count": 266,
   "metadata": {},
   "outputs": [
    {
     "data": {
      "text/html": [
       "<div>\n",
       "<style scoped>\n",
       "    .dataframe tbody tr th:only-of-type {\n",
       "        vertical-align: middle;\n",
       "    }\n",
       "\n",
       "    .dataframe tbody tr th {\n",
       "        vertical-align: top;\n",
       "    }\n",
       "\n",
       "    .dataframe thead th {\n",
       "        text-align: right;\n",
       "    }\n",
       "</style>\n",
       "<table border=\"1\" class=\"dataframe\">\n",
       "  <thead>\n",
       "    <tr style=\"text-align: right;\">\n",
       "      <th></th>\n",
       "      <th>text</th>\n",
       "      <th>label</th>\n",
       "      <th>subjectivity</th>\n",
       "      <th>polarity</th>\n",
       "      <th>datetime</th>\n",
       "      <th>subreddit</th>\n",
       "    </tr>\n",
       "  </thead>\n",
       "  <tbody>\n",
       "    <tr>\n",
       "      <th>3</th>\n",
       "      <td>Vision Marine Technologies Inc. is rewriting t...</td>\n",
       "      <td>1.0</td>\n",
       "      <td>0.646970</td>\n",
       "      <td>0.216383</td>\n",
       "      <td>2023-08-30 17:12:55</td>\n",
       "      <td>stockstobuytoday</td>\n",
       "    </tr>\n",
       "    <tr>\n",
       "      <th>78</th>\n",
       "      <td>I think it’s gonna work itself out. I bought t...</td>\n",
       "      <td>1.0</td>\n",
       "      <td>0.133333</td>\n",
       "      <td>-0.133333</td>\n",
       "      <td>2025-04-11 15:11:59</td>\n",
       "      <td>StockMarket</td>\n",
       "    </tr>\n",
       "    <tr>\n",
       "      <th>168</th>\n",
       "      <td>The obvious can also be refreshing from CNBC: ...</td>\n",
       "      <td>1.0</td>\n",
       "      <td>0.750000</td>\n",
       "      <td>0.250000</td>\n",
       "      <td>2025-04-11 13:09:51</td>\n",
       "      <td>stocks</td>\n",
       "    </tr>\n",
       "    <tr>\n",
       "      <th>219</th>\n",
       "      <td>Same. Back to break even after that last rip b...</td>\n",
       "      <td>1.0</td>\n",
       "      <td>0.300000</td>\n",
       "      <td>0.144444</td>\n",
       "      <td>2023-08-12 2:20:58</td>\n",
       "      <td>stockstobuytoday</td>\n",
       "    </tr>\n",
       "    <tr>\n",
       "      <th>319</th>\n",
       "      <td>Etrade has a feed of news articles about how r...</td>\n",
       "      <td>1.0</td>\n",
       "      <td>0.000000</td>\n",
       "      <td>0.000000</td>\n",
       "      <td>2021-02-01 14:44:17</td>\n",
       "      <td>stocks</td>\n",
       "    </tr>\n",
       "  </tbody>\n",
       "</table>\n",
       "</div>"
      ],
      "text/plain": [
       "                                                  text  label  subjectivity  \\\n",
       "3    Vision Marine Technologies Inc. is rewriting t...    1.0      0.646970   \n",
       "78   I think it’s gonna work itself out. I bought t...    1.0      0.133333   \n",
       "168  The obvious can also be refreshing from CNBC: ...    1.0      0.750000   \n",
       "219  Same. Back to break even after that last rip b...    1.0      0.300000   \n",
       "319  Etrade has a feed of news articles about how r...    1.0      0.000000   \n",
       "\n",
       "     polarity             datetime         subreddit  \n",
       "3    0.216383  2023-08-30 17:12:55  stockstobuytoday  \n",
       "78  -0.133333  2025-04-11 15:11:59       StockMarket  \n",
       "168  0.250000  2025-04-11 13:09:51            stocks  \n",
       "219  0.144444   2023-08-12 2:20:58  stockstobuytoday  \n",
       "319  0.000000  2021-02-01 14:44:17            stocks  "
      ]
     },
     "execution_count": 266,
     "metadata": {},
     "output_type": "execute_result"
    }
   ],
   "source": [
    "# Exercise 3\n",
    "# Get all records that have label 1.0\n",
    "records = df[df['label'] == 1.0]\n",
    "records.iloc[::10].iloc[:5] # first get every 10th record which gives a list, then get the first 5 of the list\n"
   ]
  },
  {
   "cell_type": "code",
   "execution_count": 267,
   "metadata": {},
   "outputs": [
    {
     "data": {
      "text/plain": [
       "0      (The amoung of missing records is: , 0)\n",
       "1      (The amoung of missing records is: , 0)\n",
       "2      (The amoung of missing records is: , 0)\n",
       "3      (The amoung of missing records is: , 0)\n",
       "4      (The amoung of missing records is: , 0)\n",
       "                        ...                   \n",
       "842    (The amoung of missing records is: , 0)\n",
       "843    (The amoung of missing records is: , 0)\n",
       "844    (The amoung of missing records is: , 0)\n",
       "845    (The amoung of missing records is: , 0)\n",
       "846    (The amoung of missing records is: , 0)\n",
       "Length: 847, dtype: object"
      ]
     },
     "execution_count": 267,
     "metadata": {},
     "output_type": "execute_result"
    }
   ],
   "source": [
    "# Exercise 4\n",
    "import helpers.data_mining_helpers as dmh\n",
    "df.isnull().apply(lambda x: dmh.check_missing_values(x), axis=1)"
   ]
  },
  {
   "cell_type": "code",
   "execution_count": 268,
   "metadata": {},
   "outputs": [],
   "source": [
    "# Exercise 5\n",
    "# The same logic as Exercise 5 in Phase 1 Part 1 would hold.\n",
    "\n",
    "# Exercise 6\n",
    "# The same logic as Exercise 6 in Phase 1 Part 1 would hold."
   ]
  },
  {
   "cell_type": "code",
   "execution_count": 269,
   "metadata": {},
   "outputs": [
    {
     "data": {
      "text/plain": [
       "<Axes: title={'center': 'Sentiment Distribution (Raw)'}, xlabel='label'>"
      ]
     },
     "execution_count": 269,
     "metadata": {},
     "output_type": "execute_result"
    },
    {
     "data": {
      "image/png": "[encoded data removed]",
      "text/plain": [
       "<Figure size 800x300 with 1 Axes>"
      ]
     },
     "metadata": {},
     "output_type": "display_data"
    }
   ],
   "source": [
    "# Exercise 7\n",
    "import math\n",
    "\n",
    "maximum_count = df[\"label\"].value_counts().max()\n",
    "maximum_count_rounded = math.ceil(maximum_count / 100) * 100\n",
    "\n",
    "# Plot bar chart for label distribution with raw labels (0,0, -1,0, 1.0)\n",
    "df.label.value_counts().plot(\n",
    "    kind=\"bar\",\n",
    "    title=\"Sentiment Distribution (Raw)\",\n",
    "    ylim=[0, maximum_count_rounded],\n",
    "    rot=0, fontsize=11, figsize=(8,3),\n",
    ")\n",
    "\n"
   ]
  },
  {
   "cell_type": "code",
   "execution_count": 270,
   "metadata": {},
   "outputs": [
    {
     "data": {
      "text/plain": [
       "<Axes: title={'center': 'Sentiment Distribution'}, xlabel='label_name'>"
      ]
     },
     "execution_count": 270,
     "metadata": {},
     "output_type": "execute_result"
    },
    {
     "data": {
      "image/png": "[encoded data removed]",
      "text/plain": [
       "<Figure size 800x300 with 1 Axes>"
      ]
     },
     "metadata": {},
     "output_type": "display_data"
    }
   ],
   "source": [
    "# Exercise 7\n",
    "# Add a column that maps each label to its sentiment\n",
    "label_dict = {-1.0: \"Negative\", 0.0: \"Neutral\", 1.0: \"Positive\"}\n",
    "df[\"label_name\"] = df[\"label\"].map(label_dict)\n",
    "\n",
    "# Plot bar chart for label distribution with label names\n",
    "df.label_name.value_counts().plot(\n",
    "    kind=\"bar\",\n",
    "    title=\"Sentiment Distribution\",\n",
    "    ylim=[0, maximum_count_rounded],\n",
    "    rot=0, fontsize=11, figsize=(8,3),\n",
    ")"
   ]
  },
  {
   "cell_type": "code",
   "execution_count": 271,
   "metadata": {},
   "outputs": [
    {
     "data": {
      "text/plain": [
       "<Axes: title={'center': 'Category distribution'}, xlabel='label_name'>"
      ]
     },
     "execution_count": 271,
     "metadata": {},
     "output_type": "execute_result"
    },
    {
     "data": {
      "image/png": "[encoded data removed]",
      "text/plain": [
       "<Figure size 800x300 with 1 Axes>"
      ]
     },
     "metadata": {},
     "output_type": "display_data"
    }
   ],
   "source": [
    "# Exercise 8\n",
    "df_sample = df.sample(n=200) \n",
    "# Combine the two dataframes into one\n",
    "combined = pd.DataFrame({\n",
    "    'Original': df.label_name.value_counts(),\n",
    "    'Sample': df_sample.label_name.value_counts() \n",
    "})\n",
    "\n",
    "maximum_count = max(combined.max())\n",
    "maximum_count_rounded = math.ceil(maximum_count / 100) * 100\n",
    "\n",
    "combined.plot(kind='bar',\n",
    "              title='Category distribution',\n",
    "              ylim=[0, 850], # Set ylim as 850 so the legend doesn't cover any bars\n",
    "              rot=0, fontsize=11, figsize=(8,3))"
   ]
  },
  {
   "cell_type": "code",
   "execution_count": 272,
   "metadata": {},
   "outputs": [
    {
     "data": {
      "text/plain": [
       "['calls', 'on', 'retards']"
      ]
     },
     "execution_count": 272,
     "metadata": {},
     "output_type": "execute_result"
    }
   ],
   "source": [
    "# Exercise 9\n",
    "count_vect = CountVectorizer()\n",
    "df_counts = count_vect.fit_transform(df.text)\n",
    "analyze = count_vect.build_analyzer()\n",
    "analyze(df[\"text\"].iloc[0]) # We get the first text document and then call analyze"
   ]
  },
  {
   "cell_type": "code",
   "execution_count": 273,
   "metadata": {},
   "outputs": [],
   "source": [
    "# Exercise 10\n",
    "# There are no codes for each word so I'm skipping 10"
   ]
  },
  {
   "cell_type": "code",
   "execution_count": 274,
   "metadata": {},
   "outputs": [
    {
     "data": {
      "text/plain": [
       "<Axes: >"
      ]
     },
     "execution_count": 274,
     "metadata": {},
     "output_type": "execute_result"
    },
    {
     "data": {
      "image/png": "[encoded data removed]",
      "text/plain": [
       "<Figure size 640x480 with 2 Axes>"
      ]
     },
     "metadata": {},
     "output_type": "display_data"
    }
   ],
   "source": [
    "# First 50 reddit posts\n",
    "documents = df_counts[0:50, :].toarray()\n",
    "\n",
    "# Compute term frequencies\n",
    "term_frequency = documents.sum(axis=0)\n",
    "\n",
    "# Top 50 frequent terms\n",
    "top_terms_index = term_frequency.argsort()[-50:][::-1]\n",
    "\n",
    "plot_x = [count_vect.get_feature_names_out()[i] for i in top_terms_index]\n",
    "plot_y = [\"doc_\"+ str(i) for i in range(documents.shape[0])]\n",
    "plot_z = documents[:, top_terms_index]\n",
    "\n",
    "df_todraw = pd.DataFrame(plot_z, columns = plot_x, index = plot_y)\n",
    "\n",
    "sns.heatmap(df_todraw,\n",
    "                 cmap=\"PuRd\",\n",
    "                 vmin=0, vmax=plot_z.max())\n"
   ]
  },
  {
   "cell_type": "code",
   "execution_count": 275,
   "metadata": {},
   "outputs": [
    {
     "data": {
      "application/vnd.plotly.v1+json": {
       "config": {
        "plotlyServerURL": "https://plot.ly"
       },
       "data": [
        {
         "hovertemplate": "Word=%{x}<br>Frequency=%{y}<extra></extra>",
         "legendgroup": "",
         "marker": {
          "color": "#636efa",
          "pattern": {
           "shape": ""
          }
         },
         "name": "",
         "orientation": "v",
         "showlegend": false,
         "textposition": "auto",
         "type": "bar",
         "x": [
          "00",
          "000",
          "01378",
          "02",
          "027",
          "03",
          "06",
          "08",
          "10",
          "100",
          "1000",
          "10000",
          "100k",
          "100x",
          "10k",
          "10ks",
          "10yr",
          "11",
          "116",
          "118",
          "12",
          "1242",
          "125",
          "12855584",
          "13",
          "14",
          "140",
          "145",
          "14th",
          "15",
          "150",
          "153",
          "15m",
          "16",
          "160",
          "17",
          "1700",
          "1728",
          "17th",
          "18",
          "186",
          "18630",
          "1870",
          "1934",
          "1945",
          "1947",
          "1953",
          "1961",
          "1969",
          "1973",
          "1974",
          "1981",
          "1992",
          "1999",
          "1k",
          "1m",
          "20",
          "200",
          "2007",
          "200k",
          "2011",
          "2012",
          "2017",
          "2021",
          "20211209",
          "2024",
          "2025",
          "2028",
          "2045",
          "208",
          "21",
          "22",
          "22rate",
          "23",
          "234",
          "235",
          "24",
          "25",
          "250",
          "25bps",
          "25k",
          "27",
          "28",
          "296895",
          "2c_books",
          "2c_wiki_recommendations",
          "2fapps",
          "2k",
          "2nd",
          "2s",
          "30",
          "300",
          "3000",
          "31",
          "31224",
          "31225",
          "31f",
          "33",
          "3306",
          "34",
          "35",
          "350",
          "36",
          "3a",
          "3d",
          "3f",
          "3k",
          "3oz8xzgfhartvh99yi",
          "40",
          "401k",
          "404",
          "41",
          "42",
          "4260",
          "4267",
          "4271",
          "4359",
          "45",
          "4500",
          "456",
          "46",
          "4675",
          "47",
          "4900",
          "4d",
          "4m",
          "4th",
          "4x",
          "50",
          "500",
          "5000",
          "50k",
          "50x",
          "52",
          "522",
          "540",
          "55",
          "58",
          "60",
          "600k",
          "6026762",
          "64",
          "65",
          "66",
          "6969",
          "6k",
          "6th",
          "70",
          "75",
          "7500",
          "77",
          "7k",
          "7s",
          "80",
          "81",
          "83",
          "87",
          "8882",
          "8883",
          "89",
          "90",
          "9000",
          "90k",
          "95",
          "97",
          "98",
          "98th",
          "99",
          "9k",
          "_are",
          "_so",
          "aapl",
          "ability",
          "able",
          "abolish",
          "about",
          "above",
          "absolute",
          "absolutely",
          "abuse",
          "abusing",
          "abysmal",
          "accelerate",
          "accept",
          "acceptable",
          "accepted",
          "access",
          "according",
          "account",
          "accretive",
          "acct",
          "accurate",
          "accurately",
          "aces",
          "acgl",
          "achieved",
          "achievement",
          "achieves",
          "achilles",
          "acn",
          "acquires",
          "acquisition",
          "acquisitions",
          "across",
          "act",
          "action",
          "actionable",
          "actions",
          "actively",
          "activity",
          "actors",
          "acts",
          "actual",
          "actually",
          "ad",
          "adausd",
          "add",
          "added",
          "addicted",
          "addicts",
          "adding",
          "addition",
          "additional",
          "addressed",
          "adjacent",
          "adjust",
          "admin",
          "administration",
          "administrations",
          "admins",
          "admit",
          "admitted",
          "adobe",
          "adp",
          "adult",
          "advanced",
          "advantage",
          "adversaries",
          "advertisements",
          "advice",
          "advise",
          "advised",
          "advisor",
          "advisors",
          "advocating",
          "aerc",
          "aerocontractors",
          "affect",
          "affected",
          "affects",
          "afford",
          "afraid",
          "africa",
          "after",
          "afternoon",
          "afterwards",
          "again",
          "against",
          "agane",
          "age",
          "aged",
          "agencies",
          "agenda",
          "agentnlp",
          "aggressively",
          "aggressor",
          "agnew",
          "ago",
          "agolf",
          "agree",
          "agreed",
          "agreement",
          "agriculture",
          "ahead",
          "ai",
          "aid",
          "aimed",
          "aiming",
          "ain",
          "air",
          "aircraft",
          "airline",
          "airlines",
          "airplane",
          "airplanes",
          "aka",
          "aladeen",
          "albeit",
          "alerts",
          "all",
          "allies",
          "allocating",
          "allocation",
          "allowed",
          "allowing",
          "allows",
          "ally",
          "almasria",
          "almost",
          "alone"
         ],
         "xaxis": "x",
         "y": {
          "bdata": "BAYBAQEBAQEVCwEBAQEBAQEFAwEIAQIBAgEBAQEIAgEBAQEBAQECAgEDAQECAQEBAQEBAQEBAQEHAgEBAQEBAgECBgEBAQIEAQMBAQIHAwECAQIBAQEBAQIBCQEBAQEBAQECAQMCAgECAQEBBAEBAQICAQcBAQEBAQEBAQEBAQEMBAQBAQEBAQEBAgEBAgIBAQEBAgIBAgEBAwEBAQECAQUBAQEBAgEBAQEBAwIGAUgEAQMBAQEBAQIBAQEBAQEFAQEBAQEBAQMBAwEDAgEDAQEEAQIFCwEBAQEBAQMCBAEBAwIKAQEBAQEBAQEBAQEHAQEBAwIBAwMCAQEBARsBAQ4HAQEBAQEBAQEBDAEEAQEBAgUBAQECAwIBBgEBAQEBAmEHAQYDAQMCAwYE",
          "dtype": "i1"
         },
         "yaxis": "y"
        }
       ],
       "layout": {
        "barmode": "relative",
        "legend": {
         "tracegroupgap": 0
        },
        "template": {
         "data": {
          "bar": [
           {
            "error_x": {
             "color": "#2a3f5f"
            },
            "error_y": {
             "color": "#2a3f5f"
            },
            "marker": {
             "line": {
              "color": "#E5ECF6",
              "width": 0.5
             },
             "pattern": {
              "fillmode": "overlay",
              "size": 10,
              "solidity": 0.2
             }
            },
            "type": "bar"
           }
          ],
          "barpolar": [
           {
            "marker": {
             "line": {
              "color": "#E5ECF6",
              "width": 0.5
             },
             "pattern": {
              "fillmode": "overlay",
              "size": 10,
              "solidity": 0.2
             }
            },
            "type": "barpolar"
           }
          ],
          "carpet": [
           {
            "aaxis": {
             "endlinecolor": "#2a3f5f",
             "gridcolor": "white",
             "linecolor": "white",
             "minorgridcolor": "white",
             "startlinecolor": "#2a3f5f"
            },
            "baxis": {
             "endlinecolor": "#2a3f5f",
             "gridcolor": "white",
             "linecolor": "white",
             "minorgridcolor": "white",
             "startlinecolor": "#2a3f5f"
            },
            "type": "carpet"
           }
          ],
          "choropleth": [
           {
            "colorbar": {
             "outlinewidth": 0,
             "ticks": ""
            },
            "type": "choropleth"
           }
          ],
          "contour": [
           {
            "colorbar": {
             "outlinewidth": 0,
             "ticks": ""
            },
            "colorscale": [
             [
              0,
              "#0d0887"
             ],
             [
              0.1111111111111111,
              "#46039f"
             ],
             [
              0.2222222222222222,
              "#7201a8"
             ],
             [
              0.3333333333333333,
              "#9c179e"
             ],
             [
              0.4444444444444444,
              "#bd3786"
             ],
             [
              0.5555555555555556,
              "#d8576b"
             ],
             [
              0.6666666666666666,
              "#ed7953"
             ],
             [
              0.7777777777777778,
              "#fb9f3a"
             ],
             [
              0.8888888888888888,
              "#fdca26"
             ],
             [
              1,
              "#f0f921"
             ]
            ],
            "type": "contour"
           }
          ],
          "contourcarpet": [
           {
            "colorbar": {
             "outlinewidth": 0,
             "ticks": ""
            },
            "type": "contourcarpet"
           }
          ],
          "heatmap": [
           {
            "colorbar": {
             "outlinewidth": 0,
             "ticks": ""
            },
            "colorscale": [
             [
              0,
              "#0d0887"
             ],
             [
              0.1111111111111111,
              "#46039f"
             ],
             [
              0.2222222222222222,
              "#7201a8"
             ],
             [
              0.3333333333333333,
              "#9c179e"
             ],
             [
              0.4444444444444444,
              "#bd3786"
             ],
             [
              0.5555555555555556,
              "#d8576b"
             ],
             [
              0.6666666666666666,
              "#ed7953"
             ],
             [
              0.7777777777777778,
              "#fb9f3a"
             ],
             [
              0.8888888888888888,
              "#fdca26"
             ],
             [
              1,
              "#f0f921"
             ]
            ],
            "type": "heatmap"
           }
          ],
          "histogram": [
           {
            "marker": {
             "pattern": {
              "fillmode": "overlay",
              "size": 10,
              "solidity": 0.2
             }
            },
            "type": "histogram"
           }
          ],
          "histogram2d": [
           {
            "colorbar": {
             "outlinewidth": 0,
             "ticks": ""
            },
            "colorscale": [
             [
              0,
              "#0d0887"
             ],
             [
              0.1111111111111111,
              "#46039f"
             ],
             [
              0.2222222222222222,
              "#7201a8"
             ],
             [
              0.3333333333333333,
              "#9c179e"
             ],
             [
              0.4444444444444444,
              "#bd3786"
             ],
             [
              0.5555555555555556,
              "#d8576b"
             ],
             [
              0.6666666666666666,
              "#ed7953"
             ],
             [
              0.7777777777777778,
              "#fb9f3a"
             ],
             [
              0.8888888888888888,
              "#fdca26"
             ],
             [
              1,
              "#f0f921"
             ]
            ],
            "type": "histogram2d"
           }
          ],
          "histogram2dcontour": [
           {
            "colorbar": {
             "outlinewidth": 0,
             "ticks": ""
            },
            "colorscale": [
             [
              0,
              "#0d0887"
             ],
             [
              0.1111111111111111,
              "#46039f"
             ],
             [
              0.2222222222222222,
              "#7201a8"
             ],
             [
              0.3333333333333333,
              "#9c179e"
             ],
             [
              0.4444444444444444,
              "#bd3786"
             ],
             [
              0.5555555555555556,
              "#d8576b"
             ],
             [
              0.6666666666666666,
              "#ed7953"
             ],
             [
              0.7777777777777778,
              "#fb9f3a"
             ],
             [
              0.8888888888888888,
              "#fdca26"
             ],
             [
              1,
              "#f0f921"
             ]
            ],
            "type": "histogram2dcontour"
           }
          ],
          "mesh3d": [
           {
            "colorbar": {
             "outlinewidth": 0,
             "ticks": ""
            },
            "type": "mesh3d"
           }
          ],
          "parcoords": [
           {
            "line": {
             "colorbar": {
              "outlinewidth": 0,
              "ticks": ""
             }
            },
            "type": "parcoords"
           }
          ],
          "pie": [
           {
            "automargin": true,
            "type": "pie"
           }
          ],
          "scatter": [
           {
            "fillpattern": {
             "fillmode": "overlay",
             "size": 10,
             "solidity": 0.2
            },
            "type": "scatter"
           }
          ],
          "scatter3d": [
           {
            "line": {
             "colorbar": {
              "outlinewidth": 0,
              "ticks": ""
             }
            },
            "marker": {
             "colorbar": {
              "outlinewidth": 0,
              "ticks": ""
             }
            },
            "type": "scatter3d"
           }
          ],
          "scattercarpet": [
           {
            "marker": {
             "colorbar": {
              "outlinewidth": 0,
              "ticks": ""
             }
            },
            "type": "scattercarpet"
           }
          ],
          "scattergeo": [
           {
            "marker": {
             "colorbar": {
              "outlinewidth": 0,
              "ticks": ""
             }
            },
            "type": "scattergeo"
           }
          ],
          "scattergl": [
           {
            "marker": {
             "colorbar": {
              "outlinewidth": 0,
              "ticks": ""
             }
            },
            "type": "scattergl"
           }
          ],
          "scattermap": [
           {
            "marker": {
             "colorbar": {
              "outlinewidth": 0,
              "ticks": ""
             }
            },
            "type": "scattermap"
           }
          ],
          "scattermapbox": [
           {
            "marker": {
             "colorbar": {
              "outlinewidth": 0,
              "ticks": ""
             }
            },
            "type": "scattermapbox"
           }
          ],
          "scatterpolar": [
           {
            "marker": {
             "colorbar": {
              "outlinewidth": 0,
              "ticks": ""
             }
            },
            "type": "scatterpolar"
           }
          ],
          "scatterpolargl": [
           {
            "marker": {
             "colorbar": {
              "outlinewidth": 0,
              "ticks": ""
             }
            },
            "type": "scatterpolargl"
           }
          ],
          "scatterternary": [
           {
            "marker": {
             "colorbar": {
              "outlinewidth": 0,
              "ticks": ""
             }
            },
            "type": "scatterternary"
           }
          ],
          "surface": [
           {
            "colorbar": {
             "outlinewidth": 0,
             "ticks": ""
            },
            "colorscale": [
             [
              0,
              "#0d0887"
             ],
             [
              0.1111111111111111,
              "#46039f"
             ],
             [
              0.2222222222222222,
              "#7201a8"
             ],
             [
              0.3333333333333333,
              "#9c179e"
             ],
             [
              0.4444444444444444,
              "#bd3786"
             ],
             [
              0.5555555555555556,
              "#d8576b"
             ],
             [
              0.6666666666666666,
              "#ed7953"
             ],
             [
              0.7777777777777778,
              "#fb9f3a"
             ],
             [
              0.8888888888888888,
              "#fdca26"
             ],
             [
              1,
              "#f0f921"
             ]
            ],
            "type": "surface"
           }
          ],
          "table": [
           {
            "cells": {
             "fill": {
              "color": "#EBF0F8"
             },
             "line": {
              "color": "white"
             }
            },
            "header": {
             "fill": {
              "color": "#C8D4E3"
             },
             "line": {
              "color": "white"
             }
            },
            "type": "table"
           }
          ]
         },
         "layout": {
          "annotationdefaults": {
           "arrowcolor": "#2a3f5f",
           "arrowhead": 0,
           "arrowwidth": 1
          },
          "autotypenumbers": "strict",
          "coloraxis": {
           "colorbar": {
            "outlinewidth": 0,
            "ticks": ""
           }
          },
          "colorscale": {
           "diverging": [
            [
             0,
             "#8e0152"
            ],
            [
             0.1,
             "#c51b7d"
            ],
            [
             0.2,
             "#de77ae"
            ],
            [
             0.3,
             "#f1b6da"
            ],
            [
             0.4,
             "#fde0ef"
            ],
            [
             0.5,
             "#f7f7f7"
            ],
            [
             0.6,
             "#e6f5d0"
            ],
            [
             0.7,
             "#b8e186"
            ],
            [
             0.8,
             "#7fbc41"
            ],
            [
             0.9,
             "#4d9221"
            ],
            [
             1,
             "#276419"
            ]
           ],
           "sequential": [
            [
             0,
             "#0d0887"
            ],
            [
             0.1111111111111111,
             "#46039f"
            ],
            [
             0.2222222222222222,
             "#7201a8"
            ],
            [
             0.3333333333333333,
             "#9c179e"
            ],
            [
             0.4444444444444444,
             "#bd3786"
            ],
            [
             0.5555555555555556,
             "#d8576b"
            ],
            [
             0.6666666666666666,
             "#ed7953"
            ],
            [
             0.7777777777777778,
             "#fb9f3a"
            ],
            [
             0.8888888888888888,
             "#fdca26"
            ],
            [
             1,
             "#f0f921"
            ]
           ],
           "sequentialminus": [
            [
             0,
             "#0d0887"
            ],
            [
             0.1111111111111111,
             "#46039f"
            ],
            [
             0.2222222222222222,
             "#7201a8"
            ],
            [
             0.3333333333333333,
             "#9c179e"
            ],
            [
             0.4444444444444444,
             "#bd3786"
            ],
            [
             0.5555555555555556,
             "#d8576b"
            ],
            [
             0.6666666666666666,
             "#ed7953"
            ],
            [
             0.7777777777777778,
             "#fb9f3a"
            ],
            [
             0.8888888888888888,
             "#fdca26"
            ],
            [
             1,
             "#f0f921"
            ]
           ]
          },
          "colorway": [
           "#636efa",
           "#EF553B",
           "#00cc96",
           "#ab63fa",
           "#FFA15A",
           "#19d3f3",
           "#FF6692",
           "#B6E880",
           "#FF97FF",
           "#FECB52"
          ],
          "font": {
           "color": "#2a3f5f"
          },
          "geo": {
           "bgcolor": "white",
           "lakecolor": "white",
           "landcolor": "#E5ECF6",
           "showlakes": true,
           "showland": true,
           "subunitcolor": "white"
          },
          "hoverlabel": {
           "align": "left"
          },
          "hovermode": "closest",
          "mapbox": {
           "style": "light"
          },
          "paper_bgcolor": "white",
          "plot_bgcolor": "#E5ECF6",
          "polar": {
           "angularaxis": {
            "gridcolor": "white",
            "linecolor": "white",
            "ticks": ""
           },
           "bgcolor": "#E5ECF6",
           "radialaxis": {
            "gridcolor": "white",
            "linecolor": "white",
            "ticks": ""
           }
          },
          "scene": {
           "xaxis": {
            "backgroundcolor": "#E5ECF6",
            "gridcolor": "white",
            "gridwidth": 2,
            "linecolor": "white",
            "showbackground": true,
            "ticks": "",
            "zerolinecolor": "white"
           },
           "yaxis": {
            "backgroundcolor": "#E5ECF6",
            "gridcolor": "white",
            "gridwidth": 2,
            "linecolor": "white",
            "showbackground": true,
            "ticks": "",
            "zerolinecolor": "white"
           },
           "zaxis": {
            "backgroundcolor": "#E5ECF6",
            "gridcolor": "white",
            "gridwidth": 2,
            "linecolor": "white",
            "showbackground": true,
            "ticks": "",
            "zerolinecolor": "white"
           }
          },
          "shapedefaults": {
           "line": {
            "color": "#2a3f5f"
           }
          },
          "ternary": {
           "aaxis": {
            "gridcolor": "white",
            "linecolor": "white",
            "ticks": ""
           },
           "baxis": {
            "gridcolor": "white",
            "linecolor": "white",
            "ticks": ""
           },
           "bgcolor": "#E5ECF6",
           "caxis": {
            "gridcolor": "white",
            "linecolor": "white",
            "ticks": ""
           }
          },
          "title": {
           "x": 0.05
          },
          "xaxis": {
           "automargin": true,
           "gridcolor": "white",
           "linecolor": "white",
           "ticks": "",
           "title": {
            "standoff": 15
           },
           "zerolinecolor": "white",
           "zerolinewidth": 2
          },
          "yaxis": {
           "automargin": true,
           "gridcolor": "white",
           "linecolor": "white",
           "ticks": "",
           "title": {
            "standoff": 15
           },
           "zerolinecolor": "white",
           "zerolinewidth": 2
          }
         }
        },
        "title": {
         "text": "Interactive Visualization of Word Frequency"
        },
        "xaxis": {
         "anchor": "y",
         "domain": [
          0,
          1
         ],
         "title": {
          "text": "Word"
         }
        },
        "yaxis": {
         "anchor": "x",
         "domain": [
          0,
          1
         ],
         "title": {
          "text": "Frequency"
         }
        }
       }
      }
     },
     "metadata": {},
     "output_type": "display_data"
    }
   ],
   "source": [
    "# Exercise 12\n",
    "import plotly.express as pltly\n",
    "\n",
    "# Calculate term frequencies the same way as part 1\n",
    "term_frequencies = []\n",
    "for j in range(0,df_counts.shape[1]):\n",
    "    term_frequencies.append(df_counts[:, j].sum())\n",
    "\n",
    "pltly.bar(\n",
    "    x=count_vect.get_feature_names_out()[:300], \n",
    "    y=term_frequencies[:300],\n",
    "    labels={'x':'Word', 'y':'Frequency'},\n",
    "    title='Interactive Visualization of Word Frequency'\n",
    ")\n"
   ]
  },
  {
   "cell_type": "code",
   "execution_count": 276,
   "metadata": {},
   "outputs": [
    {
     "data": {
      "application/vnd.plotly.v1+json": {
       "config": {
        "plotlyServerURL": "https://plot.ly"
       },
       "data": [
        {
         "hovertemplate": "Word=%{x}<br>Frequency=%{y}<extra></extra>",
         "legendgroup": "",
         "marker": {
          "color": "#636efa",
          "pattern": {
           "shape": ""
          }
         },
         "name": "",
         "orientation": "v",
         "showlegend": false,
         "textposition": "auto",
         "type": "bar",
         "x": [
          "00",
          "000",
          "01378",
          "02",
          "027",
          "03",
          "06",
          "08",
          "10",
          "100",
          "1000",
          "10000",
          "100k",
          "100x",
          "10k",
          "10ks",
          "10yr",
          "11",
          "116",
          "118",
          "12",
          "1242",
          "125",
          "12855584",
          "13",
          "14",
          "140",
          "145",
          "14th",
          "15"
         ],
         "xaxis": "x",
         "y": {
          "bdata": "BAYBAQEBAQEVCwEBAQEBAQEFAwEIAQIBAgEBAQEI",
          "dtype": "i1"
         },
         "yaxis": "y"
        }
       ],
       "layout": {
        "barmode": "relative",
        "legend": {
         "tracegroupgap": 0
        },
        "template": {
         "data": {
          "bar": [
           {
            "error_x": {
             "color": "#2a3f5f"
            },
            "error_y": {
             "color": "#2a3f5f"
            },
            "marker": {
             "line": {
              "color": "#E5ECF6",
              "width": 0.5
             },
             "pattern": {
              "fillmode": "overlay",
              "size": 10,
              "solidity": 0.2
             }
            },
            "type": "bar"
           }
          ],
          "barpolar": [
           {
            "marker": {
             "line": {
              "color": "#E5ECF6",
              "width": 0.5
             },
             "pattern": {
              "fillmode": "overlay",
              "size": 10,
              "solidity": 0.2
             }
            },
            "type": "barpolar"
           }
          ],
          "carpet": [
           {
            "aaxis": {
             "endlinecolor": "#2a3f5f",
             "gridcolor": "white",
             "linecolor": "white",
             "minorgridcolor": "white",
             "startlinecolor": "#2a3f5f"
            },
            "baxis": {
             "endlinecolor": "#2a3f5f",
             "gridcolor": "white",
             "linecolor": "white",
             "minorgridcolor": "white",
             "startlinecolor": "#2a3f5f"
            },
            "type": "carpet"
           }
          ],
          "choropleth": [
           {
            "colorbar": {
             "outlinewidth": 0,
             "ticks": ""
            },
            "type": "choropleth"
           }
          ],
          "contour": [
           {
            "colorbar": {
             "outlinewidth": 0,
             "ticks": ""
            },
            "colorscale": [
             [
              0,
              "#0d0887"
             ],
             [
              0.1111111111111111,
              "#46039f"
             ],
             [
              0.2222222222222222,
              "#7201a8"
             ],
             [
              0.3333333333333333,
              "#9c179e"
             ],
             [
              0.4444444444444444,
              "#bd3786"
             ],
             [
              0.5555555555555556,
              "#d8576b"
             ],
             [
              0.6666666666666666,
              "#ed7953"
             ],
             [
              0.7777777777777778,
              "#fb9f3a"
             ],
             [
              0.8888888888888888,
              "#fdca26"
             ],
             [
              1,
              "#f0f921"
             ]
            ],
            "type": "contour"
           }
          ],
          "contourcarpet": [
           {
            "colorbar": {
             "outlinewidth": 0,
             "ticks": ""
            },
            "type": "contourcarpet"
           }
          ],
          "heatmap": [
           {
            "colorbar": {
             "outlinewidth": 0,
             "ticks": ""
            },
            "colorscale": [
             [
              0,
              "#0d0887"
             ],
             [
              0.1111111111111111,
              "#46039f"
             ],
             [
              0.2222222222222222,
              "#7201a8"
             ],
             [
              0.3333333333333333,
              "#9c179e"
             ],
             [
              0.4444444444444444,
              "#bd3786"
             ],
             [
              0.5555555555555556,
              "#d8576b"
             ],
             [
              0.6666666666666666,
              "#ed7953"
             ],
             [
              0.7777777777777778,
              "#fb9f3a"
             ],
             [
              0.8888888888888888,
              "#fdca26"
             ],
             [
              1,
              "#f0f921"
             ]
            ],
            "type": "heatmap"
           }
          ],
          "histogram": [
           {
            "marker": {
             "pattern": {
              "fillmode": "overlay",
              "size": 10,
              "solidity": 0.2
             }
            },
            "type": "histogram"
           }
          ],
          "histogram2d": [
           {
            "colorbar": {
             "outlinewidth": 0,
             "ticks": ""
            },
            "colorscale": [
             [
              0,
              "#0d0887"
             ],
             [
              0.1111111111111111,
              "#46039f"
             ],
             [
              0.2222222222222222,
              "#7201a8"
             ],
             [
              0.3333333333333333,
              "#9c179e"
             ],
             [
              0.4444444444444444,
              "#bd3786"
             ],
             [
              0.5555555555555556,
              "#d8576b"
             ],
             [
              0.6666666666666666,
              "#ed7953"
             ],
             [
              0.7777777777777778,
              "#fb9f3a"
             ],
             [
              0.8888888888888888,
              "#fdca26"
             ],
             [
              1,
              "#f0f921"
             ]
            ],
            "type": "histogram2d"
           }
          ],
          "histogram2dcontour": [
           {
            "colorbar": {
             "outlinewidth": 0,
             "ticks": ""
            },
            "colorscale": [
             [
              0,
              "#0d0887"
             ],
             [
              0.1111111111111111,
              "#46039f"
             ],
             [
              0.2222222222222222,
              "#7201a8"
             ],
             [
              0.3333333333333333,
              "#9c179e"
             ],
             [
              0.4444444444444444,
              "#bd3786"
             ],
             [
              0.5555555555555556,
              "#d8576b"
             ],
             [
              0.6666666666666666,
              "#ed7953"
             ],
             [
              0.7777777777777778,
              "#fb9f3a"
             ],
             [
              0.8888888888888888,
              "#fdca26"
             ],
             [
              1,
              "#f0f921"
             ]
            ],
            "type": "histogram2dcontour"
           }
          ],
          "mesh3d": [
           {
            "colorbar": {
             "outlinewidth": 0,
             "ticks": ""
            },
            "type": "mesh3d"
           }
          ],
          "parcoords": [
           {
            "line": {
             "colorbar": {
              "outlinewidth": 0,
              "ticks": ""
             }
            },
            "type": "parcoords"
           }
          ],
          "pie": [
           {
            "automargin": true,
            "type": "pie"
           }
          ],
          "scatter": [
           {
            "fillpattern": {
             "fillmode": "overlay",
             "size": 10,
             "solidity": 0.2
            },
            "type": "scatter"
           }
          ],
          "scatter3d": [
           {
            "line": {
             "colorbar": {
              "outlinewidth": 0,
              "ticks": ""
             }
            },
            "marker": {
             "colorbar": {
              "outlinewidth": 0,
              "ticks": ""
             }
            },
            "type": "scatter3d"
           }
          ],
          "scattercarpet": [
           {
            "marker": {
             "colorbar": {
              "outlinewidth": 0,
              "ticks": ""
             }
            },
            "type": "scattercarpet"
           }
          ],
          "scattergeo": [
           {
            "marker": {
             "colorbar": {
              "outlinewidth": 0,
              "ticks": ""
             }
            },
            "type": "scattergeo"
           }
          ],
          "scattergl": [
           {
            "marker": {
             "colorbar": {
              "outlinewidth": 0,
              "ticks": ""
             }
            },
            "type": "scattergl"
           }
          ],
          "scattermap": [
           {
            "marker": {
             "colorbar": {
              "outlinewidth": 0,
              "ticks": ""
             }
            },
            "type": "scattermap"
           }
          ],
          "scattermapbox": [
           {
            "marker": {
             "colorbar": {
              "outlinewidth": 0,
              "ticks": ""
             }
            },
            "type": "scattermapbox"
           }
          ],
          "scatterpolar": [
           {
            "marker": {
             "colorbar": {
              "outlinewidth": 0,
              "ticks": ""
             }
            },
            "type": "scatterpolar"
           }
          ],
          "scatterpolargl": [
           {
            "marker": {
             "colorbar": {
              "outlinewidth": 0,
              "ticks": ""
             }
            },
            "type": "scatterpolargl"
           }
          ],
          "scatterternary": [
           {
            "marker": {
             "colorbar": {
              "outlinewidth": 0,
              "ticks": ""
             }
            },
            "type": "scatterternary"
           }
          ],
          "surface": [
           {
            "colorbar": {
             "outlinewidth": 0,
             "ticks": ""
            },
            "colorscale": [
             [
              0,
              "#0d0887"
             ],
             [
              0.1111111111111111,
              "#46039f"
             ],
             [
              0.2222222222222222,
              "#7201a8"
             ],
             [
              0.3333333333333333,
              "#9c179e"
             ],
             [
              0.4444444444444444,
              "#bd3786"
             ],
             [
              0.5555555555555556,
              "#d8576b"
             ],
             [
              0.6666666666666666,
              "#ed7953"
             ],
             [
              0.7777777777777778,
              "#fb9f3a"
             ],
             [
              0.8888888888888888,
              "#fdca26"
             ],
             [
              1,
              "#f0f921"
             ]
            ],
            "type": "surface"
           }
          ],
          "table": [
           {
            "cells": {
             "fill": {
              "color": "#EBF0F8"
             },
             "line": {
              "color": "white"
             }
            },
            "header": {
             "fill": {
              "color": "#C8D4E3"
             },
             "line": {
              "color": "white"
             }
            },
            "type": "table"
           }
          ]
         },
         "layout": {
          "annotationdefaults": {
           "arrowcolor": "#2a3f5f",
           "arrowhead": 0,
           "arrowwidth": 1
          },
          "autotypenumbers": "strict",
          "coloraxis": {
           "colorbar": {
            "outlinewidth": 0,
            "ticks": ""
           }
          },
          "colorscale": {
           "diverging": [
            [
             0,
             "#8e0152"
            ],
            [
             0.1,
             "#c51b7d"
            ],
            [
             0.2,
             "#de77ae"
            ],
            [
             0.3,
             "#f1b6da"
            ],
            [
             0.4,
             "#fde0ef"
            ],
            [
             0.5,
             "#f7f7f7"
            ],
            [
             0.6,
             "#e6f5d0"
            ],
            [
             0.7,
             "#b8e186"
            ],
            [
             0.8,
             "#7fbc41"
            ],
            [
             0.9,
             "#4d9221"
            ],
            [
             1,
             "#276419"
            ]
           ],
           "sequential": [
            [
             0,
             "#0d0887"
            ],
            [
             0.1111111111111111,
             "#46039f"
            ],
            [
             0.2222222222222222,
             "#7201a8"
            ],
            [
             0.3333333333333333,
             "#9c179e"
            ],
            [
             0.4444444444444444,
             "#bd3786"
            ],
            [
             0.5555555555555556,
             "#d8576b"
            ],
            [
             0.6666666666666666,
             "#ed7953"
            ],
            [
             0.7777777777777778,
             "#fb9f3a"
            ],
            [
             0.8888888888888888,
             "#fdca26"
            ],
            [
             1,
             "#f0f921"
            ]
           ],
           "sequentialminus": [
            [
             0,
             "#0d0887"
            ],
            [
             0.1111111111111111,
             "#46039f"
            ],
            [
             0.2222222222222222,
             "#7201a8"
            ],
            [
             0.3333333333333333,
             "#9c179e"
            ],
            [
             0.4444444444444444,
             "#bd3786"
            ],
            [
             0.5555555555555556,
             "#d8576b"
            ],
            [
             0.6666666666666666,
             "#ed7953"
            ],
            [
             0.7777777777777778,
             "#fb9f3a"
            ],
            [
             0.8888888888888888,
             "#fdca26"
            ],
            [
             1,
             "#f0f921"
            ]
           ]
          },
          "colorway": [
           "#636efa",
           "#EF553B",
           "#00cc96",
           "#ab63fa",
           "#FFA15A",
           "#19d3f3",
           "#FF6692",
           "#B6E880",
           "#FF97FF",
           "#FECB52"
          ],
          "font": {
           "color": "#2a3f5f"
          },
          "geo": {
           "bgcolor": "white",
           "lakecolor": "white",
           "landcolor": "#E5ECF6",
           "showlakes": true,
           "showland": true,
           "subunitcolor": "white"
          },
          "hoverlabel": {
           "align": "left"
          },
          "hovermode": "closest",
          "mapbox": {
           "style": "light"
          },
          "paper_bgcolor": "white",
          "plot_bgcolor": "#E5ECF6",
          "polar": {
           "angularaxis": {
            "gridcolor": "white",
            "linecolor": "white",
            "ticks": ""
           },
           "bgcolor": "#E5ECF6",
           "radialaxis": {
            "gridcolor": "white",
            "linecolor": "white",
            "ticks": ""
           }
          },
          "scene": {
           "xaxis": {
            "backgroundcolor": "#E5ECF6",
            "gridcolor": "white",
            "gridwidth": 2,
            "linecolor": "white",
            "showbackground": true,
            "ticks": "",
            "zerolinecolor": "white"
           },
           "yaxis": {
            "backgroundcolor": "#E5ECF6",
            "gridcolor": "white",
            "gridwidth": 2,
            "linecolor": "white",
            "showbackground": true,
            "ticks": "",
            "zerolinecolor": "white"
           },
           "zaxis": {
            "backgroundcolor": "#E5ECF6",
            "gridcolor": "white",
            "gridwidth": 2,
            "linecolor": "white",
            "showbackground": true,
            "ticks": "",
            "zerolinecolor": "white"
           }
          },
          "shapedefaults": {
           "line": {
            "color": "#2a3f5f"
           }
          },
          "ternary": {
           "aaxis": {
            "gridcolor": "white",
            "linecolor": "white",
            "ticks": ""
           },
           "baxis": {
            "gridcolor": "white",
            "linecolor": "white",
            "ticks": ""
           },
           "bgcolor": "#E5ECF6",
           "caxis": {
            "gridcolor": "white",
            "linecolor": "white",
            "ticks": ""
           }
          },
          "title": {
           "x": 0.05
          },
          "xaxis": {
           "automargin": true,
           "gridcolor": "white",
           "linecolor": "white",
           "ticks": "",
           "title": {
            "standoff": 15
           },
           "zerolinecolor": "white",
           "zerolinewidth": 2
          },
          "yaxis": {
           "automargin": true,
           "gridcolor": "white",
           "linecolor": "white",
           "ticks": "",
           "title": {
            "standoff": 15
           },
           "zerolinecolor": "white",
           "zerolinewidth": 2
          }
         }
        },
        "title": {
         "text": "Interactive Visualization of the First 30 Words Alphabetically Sorted"
        },
        "xaxis": {
         "anchor": "y",
         "domain": [
          0,
          1
         ],
         "title": {
          "text": "Word"
         }
        },
        "yaxis": {
         "anchor": "x",
         "domain": [
          0,
          1
         ],
         "title": {
          "text": "Frequency"
         }
        }
       }
      }
     },
     "metadata": {},
     "output_type": "display_data"
    }
   ],
   "source": [
    "# Exercise 13\n",
    "# I'll get the first 30 terms alphabetically.\n",
    "n = 30 # Select first 30 terms for visualization\n",
    "terms_freq = list(zip(count_vect.get_feature_names_out(), term_frequencies)) # Zip terms and frequencies together so they're treated as a group\n",
    "terms_freq.sort(key=lambda x: x[0]) # Sort alphabetically\n",
    "top_n_terms_freq = terms_freq[:n] # Only keep the first n terms\n",
    "terms, frequencies = zip(*top_n_terms_freq) # Unzip the terms and frequencies so they're no longer grouped\n",
    "\n",
    "pltly.bar(\n",
    "    x=terms, \n",
    "    y=frequencies, \n",
    "    labels={'x':'Word', 'y':'Frequency'},\n",
    "    title='Interactive Visualization of the First ' + str(n) + ' Words Alphabetically Sorted'\n",
    ")"
   ]
  },
  {
   "cell_type": "code",
   "execution_count": 277,
   "metadata": {},
   "outputs": [
    {
     "data": {
      "application/vnd.plotly.v1+json": {
       "config": {
        "plotlyServerURL": "https://plot.ly"
       },
       "data": [
        {
         "hovertemplate": "Word=%{x}<br>Frequency=%{y}<extra></extra>",
         "legendgroup": "",
         "marker": {
          "color": "#636efa",
          "pattern": {
           "shape": ""
          }
         },
         "name": "",
         "orientation": "v",
         "showlegend": false,
         "textposition": "auto",
         "type": "bar",
         "x": [
          "ya",
          "yahoo",
          "yall",
          "yamana",
          "yea",
          "yeah",
          "year",
          "years",
          "yelling",
          "yes",
          "yesterday",
          "yet",
          "yield",
          "yields",
          "yikes",
          "yippee",
          "yo",
          "you",
          "young",
          "your",
          "yours",
          "yourself",
          "yourselves",
          "youtube",
          "yoyo",
          "yup",
          "zero",
          "zgld",
          "zone",
          "zsil"
         ],
         "xaxis": "x",
         "y": {
          "bdata": "AQABAAEAAQACAAkAFQAbAAEABgAEAAgAAwAIAAEAAgAFAMMABAAwAAIAAwABAAEAAQACAAUAAQABAAEA",
          "dtype": "i2"
         },
         "yaxis": "y"
        }
       ],
       "layout": {
        "barmode": "relative",
        "legend": {
         "tracegroupgap": 0
        },
        "template": {
         "data": {
          "bar": [
           {
            "error_x": {
             "color": "#2a3f5f"
            },
            "error_y": {
             "color": "#2a3f5f"
            },
            "marker": {
             "line": {
              "color": "#E5ECF6",
              "width": 0.5
             },
             "pattern": {
              "fillmode": "overlay",
              "size": 10,
              "solidity": 0.2
             }
            },
            "type": "bar"
           }
          ],
          "barpolar": [
           {
            "marker": {
             "line": {
              "color": "#E5ECF6",
              "width": 0.5
             },
             "pattern": {
              "fillmode": "overlay",
              "size": 10,
              "solidity": 0.2
             }
            },
            "type": "barpolar"
           }
          ],
          "carpet": [
           {
            "aaxis": {
             "endlinecolor": "#2a3f5f",
             "gridcolor": "white",
             "linecolor": "white",
             "minorgridcolor": "white",
             "startlinecolor": "#2a3f5f"
            },
            "baxis": {
             "endlinecolor": "#2a3f5f",
             "gridcolor": "white",
             "linecolor": "white",
             "minorgridcolor": "white",
             "startlinecolor": "#2a3f5f"
            },
            "type": "carpet"
           }
          ],
          "choropleth": [
           {
            "colorbar": {
             "outlinewidth": 0,
             "ticks": ""
            },
            "type": "choropleth"
           }
          ],
          "contour": [
           {
            "colorbar": {
             "outlinewidth": 0,
             "ticks": ""
            },
            "colorscale": [
             [
              0,
              "#0d0887"
             ],
             [
              0.1111111111111111,
              "#46039f"
             ],
             [
              0.2222222222222222,
              "#7201a8"
             ],
             [
              0.3333333333333333,
              "#9c179e"
             ],
             [
              0.4444444444444444,
              "#bd3786"
             ],
             [
              0.5555555555555556,
              "#d8576b"
             ],
             [
              0.6666666666666666,
              "#ed7953"
             ],
             [
              0.7777777777777778,
              "#fb9f3a"
             ],
             [
              0.8888888888888888,
              "#fdca26"
             ],
             [
              1,
              "#f0f921"
             ]
            ],
            "type": "contour"
           }
          ],
          "contourcarpet": [
           {
            "colorbar": {
             "outlinewidth": 0,
             "ticks": ""
            },
            "type": "contourcarpet"
           }
          ],
          "heatmap": [
           {
            "colorbar": {
             "outlinewidth": 0,
             "ticks": ""
            },
            "colorscale": [
             [
              0,
              "#0d0887"
             ],
             [
              0.1111111111111111,
              "#46039f"
             ],
             [
              0.2222222222222222,
              "#7201a8"
             ],
             [
              0.3333333333333333,
              "#9c179e"
             ],
             [
              0.4444444444444444,
              "#bd3786"
             ],
             [
              0.5555555555555556,
              "#d8576b"
             ],
             [
              0.6666666666666666,
              "#ed7953"
             ],
             [
              0.7777777777777778,
              "#fb9f3a"
             ],
             [
              0.8888888888888888,
              "#fdca26"
             ],
             [
              1,
              "#f0f921"
             ]
            ],
            "type": "heatmap"
           }
          ],
          "histogram": [
           {
            "marker": {
             "pattern": {
              "fillmode": "overlay",
              "size": 10,
              "solidity": 0.2
             }
            },
            "type": "histogram"
           }
          ],
          "histogram2d": [
           {
            "colorbar": {
             "outlinewidth": 0,
             "ticks": ""
            },
            "colorscale": [
             [
              0,
              "#0d0887"
             ],
             [
              0.1111111111111111,
              "#46039f"
             ],
             [
              0.2222222222222222,
              "#7201a8"
             ],
             [
              0.3333333333333333,
              "#9c179e"
             ],
             [
              0.4444444444444444,
              "#bd3786"
             ],
             [
              0.5555555555555556,
              "#d8576b"
             ],
             [
              0.6666666666666666,
              "#ed7953"
             ],
             [
              0.7777777777777778,
              "#fb9f3a"
             ],
             [
              0.8888888888888888,
              "#fdca26"
             ],
             [
              1,
              "#f0f921"
             ]
            ],
            "type": "histogram2d"
           }
          ],
          "histogram2dcontour": [
           {
            "colorbar": {
             "outlinewidth": 0,
             "ticks": ""
            },
            "colorscale": [
             [
              0,
              "#0d0887"
             ],
             [
              0.1111111111111111,
              "#46039f"
             ],
             [
              0.2222222222222222,
              "#7201a8"
             ],
             [
              0.3333333333333333,
              "#9c179e"
             ],
             [
              0.4444444444444444,
              "#bd3786"
             ],
             [
              0.5555555555555556,
              "#d8576b"
             ],
             [
              0.6666666666666666,
              "#ed7953"
             ],
             [
              0.7777777777777778,
              "#fb9f3a"
             ],
             [
              0.8888888888888888,
              "#fdca26"
             ],
             [
              1,
              "#f0f921"
             ]
            ],
            "type": "histogram2dcontour"
           }
          ],
          "mesh3d": [
           {
            "colorbar": {
             "outlinewidth": 0,
             "ticks": ""
            },
            "type": "mesh3d"
           }
          ],
          "parcoords": [
           {
            "line": {
             "colorbar": {
              "outlinewidth": 0,
              "ticks": ""
             }
            },
            "type": "parcoords"
           }
          ],
          "pie": [
           {
            "automargin": true,
            "type": "pie"
           }
          ],
          "scatter": [
           {
            "fillpattern": {
             "fillmode": "overlay",
             "size": 10,
             "solidity": 0.2
            },
            "type": "scatter"
           }
          ],
          "scatter3d": [
           {
            "line": {
             "colorbar": {
              "outlinewidth": 0,
              "ticks": ""
             }
            },
            "marker": {
             "colorbar": {
              "outlinewidth": 0,
              "ticks": ""
             }
            },
            "type": "scatter3d"
           }
          ],
          "scattercarpet": [
           {
            "marker": {
             "colorbar": {
              "outlinewidth": 0,
              "ticks": ""
             }
            },
            "type": "scattercarpet"
           }
          ],
          "scattergeo": [
           {
            "marker": {
             "colorbar": {
              "outlinewidth": 0,
              "ticks": ""
             }
            },
            "type": "scattergeo"
           }
          ],
          "scattergl": [
           {
            "marker": {
             "colorbar": {
              "outlinewidth": 0,
              "ticks": ""
             }
            },
            "type": "scattergl"
           }
          ],
          "scattermap": [
           {
            "marker": {
             "colorbar": {
              "outlinewidth": 0,
              "ticks": ""
             }
            },
            "type": "scattermap"
           }
          ],
          "scattermapbox": [
           {
            "marker": {
             "colorbar": {
              "outlinewidth": 0,
              "ticks": ""
             }
            },
            "type": "scattermapbox"
           }
          ],
          "scatterpolar": [
           {
            "marker": {
             "colorbar": {
              "outlinewidth": 0,
              "ticks": ""
             }
            },
            "type": "scatterpolar"
           }
          ],
          "scatterpolargl": [
           {
            "marker": {
             "colorbar": {
              "outlinewidth": 0,
              "ticks": ""
             }
            },
            "type": "scatterpolargl"
           }
          ],
          "scatterternary": [
           {
            "marker": {
             "colorbar": {
              "outlinewidth": 0,
              "ticks": ""
             }
            },
            "type": "scatterternary"
           }
          ],
          "surface": [
           {
            "colorbar": {
             "outlinewidth": 0,
             "ticks": ""
            },
            "colorscale": [
             [
              0,
              "#0d0887"
             ],
             [
              0.1111111111111111,
              "#46039f"
             ],
             [
              0.2222222222222222,
              "#7201a8"
             ],
             [
              0.3333333333333333,
              "#9c179e"
             ],
             [
              0.4444444444444444,
              "#bd3786"
             ],
             [
              0.5555555555555556,
              "#d8576b"
             ],
             [
              0.6666666666666666,
              "#ed7953"
             ],
             [
              0.7777777777777778,
              "#fb9f3a"
             ],
             [
              0.8888888888888888,
              "#fdca26"
             ],
             [
              1,
              "#f0f921"
             ]
            ],
            "type": "surface"
           }
          ],
          "table": [
           {
            "cells": {
             "fill": {
              "color": "#EBF0F8"
             },
             "line": {
              "color": "white"
             }
            },
            "header": {
             "fill": {
              "color": "#C8D4E3"
             },
             "line": {
              "color": "white"
             }
            },
            "type": "table"
           }
          ]
         },
         "layout": {
          "annotationdefaults": {
           "arrowcolor": "#2a3f5f",
           "arrowhead": 0,
           "arrowwidth": 1
          },
          "autotypenumbers": "strict",
          "coloraxis": {
           "colorbar": {
            "outlinewidth": 0,
            "ticks": ""
           }
          },
          "colorscale": {
           "diverging": [
            [
             0,
             "#8e0152"
            ],
            [
             0.1,
             "#c51b7d"
            ],
            [
             0.2,
             "#de77ae"
            ],
            [
             0.3,
             "#f1b6da"
            ],
            [
             0.4,
             "#fde0ef"
            ],
            [
             0.5,
             "#f7f7f7"
            ],
            [
             0.6,
             "#e6f5d0"
            ],
            [
             0.7,
             "#b8e186"
            ],
            [
             0.8,
             "#7fbc41"
            ],
            [
             0.9,
             "#4d9221"
            ],
            [
             1,
             "#276419"
            ]
           ],
           "sequential": [
            [
             0,
             "#0d0887"
            ],
            [
             0.1111111111111111,
             "#46039f"
            ],
            [
             0.2222222222222222,
             "#7201a8"
            ],
            [
             0.3333333333333333,
             "#9c179e"
            ],
            [
             0.4444444444444444,
             "#bd3786"
            ],
            [
             0.5555555555555556,
             "#d8576b"
            ],
            [
             0.6666666666666666,
             "#ed7953"
            ],
            [
             0.7777777777777778,
             "#fb9f3a"
            ],
            [
             0.8888888888888888,
             "#fdca26"
            ],
            [
             1,
             "#f0f921"
            ]
           ],
           "sequentialminus": [
            [
             0,
             "#0d0887"
            ],
            [
             0.1111111111111111,
             "#46039f"
            ],
            [
             0.2222222222222222,
             "#7201a8"
            ],
            [
             0.3333333333333333,
             "#9c179e"
            ],
            [
             0.4444444444444444,
             "#bd3786"
            ],
            [
             0.5555555555555556,
             "#d8576b"
            ],
            [
             0.6666666666666666,
             "#ed7953"
            ],
            [
             0.7777777777777778,
             "#fb9f3a"
            ],
            [
             0.8888888888888888,
             "#fdca26"
            ],
            [
             1,
             "#f0f921"
            ]
           ]
          },
          "colorway": [
           "#636efa",
           "#EF553B",
           "#00cc96",
           "#ab63fa",
           "#FFA15A",
           "#19d3f3",
           "#FF6692",
           "#B6E880",
           "#FF97FF",
           "#FECB52"
          ],
          "font": {
           "color": "#2a3f5f"
          },
          "geo": {
           "bgcolor": "white",
           "lakecolor": "white",
           "landcolor": "#E5ECF6",
           "showlakes": true,
           "showland": true,
           "subunitcolor": "white"
          },
          "hoverlabel": {
           "align": "left"
          },
          "hovermode": "closest",
          "mapbox": {
           "style": "light"
          },
          "paper_bgcolor": "white",
          "plot_bgcolor": "#E5ECF6",
          "polar": {
           "angularaxis": {
            "gridcolor": "white",
            "linecolor": "white",
            "ticks": ""
           },
           "bgcolor": "#E5ECF6",
           "radialaxis": {
            "gridcolor": "white",
            "linecolor": "white",
            "ticks": ""
           }
          },
          "scene": {
           "xaxis": {
            "backgroundcolor": "#E5ECF6",
            "gridcolor": "white",
            "gridwidth": 2,
            "linecolor": "white",
            "showbackground": true,
            "ticks": "",
            "zerolinecolor": "white"
           },
           "yaxis": {
            "backgroundcolor": "#E5ECF6",
            "gridcolor": "white",
            "gridwidth": 2,
            "linecolor": "white",
            "showbackground": true,
            "ticks": "",
            "zerolinecolor": "white"
           },
           "zaxis": {
            "backgroundcolor": "#E5ECF6",
            "gridcolor": "white",
            "gridwidth": 2,
            "linecolor": "white",
            "showbackground": true,
            "ticks": "",
            "zerolinecolor": "white"
           }
          },
          "shapedefaults": {
           "line": {
            "color": "#2a3f5f"
           }
          },
          "ternary": {
           "aaxis": {
            "gridcolor": "white",
            "linecolor": "white",
            "ticks": ""
           },
           "baxis": {
            "gridcolor": "white",
            "linecolor": "white",
            "ticks": ""
           },
           "bgcolor": "#E5ECF6",
           "caxis": {
            "gridcolor": "white",
            "linecolor": "white",
            "ticks": ""
           }
          },
          "title": {
           "x": 0.05
          },
          "xaxis": {
           "automargin": true,
           "gridcolor": "white",
           "linecolor": "white",
           "ticks": "",
           "title": {
            "standoff": 15
           },
           "zerolinecolor": "white",
           "zerolinewidth": 2
          },
          "yaxis": {
           "automargin": true,
           "gridcolor": "white",
           "linecolor": "white",
           "ticks": "",
           "title": {
            "standoff": 15
           },
           "zerolinecolor": "white",
           "zerolinewidth": 2
          }
         }
        },
        "title": {
         "text": "Interactive Visualization of the Last 30 Words Alphabetically Sorted"
        },
        "xaxis": {
         "anchor": "y",
         "domain": [
          0,
          1
         ],
         "title": {
          "text": "Word"
         }
        },
        "yaxis": {
         "anchor": "x",
         "domain": [
          0,
          1
         ],
         "title": {
          "text": "Frequency"
         }
        }
       }
      }
     },
     "metadata": {},
     "output_type": "display_data"
    }
   ],
   "source": [
    "# Exercise 13 part 2\n",
    "# I'll get the last 30 terms alphabetically.\n",
    "n = 30 # Select last 30 terms for visualization\n",
    "terms_freq = list(zip(count_vect.get_feature_names_out(), term_frequencies)) # Zip terms and frequencies together so they're treated as a group\n",
    "terms_freq.sort(key=lambda x: x[0]) # Sort alphabetically\n",
    "top_n_terms_freq = terms_freq[-n:]  # Only keep the last n terms\n",
    "terms, frequencies = zip(*top_n_terms_freq) # Unzip the terms and frequencies so they're no longer grouped\n",
    "\n",
    "pltly.bar(\n",
    "    x=terms, \n",
    "    y=frequencies, \n",
    "    labels={'x':'Word', 'y':'Frequency'},\n",
    "    title='Interactive Visualization of the Last ' + str(n) + ' Words Alphabetically Sorted'\n",
    ")"
   ]
  },
  {
   "cell_type": "code",
   "execution_count": 278,
   "metadata": {},
   "outputs": [
    {
     "data": {
      "application/vnd.plotly.v1+json": {
       "config": {
        "plotlyServerURL": "https://plot.ly"
       },
       "data": [
        {
         "hovertemplate": "Word=%{x}<br>Frequency=%{y}<extra></extra>",
         "legendgroup": "",
         "marker": {
          "color": "#636efa",
          "pattern": {
           "shape": ""
          }
         },
         "name": "",
         "orientation": "v",
         "showlegend": false,
         "textposition": "auto",
         "type": "bar",
         "x": [
          "the",
          "to",
          "and",
          "is",
          "it",
          "of",
          "in",
          "that",
          "for",
          "this",
          "you",
          "on",
          "are",
          "they",
          "be",
          "he",
          "will",
          "with",
          "if",
          "as",
          "market",
          "but",
          "not",
          "so",
          "all",
          "have",
          "us",
          "just",
          "was",
          "at"
         ],
         "xaxis": "x",
         "y": {
          "bdata": "mAM2AugBkgFeATcBHgHuANYA1QDDAKsAmwCWAIYAhAB/AH4AdwBzAG8AbABrAGcAYQBhAGAAXwBeAFwA",
          "dtype": "i2"
         },
         "yaxis": "y"
        }
       ],
       "layout": {
        "barmode": "relative",
        "legend": {
         "tracegroupgap": 0
        },
        "template": {
         "data": {
          "bar": [
           {
            "error_x": {
             "color": "#2a3f5f"
            },
            "error_y": {
             "color": "#2a3f5f"
            },
            "marker": {
             "line": {
              "color": "#E5ECF6",
              "width": 0.5
             },
             "pattern": {
              "fillmode": "overlay",
              "size": 10,
              "solidity": 0.2
             }
            },
            "type": "bar"
           }
          ],
          "barpolar": [
           {
            "marker": {
             "line": {
              "color": "#E5ECF6",
              "width": 0.5
             },
             "pattern": {
              "fillmode": "overlay",
              "size": 10,
              "solidity": 0.2
             }
            },
            "type": "barpolar"
           }
          ],
          "carpet": [
           {
            "aaxis": {
             "endlinecolor": "#2a3f5f",
             "gridcolor": "white",
             "linecolor": "white",
             "minorgridcolor": "white",
             "startlinecolor": "#2a3f5f"
            },
            "baxis": {
             "endlinecolor": "#2a3f5f",
             "gridcolor": "white",
             "linecolor": "white",
             "minorgridcolor": "white",
             "startlinecolor": "#2a3f5f"
            },
            "type": "carpet"
           }
          ],
          "choropleth": [
           {
            "colorbar": {
             "outlinewidth": 0,
             "ticks": ""
            },
            "type": "choropleth"
           }
          ],
          "contour": [
           {
            "colorbar": {
             "outlinewidth": 0,
             "ticks": ""
            },
            "colorscale": [
             [
              0,
              "#0d0887"
             ],
             [
              0.1111111111111111,
              "#46039f"
             ],
             [
              0.2222222222222222,
              "#7201a8"
             ],
             [
              0.3333333333333333,
              "#9c179e"
             ],
             [
              0.4444444444444444,
              "#bd3786"
             ],
             [
              0.5555555555555556,
              "#d8576b"
             ],
             [
              0.6666666666666666,
              "#ed7953"
             ],
             [
              0.7777777777777778,
              "#fb9f3a"
             ],
             [
              0.8888888888888888,
              "#fdca26"
             ],
             [
              1,
              "#f0f921"
             ]
            ],
            "type": "contour"
           }
          ],
          "contourcarpet": [
           {
            "colorbar": {
             "outlinewidth": 0,
             "ticks": ""
            },
            "type": "contourcarpet"
           }
          ],
          "heatmap": [
           {
            "colorbar": {
             "outlinewidth": 0,
             "ticks": ""
            },
            "colorscale": [
             [
              0,
              "#0d0887"
             ],
             [
              0.1111111111111111,
              "#46039f"
             ],
             [
              0.2222222222222222,
              "#7201a8"
             ],
             [
              0.3333333333333333,
              "#9c179e"
             ],
             [
              0.4444444444444444,
              "#bd3786"
             ],
             [
              0.5555555555555556,
              "#d8576b"
             ],
             [
              0.6666666666666666,
              "#ed7953"
             ],
             [
              0.7777777777777778,
              "#fb9f3a"
             ],
             [
              0.8888888888888888,
              "#fdca26"
             ],
             [
              1,
              "#f0f921"
             ]
            ],
            "type": "heatmap"
           }
          ],
          "histogram": [
           {
            "marker": {
             "pattern": {
              "fillmode": "overlay",
              "size": 10,
              "solidity": 0.2
             }
            },
            "type": "histogram"
           }
          ],
          "histogram2d": [
           {
            "colorbar": {
             "outlinewidth": 0,
             "ticks": ""
            },
            "colorscale": [
             [
              0,
              "#0d0887"
             ],
             [
              0.1111111111111111,
              "#46039f"
             ],
             [
              0.2222222222222222,
              "#7201a8"
             ],
             [
              0.3333333333333333,
              "#9c179e"
             ],
             [
              0.4444444444444444,
              "#bd3786"
             ],
             [
              0.5555555555555556,
              "#d8576b"
             ],
             [
              0.6666666666666666,
              "#ed7953"
             ],
             [
              0.7777777777777778,
              "#fb9f3a"
             ],
             [
              0.8888888888888888,
              "#fdca26"
             ],
             [
              1,
              "#f0f921"
             ]
            ],
            "type": "histogram2d"
           }
          ],
          "histogram2dcontour": [
           {
            "colorbar": {
             "outlinewidth": 0,
             "ticks": ""
            },
            "colorscale": [
             [
              0,
              "#0d0887"
             ],
             [
              0.1111111111111111,
              "#46039f"
             ],
             [
              0.2222222222222222,
              "#7201a8"
             ],
             [
              0.3333333333333333,
              "#9c179e"
             ],
             [
              0.4444444444444444,
              "#bd3786"
             ],
             [
              0.5555555555555556,
              "#d8576b"
             ],
             [
              0.6666666666666666,
              "#ed7953"
             ],
             [
              0.7777777777777778,
              "#fb9f3a"
             ],
             [
              0.8888888888888888,
              "#fdca26"
             ],
             [
              1,
              "#f0f921"
             ]
            ],
            "type": "histogram2dcontour"
           }
          ],
          "mesh3d": [
           {
            "colorbar": {
             "outlinewidth": 0,
             "ticks": ""
            },
            "type": "mesh3d"
           }
          ],
          "parcoords": [
           {
            "line": {
             "colorbar": {
              "outlinewidth": 0,
              "ticks": ""
             }
            },
            "type": "parcoords"
           }
          ],
          "pie": [
           {
            "automargin": true,
            "type": "pie"
           }
          ],
          "scatter": [
           {
            "fillpattern": {
             "fillmode": "overlay",
             "size": 10,
             "solidity": 0.2
            },
            "type": "scatter"
           }
          ],
          "scatter3d": [
           {
            "line": {
             "colorbar": {
              "outlinewidth": 0,
              "ticks": ""
             }
            },
            "marker": {
             "colorbar": {
              "outlinewidth": 0,
              "ticks": ""
             }
            },
            "type": "scatter3d"
           }
          ],
          "scattercarpet": [
           {
            "marker": {
             "colorbar": {
              "outlinewidth": 0,
              "ticks": ""
             }
            },
            "type": "scattercarpet"
           }
          ],
          "scattergeo": [
           {
            "marker": {
             "colorbar": {
              "outlinewidth": 0,
              "ticks": ""
             }
            },
            "type": "scattergeo"
           }
          ],
          "scattergl": [
           {
            "marker": {
             "colorbar": {
              "outlinewidth": 0,
              "ticks": ""
             }
            },
            "type": "scattergl"
           }
          ],
          "scattermap": [
           {
            "marker": {
             "colorbar": {
              "outlinewidth": 0,
              "ticks": ""
             }
            },
            "type": "scattermap"
           }
          ],
          "scattermapbox": [
           {
            "marker": {
             "colorbar": {
              "outlinewidth": 0,
              "ticks": ""
             }
            },
            "type": "scattermapbox"
           }
          ],
          "scatterpolar": [
           {
            "marker": {
             "colorbar": {
              "outlinewidth": 0,
              "ticks": ""
             }
            },
            "type": "scatterpolar"
           }
          ],
          "scatterpolargl": [
           {
            "marker": {
             "colorbar": {
              "outlinewidth": 0,
              "ticks": ""
             }
            },
            "type": "scatterpolargl"
           }
          ],
          "scatterternary": [
           {
            "marker": {
             "colorbar": {
              "outlinewidth": 0,
              "ticks": ""
             }
            },
            "type": "scatterternary"
           }
          ],
          "surface": [
           {
            "colorbar": {
             "outlinewidth": 0,
             "ticks": ""
            },
            "colorscale": [
             [
              0,
              "#0d0887"
             ],
             [
              0.1111111111111111,
              "#46039f"
             ],
             [
              0.2222222222222222,
              "#7201a8"
             ],
             [
              0.3333333333333333,
              "#9c179e"
             ],
             [
              0.4444444444444444,
              "#bd3786"
             ],
             [
              0.5555555555555556,
              "#d8576b"
             ],
             [
              0.6666666666666666,
              "#ed7953"
             ],
             [
              0.7777777777777778,
              "#fb9f3a"
             ],
             [
              0.8888888888888888,
              "#fdca26"
             ],
             [
              1,
              "#f0f921"
             ]
            ],
            "type": "surface"
           }
          ],
          "table": [
           {
            "cells": {
             "fill": {
              "color": "#EBF0F8"
             },
             "line": {
              "color": "white"
             }
            },
            "header": {
             "fill": {
              "color": "#C8D4E3"
             },
             "line": {
              "color": "white"
             }
            },
            "type": "table"
           }
          ]
         },
         "layout": {
          "annotationdefaults": {
           "arrowcolor": "#2a3f5f",
           "arrowhead": 0,
           "arrowwidth": 1
          },
          "autotypenumbers": "strict",
          "coloraxis": {
           "colorbar": {
            "outlinewidth": 0,
            "ticks": ""
           }
          },
          "colorscale": {
           "diverging": [
            [
             0,
             "#8e0152"
            ],
            [
             0.1,
             "#c51b7d"
            ],
            [
             0.2,
             "#de77ae"
            ],
            [
             0.3,
             "#f1b6da"
            ],
            [
             0.4,
             "#fde0ef"
            ],
            [
             0.5,
             "#f7f7f7"
            ],
            [
             0.6,
             "#e6f5d0"
            ],
            [
             0.7,
             "#b8e186"
            ],
            [
             0.8,
             "#7fbc41"
            ],
            [
             0.9,
             "#4d9221"
            ],
            [
             1,
             "#276419"
            ]
           ],
           "sequential": [
            [
             0,
             "#0d0887"
            ],
            [
             0.1111111111111111,
             "#46039f"
            ],
            [
             0.2222222222222222,
             "#7201a8"
            ],
            [
             0.3333333333333333,
             "#9c179e"
            ],
            [
             0.4444444444444444,
             "#bd3786"
            ],
            [
             0.5555555555555556,
             "#d8576b"
            ],
            [
             0.6666666666666666,
             "#ed7953"
            ],
            [
             0.7777777777777778,
             "#fb9f3a"
            ],
            [
             0.8888888888888888,
             "#fdca26"
            ],
            [
             1,
             "#f0f921"
            ]
           ],
           "sequentialminus": [
            [
             0,
             "#0d0887"
            ],
            [
             0.1111111111111111,
             "#46039f"
            ],
            [
             0.2222222222222222,
             "#7201a8"
            ],
            [
             0.3333333333333333,
             "#9c179e"
            ],
            [
             0.4444444444444444,
             "#bd3786"
            ],
            [
             0.5555555555555556,
             "#d8576b"
            ],
            [
             0.6666666666666666,
             "#ed7953"
            ],
            [
             0.7777777777777778,
             "#fb9f3a"
            ],
            [
             0.8888888888888888,
             "#fdca26"
            ],
            [
             1,
             "#f0f921"
            ]
           ]
          },
          "colorway": [
           "#636efa",
           "#EF553B",
           "#00cc96",
           "#ab63fa",
           "#FFA15A",
           "#19d3f3",
           "#FF6692",
           "#B6E880",
           "#FF97FF",
           "#FECB52"
          ],
          "font": {
           "color": "#2a3f5f"
          },
          "geo": {
           "bgcolor": "white",
           "lakecolor": "white",
           "landcolor": "#E5ECF6",
           "showlakes": true,
           "showland": true,
           "subunitcolor": "white"
          },
          "hoverlabel": {
           "align": "left"
          },
          "hovermode": "closest",
          "mapbox": {
           "style": "light"
          },
          "paper_bgcolor": "white",
          "plot_bgcolor": "#E5ECF6",
          "polar": {
           "angularaxis": {
            "gridcolor": "white",
            "linecolor": "white",
            "ticks": ""
           },
           "bgcolor": "#E5ECF6",
           "radialaxis": {
            "gridcolor": "white",
            "linecolor": "white",
            "ticks": ""
           }
          },
          "scene": {
           "xaxis": {
            "backgroundcolor": "#E5ECF6",
            "gridcolor": "white",
            "gridwidth": 2,
            "linecolor": "white",
            "showbackground": true,
            "ticks": "",
            "zerolinecolor": "white"
           },
           "yaxis": {
            "backgroundcolor": "#E5ECF6",
            "gridcolor": "white",
            "gridwidth": 2,
            "linecolor": "white",
            "showbackground": true,
            "ticks": "",
            "zerolinecolor": "white"
           },
           "zaxis": {
            "backgroundcolor": "#E5ECF6",
            "gridcolor": "white",
            "gridwidth": 2,
            "linecolor": "white",
            "showbackground": true,
            "ticks": "",
            "zerolinecolor": "white"
           }
          },
          "shapedefaults": {
           "line": {
            "color": "#2a3f5f"
           }
          },
          "ternary": {
           "aaxis": {
            "gridcolor": "white",
            "linecolor": "white",
            "ticks": ""
           },
           "baxis": {
            "gridcolor": "white",
            "linecolor": "white",
            "ticks": ""
           },
           "bgcolor": "#E5ECF6",
           "caxis": {
            "gridcolor": "white",
            "linecolor": "white",
            "ticks": ""
           }
          },
          "title": {
           "x": 0.05
          },
          "xaxis": {
           "automargin": true,
           "gridcolor": "white",
           "linecolor": "white",
           "ticks": "",
           "title": {
            "standoff": 15
           },
           "zerolinecolor": "white",
           "zerolinewidth": 2
          },
          "yaxis": {
           "automargin": true,
           "gridcolor": "white",
           "linecolor": "white",
           "ticks": "",
           "title": {
            "standoff": 15
           },
           "zerolinecolor": "white",
           "zerolinewidth": 2
          }
         }
        },
        "title": {
         "text": "Interactive Visualization of the Top 30 Most Frequent Words in Descending Order"
        },
        "xaxis": {
         "anchor": "y",
         "domain": [
          0,
          1
         ],
         "title": {
          "text": "Word"
         }
        },
        "yaxis": {
         "anchor": "x",
         "domain": [
          0,
          1
         ],
         "title": {
          "text": "Frequency"
         }
        }
       }
      }
     },
     "metadata": {},
     "output_type": "display_data"
    }
   ],
   "source": [
    "# Exercise 14\n",
    "n = 30 # Select top 30 terms for visualization\n",
    "terms_freq = list(zip(count_vect.get_feature_names_out(), term_frequencies)) # Zip terms and frequencies together so they're treated as a group\n",
    "terms_freq.sort(key=lambda x: x[1], reverse=True) # Sort by descending frequency\n",
    "top_n_terms_freq = terms_freq[:n] # Only keep the top n terms\n",
    "terms, frequencies = zip(*top_n_terms_freq) # Unzip the terms and frequencies so they're no longer grouped\n",
    "\n",
    "pltly.bar(\n",
    "    x=terms, \n",
    "    y=frequencies, \n",
    "    labels={'x':'Word', 'y':'Frequency'},\n",
    "    title='Interactive Visualization of the Top ' + str(n) + ' Most Frequent Words in Descending Order'\n",
    ")"
   ]
  },
  {
   "cell_type": "code",
   "execution_count": 279,
   "metadata": {},
   "outputs": [
    {
     "data": {
      "application/vnd.plotly.v1+json": {
       "config": {
        "plotlyServerURL": "https://plot.ly"
       },
       "data": [
        {
         "hovertemplate": "Term=%{x}<br>Frequency=%{y}<extra></extra>",
         "legendgroup": "",
         "marker": {
          "color": "#636efa",
          "pattern": {
           "shape": ""
          }
         },
         "name": "",
         "orientation": "v",
         "showlegend": false,
         "textposition": "auto",
         "type": "bar",
         "x": [
          "the",
          "to",
          "and",
          "is",
          "it",
          "of",
          "in",
          "that",
          "for",
          "this",
          "you",
          "on",
          "are",
          "they",
          "be",
          "he",
          "will",
          "with",
          "if",
          "as",
          "market",
          "but",
          "not",
          "so",
          "all",
          "have",
          "us",
          "just",
          "was",
          "at",
          "trump",
          "my",
          "what",
          "can",
          "like",
          "or",
          "we",
          "has",
          "about",
          "china",
          "their",
          "more",
          "from",
          "now",
          "there",
          "no",
          "by",
          "re",
          "how",
          "up",
          "one",
          "do",
          "even",
          "some",
          "them",
          "think",
          "his",
          "people",
          "stock",
          "going",
          "your",
          "an",
          "good",
          "money",
          "any",
          "out",
          "would",
          "see",
          "when",
          "than",
          "who",
          "only",
          "tariffs",
          "why",
          "been",
          "get",
          "him",
          "make",
          "other",
          "price",
          "time",
          "want",
          "don",
          "into",
          "me",
          "then",
          "doing",
          "down",
          "over",
          "could",
          "because",
          "futures",
          "silver",
          "company",
          "right",
          "still",
          "x200b",
          "after",
          "day",
          "go",
          "our",
          "should",
          "years",
          "also",
          "economy",
          "here",
          "today",
          "world",
          "did",
          "first",
          "much",
          "stocks",
          "buy",
          "doesn",
          "dollar",
          "last",
          "really",
          "way",
          "companies",
          "know",
          "long",
          "most",
          "off",
          "too",
          "well",
          "were",
          "com",
          "does",
          "its",
          "new",
          "stockbuyvest",
          "these",
          "week",
          "10",
          "back",
          "everyone",
          "sell",
          "since",
          "trade",
          "year",
          "bad",
          "better",
          "ll",
          "ve",
          "which",
          "american",
          "call",
          "every",
          "look",
          "looking",
          "same",
          "xi",
          "already",
          "emote",
          "fuck",
          "high",
          "img",
          "need",
          "never",
          "own",
          "say",
          "someone",
          "t5_2th52",
          "term",
          "things",
          "wants",
          "anything",
          "isn",
          "let",
          "many",
          "may",
          "point",
          "take",
          "thing",
          "trading",
          "am",
          "america",
          "before",
          "big",
          "bond",
          "bonds",
          "got",
          "had",
          "investors",
          "literally",
          "news",
          "president",
          "seems",
          "selling",
          "shit",
          "where",
          "always",
          "country",
          "daily",
          "end",
          "feel",
          "higher",
          "hold",
          "invest",
          "reason"
         ],
         "xaxis": "x",
         "y": {
          "bdata": "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",
          "dtype": "f8"
         },
         "yaxis": "y"
        }
       ],
       "layout": {
        "barmode": "relative",
        "legend": {
         "tracegroupgap": 0
        },
        "template": {
         "data": {
          "bar": [
           {
            "error_x": {
             "color": "#2a3f5f"
            },
            "error_y": {
             "color": "#2a3f5f"
            },
            "marker": {
             "line": {
              "color": "#E5ECF6",
              "width": 0.5
             },
             "pattern": {
              "fillmode": "overlay",
              "size": 10,
              "solidity": 0.2
             }
            },
            "type": "bar"
           }
          ],
          "barpolar": [
           {
            "marker": {
             "line": {
              "color": "#E5ECF6",
              "width": 0.5
             },
             "pattern": {
              "fillmode": "overlay",
              "size": 10,
              "solidity": 0.2
             }
            },
            "type": "barpolar"
           }
          ],
          "carpet": [
           {
            "aaxis": {
             "endlinecolor": "#2a3f5f",
             "gridcolor": "white",
             "linecolor": "white",
             "minorgridcolor": "white",
             "startlinecolor": "#2a3f5f"
            },
            "baxis": {
             "endlinecolor": "#2a3f5f",
             "gridcolor": "white",
             "linecolor": "white",
             "minorgridcolor": "white",
             "startlinecolor": "#2a3f5f"
            },
            "type": "carpet"
           }
          ],
          "choropleth": [
           {
            "colorbar": {
             "outlinewidth": 0,
             "ticks": ""
            },
            "type": "choropleth"
           }
          ],
          "contour": [
           {
            "colorbar": {
             "outlinewidth": 0,
             "ticks": ""
            },
            "colorscale": [
             [
              0,
              "#0d0887"
             ],
             [
              0.1111111111111111,
              "#46039f"
             ],
             [
              0.2222222222222222,
              "#7201a8"
             ],
             [
              0.3333333333333333,
              "#9c179e"
             ],
             [
              0.4444444444444444,
              "#bd3786"
             ],
             [
              0.5555555555555556,
              "#d8576b"
             ],
             [
              0.6666666666666666,
              "#ed7953"
             ],
             [
              0.7777777777777778,
              "#fb9f3a"
             ],
             [
              0.8888888888888888,
              "#fdca26"
             ],
             [
              1,
              "#f0f921"
             ]
            ],
            "type": "contour"
           }
          ],
          "contourcarpet": [
           {
            "colorbar": {
             "outlinewidth": 0,
             "ticks": ""
            },
            "type": "contourcarpet"
           }
          ],
          "heatmap": [
           {
            "colorbar": {
             "outlinewidth": 0,
             "ticks": ""
            },
            "colorscale": [
             [
              0,
              "#0d0887"
             ],
             [
              0.1111111111111111,
              "#46039f"
             ],
             [
              0.2222222222222222,
              "#7201a8"
             ],
             [
              0.3333333333333333,
              "#9c179e"
             ],
             [
              0.4444444444444444,
              "#bd3786"
             ],
             [
              0.5555555555555556,
              "#d8576b"
             ],
             [
              0.6666666666666666,
              "#ed7953"
             ],
             [
              0.7777777777777778,
              "#fb9f3a"
             ],
             [
              0.8888888888888888,
              "#fdca26"
             ],
             [
              1,
              "#f0f921"
             ]
            ],
            "type": "heatmap"
           }
          ],
          "histogram": [
           {
            "marker": {
             "pattern": {
              "fillmode": "overlay",
              "size": 10,
              "solidity": 0.2
             }
            },
            "type": "histogram"
           }
          ],
          "histogram2d": [
           {
            "colorbar": {
             "outlinewidth": 0,
             "ticks": ""
            },
            "colorscale": [
             [
              0,
              "#0d0887"
             ],
             [
              0.1111111111111111,
              "#46039f"
             ],
             [
              0.2222222222222222,
              "#7201a8"
             ],
             [
              0.3333333333333333,
              "#9c179e"
             ],
             [
              0.4444444444444444,
              "#bd3786"
             ],
             [
              0.5555555555555556,
              "#d8576b"
             ],
             [
              0.6666666666666666,
              "#ed7953"
             ],
             [
              0.7777777777777778,
              "#fb9f3a"
             ],
             [
              0.8888888888888888,
              "#fdca26"
             ],
             [
              1,
              "#f0f921"
             ]
            ],
            "type": "histogram2d"
           }
          ],
          "histogram2dcontour": [
           {
            "colorbar": {
             "outlinewidth": 0,
             "ticks": ""
            },
            "colorscale": [
             [
              0,
              "#0d0887"
             ],
             [
              0.1111111111111111,
              "#46039f"
             ],
             [
              0.2222222222222222,
              "#7201a8"
             ],
             [
              0.3333333333333333,
              "#9c179e"
             ],
             [
              0.4444444444444444,
              "#bd3786"
             ],
             [
              0.5555555555555556,
              "#d8576b"
             ],
             [
              0.6666666666666666,
              "#ed7953"
             ],
             [
              0.7777777777777778,
              "#fb9f3a"
             ],
             [
              0.8888888888888888,
              "#fdca26"
             ],
             [
              1,
              "#f0f921"
             ]
            ],
            "type": "histogram2dcontour"
           }
          ],
          "mesh3d": [
           {
            "colorbar": {
             "outlinewidth": 0,
             "ticks": ""
            },
            "type": "mesh3d"
           }
          ],
          "parcoords": [
           {
            "line": {
             "colorbar": {
              "outlinewidth": 0,
              "ticks": ""
             }
            },
            "type": "parcoords"
           }
          ],
          "pie": [
           {
            "automargin": true,
            "type": "pie"
           }
          ],
          "scatter": [
           {
            "fillpattern": {
             "fillmode": "overlay",
             "size": 10,
             "solidity": 0.2
            },
            "type": "scatter"
           }
          ],
          "scatter3d": [
           {
            "line": {
             "colorbar": {
              "outlinewidth": 0,
              "ticks": ""
             }
            },
            "marker": {
             "colorbar": {
              "outlinewidth": 0,
              "ticks": ""
             }
            },
            "type": "scatter3d"
           }
          ],
          "scattercarpet": [
           {
            "marker": {
             "colorbar": {
              "outlinewidth": 0,
              "ticks": ""
             }
            },
            "type": "scattercarpet"
           }
          ],
          "scattergeo": [
           {
            "marker": {
             "colorbar": {
              "outlinewidth": 0,
              "ticks": ""
             }
            },
            "type": "scattergeo"
           }
          ],
          "scattergl": [
           {
            "marker": {
             "colorbar": {
              "outlinewidth": 0,
              "ticks": ""
             }
            },
            "type": "scattergl"
           }
          ],
          "scattermap": [
           {
            "marker": {
             "colorbar": {
              "outlinewidth": 0,
              "ticks": ""
             }
            },
            "type": "scattermap"
           }
          ],
          "scattermapbox": [
           {
            "marker": {
             "colorbar": {
              "outlinewidth": 0,
              "ticks": ""
             }
            },
            "type": "scattermapbox"
           }
          ],
          "scatterpolar": [
           {
            "marker": {
             "colorbar": {
              "outlinewidth": 0,
              "ticks": ""
             }
            },
            "type": "scatterpolar"
           }
          ],
          "scatterpolargl": [
           {
            "marker": {
             "colorbar": {
              "outlinewidth": 0,
              "ticks": ""
             }
            },
            "type": "scatterpolargl"
           }
          ],
          "scatterternary": [
           {
            "marker": {
             "colorbar": {
              "outlinewidth": 0,
              "ticks": ""
             }
            },
            "type": "scatterternary"
           }
          ],
          "surface": [
           {
            "colorbar": {
             "outlinewidth": 0,
             "ticks": ""
            },
            "colorscale": [
             [
              0,
              "#0d0887"
             ],
             [
              0.1111111111111111,
              "#46039f"
             ],
             [
              0.2222222222222222,
              "#7201a8"
             ],
             [
              0.3333333333333333,
              "#9c179e"
             ],
             [
              0.4444444444444444,
              "#bd3786"
             ],
             [
              0.5555555555555556,
              "#d8576b"
             ],
             [
              0.6666666666666666,
              "#ed7953"
             ],
             [
              0.7777777777777778,
              "#fb9f3a"
             ],
             [
              0.8888888888888888,
              "#fdca26"
             ],
             [
              1,
              "#f0f921"
             ]
            ],
            "type": "surface"
           }
          ],
          "table": [
           {
            "cells": {
             "fill": {
              "color": "#EBF0F8"
             },
             "line": {
              "color": "white"
             }
            },
            "header": {
             "fill": {
              "color": "#C8D4E3"
             },
             "line": {
              "color": "white"
             }
            },
            "type": "table"
           }
          ]
         },
         "layout": {
          "annotationdefaults": {
           "arrowcolor": "#2a3f5f",
           "arrowhead": 0,
           "arrowwidth": 1
          },
          "autotypenumbers": "strict",
          "coloraxis": {
           "colorbar": {
            "outlinewidth": 0,
            "ticks": ""
           }
          },
          "colorscale": {
           "diverging": [
            [
             0,
             "#8e0152"
            ],
            [
             0.1,
             "#c51b7d"
            ],
            [
             0.2,
             "#de77ae"
            ],
            [
             0.3,
             "#f1b6da"
            ],
            [
             0.4,
             "#fde0ef"
            ],
            [
             0.5,
             "#f7f7f7"
            ],
            [
             0.6,
             "#e6f5d0"
            ],
            [
             0.7,
             "#b8e186"
            ],
            [
             0.8,
             "#7fbc41"
            ],
            [
             0.9,
             "#4d9221"
            ],
            [
             1,
             "#276419"
            ]
           ],
           "sequential": [
            [
             0,
             "#0d0887"
            ],
            [
             0.1111111111111111,
             "#46039f"
            ],
            [
             0.2222222222222222,
             "#7201a8"
            ],
            [
             0.3333333333333333,
             "#9c179e"
            ],
            [
             0.4444444444444444,
             "#bd3786"
            ],
            [
             0.5555555555555556,
             "#d8576b"
            ],
            [
             0.6666666666666666,
             "#ed7953"
            ],
            [
             0.7777777777777778,
             "#fb9f3a"
            ],
            [
             0.8888888888888888,
             "#fdca26"
            ],
            [
             1,
             "#f0f921"
            ]
           ],
           "sequentialminus": [
            [
             0,
             "#0d0887"
            ],
            [
             0.1111111111111111,
             "#46039f"
            ],
            [
             0.2222222222222222,
             "#7201a8"
            ],
            [
             0.3333333333333333,
             "#9c179e"
            ],
            [
             0.4444444444444444,
             "#bd3786"
            ],
            [
             0.5555555555555556,
             "#d8576b"
            ],
            [
             0.6666666666666666,
             "#ed7953"
            ],
            [
             0.7777777777777778,
             "#fb9f3a"
            ],
            [
             0.8888888888888888,
             "#fdca26"
            ],
            [
             1,
             "#f0f921"
            ]
           ]
          },
          "colorway": [
           "#636efa",
           "#EF553B",
           "#00cc96",
           "#ab63fa",
           "#FFA15A",
           "#19d3f3",
           "#FF6692",
           "#B6E880",
           "#FF97FF",
           "#FECB52"
          ],
          "font": {
           "color": "#2a3f5f"
          },
          "geo": {
           "bgcolor": "white",
           "lakecolor": "white",
           "landcolor": "#E5ECF6",
           "showlakes": true,
           "showland": true,
           "subunitcolor": "white"
          },
          "hoverlabel": {
           "align": "left"
          },
          "hovermode": "closest",
          "mapbox": {
           "style": "light"
          },
          "paper_bgcolor": "white",
          "plot_bgcolor": "#E5ECF6",
          "polar": {
           "angularaxis": {
            "gridcolor": "white",
            "linecolor": "white",
            "ticks": ""
           },
           "bgcolor": "#E5ECF6",
           "radialaxis": {
            "gridcolor": "white",
            "linecolor": "white",
            "ticks": ""
           }
          },
          "scene": {
           "xaxis": {
            "backgroundcolor": "#E5ECF6",
            "gridcolor": "white",
            "gridwidth": 2,
            "linecolor": "white",
            "showbackground": true,
            "ticks": "",
            "zerolinecolor": "white"
           },
           "yaxis": {
            "backgroundcolor": "#E5ECF6",
            "gridcolor": "white",
            "gridwidth": 2,
            "linecolor": "white",
            "showbackground": true,
            "ticks": "",
            "zerolinecolor": "white"
           },
           "zaxis": {
            "backgroundcolor": "#E5ECF6",
            "gridcolor": "white",
            "gridwidth": 2,
            "linecolor": "white",
            "showbackground": true,
            "ticks": "",
            "zerolinecolor": "white"
           }
          },
          "shapedefaults": {
           "line": {
            "color": "#2a3f5f"
           }
          },
          "ternary": {
           "aaxis": {
            "gridcolor": "white",
            "linecolor": "white",
            "ticks": ""
           },
           "baxis": {
            "gridcolor": "white",
            "linecolor": "white",
            "ticks": ""
           },
           "bgcolor": "#E5ECF6",
           "caxis": {
            "gridcolor": "white",
            "linecolor": "white",
            "ticks": ""
           }
          },
          "title": {
           "x": 0.05
          },
          "xaxis": {
           "automargin": true,
           "gridcolor": "white",
           "linecolor": "white",
           "ticks": "",
           "title": {
            "standoff": 15
           },
           "zerolinecolor": "white",
           "zerolinewidth": 2
          },
          "yaxis": {
           "automargin": true,
           "gridcolor": "white",
           "linecolor": "white",
           "ticks": "",
           "title": {
            "standoff": 15
           },
           "zerolinecolor": "white",
           "zerolinewidth": 2
          }
         }
        },
        "title": {
         "text": "Interactive Visualization of the Top 200 Most Frequent Terms in Descending Order (Log)"
        },
        "xaxis": {
         "anchor": "y",
         "domain": [
          0,
          1
         ],
         "title": {
          "text": "Term"
         }
        },
        "yaxis": {
         "anchor": "x",
         "domain": [
          0,
          1
         ],
         "title": {
          "text": "Frequency"
         }
        }
       }
      }
     },
     "metadata": {},
     "output_type": "display_data"
    }
   ],
   "source": [
    "# Exercise 15\n",
    "n = 200 # Select top 30 terms for visualization\n",
    "term_frequencies_log = [math.log(i) for i in term_frequencies]\n",
    "terms_freq = list(zip(count_vect.get_feature_names_out(), term_frequencies_log)) # Zip terms and frequencies together so they're treated as a group\n",
    "terms_freq.sort(key=lambda x: x[1], reverse=True) # Sort by descending frequency\n",
    "top_n_terms_freq = terms_freq[:n] # Only keep the top n terms\n",
    "terms, frequencies = zip(*top_n_terms_freq) # Unzip the terms and frequencies so they're no longer grouped\n",
    "\n",
    "pltly.bar(\n",
    "    x=terms, \n",
    "    y=frequencies, \n",
    "    labels={'x':'Term', 'y':'Frequency'},\n",
    "    title='Interactive Visualization of the Top ' + str(n) + ' Most Frequent Terms in Descending Order (Log)'\n",
    ")\n",
    "\n",
    "# The difference between the first and second bar in the previous graph is a lot more obvious than this graph. This makes sense because the most \n",
    "# frequent term (the first bar) is less than double the frequency of the second term (the second bar), so when you take the base 2 log, the\n",
    "# difference is minimal. With this observation, we can see that the long tail is a lot less obvious in this graph, since all of the bars\n",
    "# are very similar in height, so it's less skewed. On the other hand, the tail in the previous graph was very obvious and a big feature of the \n",
    "# graph. Also, compared to the previous graph, the scale of the y-axis for this graph is a lot smaller (30k VS 10).\n"
   ]
  },
  {
   "cell_type": "markdown",
   "metadata": {},
   "source": [
    "# Part 3: Meaningful new data visualizations"
   ]
  },
  {
   "cell_type": "code",
   "execution_count": 280,
   "metadata": {},
   "outputs": [
    {
     "data": {
      "application/vnd.plotly.v1+json": {
       "config": {
        "plotlyServerURL": "https://plot.ly"
       },
       "data": [
        {
         "hovertemplate": "Year=%{x}<br>Frequency=%{y}<br>word=%{text}<extra></extra>",
         "legendgroup": "",
         "marker": {
          "color": "#636efa",
          "pattern": {
           "shape": ""
          }
         },
         "name": "",
         "orientation": "v",
         "showlegend": false,
         "text": [
          "the",
          "be",
          "the",
          "the",
          "the"
         ],
         "textposition": "outside",
         "type": "bar",
         "x": {
          "bdata": "5QfmB+cH6AfpBw==",
          "dtype": "i2"
         },
         "xaxis": "x",
         "y": {
          "bdata": "QQAFACcAMwD5Ag==",
          "dtype": "i2"
         },
         "yaxis": "y"
        }
       ],
       "layout": {
        "barmode": "relative",
        "legend": {
         "tracegroupgap": 0
        },
        "template": {
         "data": {
          "bar": [
           {
            "error_x": {
             "color": "#2a3f5f"
            },
            "error_y": {
             "color": "#2a3f5f"
            },
            "marker": {
             "line": {
              "color": "#E5ECF6",
              "width": 0.5
             },
             "pattern": {
              "fillmode": "overlay",
              "size": 10,
              "solidity": 0.2
             }
            },
            "type": "bar"
           }
          ],
          "barpolar": [
           {
            "marker": {
             "line": {
              "color": "#E5ECF6",
              "width": 0.5
             },
             "pattern": {
              "fillmode": "overlay",
              "size": 10,
              "solidity": 0.2
             }
            },
            "type": "barpolar"
           }
          ],
          "carpet": [
           {
            "aaxis": {
             "endlinecolor": "#2a3f5f",
             "gridcolor": "white",
             "linecolor": "white",
             "minorgridcolor": "white",
             "startlinecolor": "#2a3f5f"
            },
            "baxis": {
             "endlinecolor": "#2a3f5f",
             "gridcolor": "white",
             "linecolor": "white",
             "minorgridcolor": "white",
             "startlinecolor": "#2a3f5f"
            },
            "type": "carpet"
           }
          ],
          "choropleth": [
           {
            "colorbar": {
             "outlinewidth": 0,
             "ticks": ""
            },
            "type": "choropleth"
           }
          ],
          "contour": [
           {
            "colorbar": {
             "outlinewidth": 0,
             "ticks": ""
            },
            "colorscale": [
             [
              0,
              "#0d0887"
             ],
             [
              0.1111111111111111,
              "#46039f"
             ],
             [
              0.2222222222222222,
              "#7201a8"
             ],
             [
              0.3333333333333333,
              "#9c179e"
             ],
             [
              0.4444444444444444,
              "#bd3786"
             ],
             [
              0.5555555555555556,
              "#d8576b"
             ],
             [
              0.6666666666666666,
              "#ed7953"
             ],
             [
              0.7777777777777778,
              "#fb9f3a"
             ],
             [
              0.8888888888888888,
              "#fdca26"
             ],
             [
              1,
              "#f0f921"
             ]
            ],
            "type": "contour"
           }
          ],
          "contourcarpet": [
           {
            "colorbar": {
             "outlinewidth": 0,
             "ticks": ""
            },
            "type": "contourcarpet"
           }
          ],
          "heatmap": [
           {
            "colorbar": {
             "outlinewidth": 0,
             "ticks": ""
            },
            "colorscale": [
             [
              0,
              "#0d0887"
             ],
             [
              0.1111111111111111,
              "#46039f"
             ],
             [
              0.2222222222222222,
              "#7201a8"
             ],
             [
              0.3333333333333333,
              "#9c179e"
             ],
             [
              0.4444444444444444,
              "#bd3786"
             ],
             [
              0.5555555555555556,
              "#d8576b"
             ],
             [
              0.6666666666666666,
              "#ed7953"
             ],
             [
              0.7777777777777778,
              "#fb9f3a"
             ],
             [
              0.8888888888888888,
              "#fdca26"
             ],
             [
              1,
              "#f0f921"
             ]
            ],
            "type": "heatmap"
           }
          ],
          "histogram": [
           {
            "marker": {
             "pattern": {
              "fillmode": "overlay",
              "size": 10,
              "solidity": 0.2
             }
            },
            "type": "histogram"
           }
          ],
          "histogram2d": [
           {
            "colorbar": {
             "outlinewidth": 0,
             "ticks": ""
            },
            "colorscale": [
             [
              0,
              "#0d0887"
             ],
             [
              0.1111111111111111,
              "#46039f"
             ],
             [
              0.2222222222222222,
              "#7201a8"
             ],
             [
              0.3333333333333333,
              "#9c179e"
             ],
             [
              0.4444444444444444,
              "#bd3786"
             ],
             [
              0.5555555555555556,
              "#d8576b"
             ],
             [
              0.6666666666666666,
              "#ed7953"
             ],
             [
              0.7777777777777778,
              "#fb9f3a"
             ],
             [
              0.8888888888888888,
              "#fdca26"
             ],
             [
              1,
              "#f0f921"
             ]
            ],
            "type": "histogram2d"
           }
          ],
          "histogram2dcontour": [
           {
            "colorbar": {
             "outlinewidth": 0,
             "ticks": ""
            },
            "colorscale": [
             [
              0,
              "#0d0887"
             ],
             [
              0.1111111111111111,
              "#46039f"
             ],
             [
              0.2222222222222222,
              "#7201a8"
             ],
             [
              0.3333333333333333,
              "#9c179e"
             ],
             [
              0.4444444444444444,
              "#bd3786"
             ],
             [
              0.5555555555555556,
              "#d8576b"
             ],
             [
              0.6666666666666666,
              "#ed7953"
             ],
             [
              0.7777777777777778,
              "#fb9f3a"
             ],
             [
              0.8888888888888888,
              "#fdca26"
             ],
             [
              1,
              "#f0f921"
             ]
            ],
            "type": "histogram2dcontour"
           }
          ],
          "mesh3d": [
           {
            "colorbar": {
             "outlinewidth": 0,
             "ticks": ""
            },
            "type": "mesh3d"
           }
          ],
          "parcoords": [
           {
            "line": {
             "colorbar": {
              "outlinewidth": 0,
              "ticks": ""
             }
            },
            "type": "parcoords"
           }
          ],
          "pie": [
           {
            "automargin": true,
            "type": "pie"
           }
          ],
          "scatter": [
           {
            "fillpattern": {
             "fillmode": "overlay",
             "size": 10,
             "solidity": 0.2
            },
            "type": "scatter"
           }
          ],
          "scatter3d": [
           {
            "line": {
             "colorbar": {
              "outlinewidth": 0,
              "ticks": ""
             }
            },
            "marker": {
             "colorbar": {
              "outlinewidth": 0,
              "ticks": ""
             }
            },
            "type": "scatter3d"
           }
          ],
          "scattercarpet": [
           {
            "marker": {
             "colorbar": {
              "outlinewidth": 0,
              "ticks": ""
             }
            },
            "type": "scattercarpet"
           }
          ],
          "scattergeo": [
           {
            "marker": {
             "colorbar": {
              "outlinewidth": 0,
              "ticks": ""
             }
            },
            "type": "scattergeo"
           }
          ],
          "scattergl": [
           {
            "marker": {
             "colorbar": {
              "outlinewidth": 0,
              "ticks": ""
             }
            },
            "type": "scattergl"
           }
          ],
          "scattermap": [
           {
            "marker": {
             "colorbar": {
              "outlinewidth": 0,
              "ticks": ""
             }
            },
            "type": "scattermap"
           }
          ],
          "scattermapbox": [
           {
            "marker": {
             "colorbar": {
              "outlinewidth": 0,
              "ticks": ""
             }
            },
            "type": "scattermapbox"
           }
          ],
          "scatterpolar": [
           {
            "marker": {
             "colorbar": {
              "outlinewidth": 0,
              "ticks": ""
             }
            },
            "type": "scatterpolar"
           }
          ],
          "scatterpolargl": [
           {
            "marker": {
             "colorbar": {
              "outlinewidth": 0,
              "ticks": ""
             }
            },
            "type": "scatterpolargl"
           }
          ],
          "scatterternary": [
           {
            "marker": {
             "colorbar": {
              "outlinewidth": 0,
              "ticks": ""
             }
            },
            "type": "scatterternary"
           }
          ],
          "surface": [
           {
            "colorbar": {
             "outlinewidth": 0,
             "ticks": ""
            },
            "colorscale": [
             [
              0,
              "#0d0887"
             ],
             [
              0.1111111111111111,
              "#46039f"
             ],
             [
              0.2222222222222222,
              "#7201a8"
             ],
             [
              0.3333333333333333,
              "#9c179e"
             ],
             [
              0.4444444444444444,
              "#bd3786"
             ],
             [
              0.5555555555555556,
              "#d8576b"
             ],
             [
              0.6666666666666666,
              "#ed7953"
             ],
             [
              0.7777777777777778,
              "#fb9f3a"
             ],
             [
              0.8888888888888888,
              "#fdca26"
             ],
             [
              1,
              "#f0f921"
             ]
            ],
            "type": "surface"
           }
          ],
          "table": [
           {
            "cells": {
             "fill": {
              "color": "#EBF0F8"
             },
             "line": {
              "color": "white"
             }
            },
            "header": {
             "fill": {
              "color": "#C8D4E3"
             },
             "line": {
              "color": "white"
             }
            },
            "type": "table"
           }
          ]
         },
         "layout": {
          "annotationdefaults": {
           "arrowcolor": "#2a3f5f",
           "arrowhead": 0,
           "arrowwidth": 1
          },
          "autotypenumbers": "strict",
          "coloraxis": {
           "colorbar": {
            "outlinewidth": 0,
            "ticks": ""
           }
          },
          "colorscale": {
           "diverging": [
            [
             0,
             "#8e0152"
            ],
            [
             0.1,
             "#c51b7d"
            ],
            [
             0.2,
             "#de77ae"
            ],
            [
             0.3,
             "#f1b6da"
            ],
            [
             0.4,
             "#fde0ef"
            ],
            [
             0.5,
             "#f7f7f7"
            ],
            [
             0.6,
             "#e6f5d0"
            ],
            [
             0.7,
             "#b8e186"
            ],
            [
             0.8,
             "#7fbc41"
            ],
            [
             0.9,
             "#4d9221"
            ],
            [
             1,
             "#276419"
            ]
           ],
           "sequential": [
            [
             0,
             "#0d0887"
            ],
            [
             0.1111111111111111,
             "#46039f"
            ],
            [
             0.2222222222222222,
             "#7201a8"
            ],
            [
             0.3333333333333333,
             "#9c179e"
            ],
            [
             0.4444444444444444,
             "#bd3786"
            ],
            [
             0.5555555555555556,
             "#d8576b"
            ],
            [
             0.6666666666666666,
             "#ed7953"
            ],
            [
             0.7777777777777778,
             "#fb9f3a"
            ],
            [
             0.8888888888888888,
             "#fdca26"
            ],
            [
             1,
             "#f0f921"
            ]
           ],
           "sequentialminus": [
            [
             0,
             "#0d0887"
            ],
            [
             0.1111111111111111,
             "#46039f"
            ],
            [
             0.2222222222222222,
             "#7201a8"
            ],
            [
             0.3333333333333333,
             "#9c179e"
            ],
            [
             0.4444444444444444,
             "#bd3786"
            ],
            [
             0.5555555555555556,
             "#d8576b"
            ],
            [
             0.6666666666666666,
             "#ed7953"
            ],
            [
             0.7777777777777778,
             "#fb9f3a"
            ],
            [
             0.8888888888888888,
             "#fdca26"
            ],
            [
             1,
             "#f0f921"
            ]
           ]
          },
          "colorway": [
           "#636efa",
           "#EF553B",
           "#00cc96",
           "#ab63fa",
           "#FFA15A",
           "#19d3f3",
           "#FF6692",
           "#B6E880",
           "#FF97FF",
           "#FECB52"
          ],
          "font": {
           "color": "#2a3f5f"
          },
          "geo": {
           "bgcolor": "white",
           "lakecolor": "white",
           "landcolor": "#E5ECF6",
           "showlakes": true,
           "showland": true,
           "subunitcolor": "white"
          },
          "hoverlabel": {
           "align": "left"
          },
          "hovermode": "closest",
          "mapbox": {
           "style": "light"
          },
          "paper_bgcolor": "white",
          "plot_bgcolor": "#E5ECF6",
          "polar": {
           "angularaxis": {
            "gridcolor": "white",
            "linecolor": "white",
            "ticks": ""
           },
           "bgcolor": "#E5ECF6",
           "radialaxis": {
            "gridcolor": "white",
            "linecolor": "white",
            "ticks": ""
           }
          },
          "scene": {
           "xaxis": {
            "backgroundcolor": "#E5ECF6",
            "gridcolor": "white",
            "gridwidth": 2,
            "linecolor": "white",
            "showbackground": true,
            "ticks": "",
            "zerolinecolor": "white"
           },
           "yaxis": {
            "backgroundcolor": "#E5ECF6",
            "gridcolor": "white",
            "gridwidth": 2,
            "linecolor": "white",
            "showbackground": true,
            "ticks": "",
            "zerolinecolor": "white"
           },
           "zaxis": {
            "backgroundcolor": "#E5ECF6",
            "gridcolor": "white",
            "gridwidth": 2,
            "linecolor": "white",
            "showbackground": true,
            "ticks": "",
            "zerolinecolor": "white"
           }
          },
          "shapedefaults": {
           "line": {
            "color": "#2a3f5f"
           }
          },
          "ternary": {
           "aaxis": {
            "gridcolor": "white",
            "linecolor": "white",
            "ticks": ""
           },
           "baxis": {
            "gridcolor": "white",
            "linecolor": "white",
            "ticks": ""
           },
           "bgcolor": "#E5ECF6",
           "caxis": {
            "gridcolor": "white",
            "linecolor": "white",
            "ticks": ""
           }
          },
          "title": {
           "x": 0.05
          },
          "xaxis": {
           "automargin": true,
           "gridcolor": "white",
           "linecolor": "white",
           "ticks": "",
           "title": {
            "standoff": 15
           },
           "zerolinecolor": "white",
           "zerolinewidth": 2
          },
          "yaxis": {
           "automargin": true,
           "gridcolor": "white",
           "linecolor": "white",
           "ticks": "",
           "title": {
            "standoff": 15
           },
           "zerolinecolor": "white",
           "zerolinewidth": 2
          }
         }
        },
        "title": {
         "text": "Most Common Word per Year"
        },
        "xaxis": {
         "anchor": "y",
         "domain": [
          0,
          1
         ],
         "title": {
          "text": "Year"
         }
        },
        "yaxis": {
         "anchor": "x",
         "domain": [
          0,
          1
         ],
         "title": {
          "text": "Frequency"
         }
        }
       }
      }
     },
     "metadata": {},
     "output_type": "display_data"
    }
   ],
   "source": [
    "\n",
    "# Graph of most used word per year\n",
    "\n",
    "# Turn datetime into a time data type\n",
    "df['datetime'] = pd.to_datetime(df['datetime'], errors='coerce')\n",
    "# Parse out the year and add it as its own column\n",
    "df['year'] = df['datetime'].dt.year\n",
    "most_common_words = []\n",
    "count_vect = CountVectorizer()\n",
    "\n",
    "for year, group in df.groupby('year'):\n",
    "    # Get all the texts per year and the frequency count for each word\n",
    "    X = count_vect.fit_transform(group['text'])\n",
    "    counts = pd.DataFrame(X.toarray(), columns=count_vect.get_feature_names_out())\n",
    "    term_frequencies = counts.sum(axis=0).sort_values(ascending=False)\n",
    "\n",
    "    # Get most common word and its frequency count\n",
    "    most_common_word = term_frequencies.index[0]\n",
    "    most_common_count = term_frequencies.iloc[0]\n",
    "\n",
    "    most_common_words.append((year, most_common_word, most_common_count))\n",
    "\n",
    "trend_df = pd.DataFrame(most_common_words, columns=['year', 'word', 'count'])\n",
    "\n",
    "visualization = pltly.bar(\n",
    "    trend_df,\n",
    "    x='year',\n",
    "    y='count',\n",
    "    text='word',\n",
    "    labels={'year': 'Year', 'count': 'Frequency'},\n",
    "    title='Most Common Word per Year'\n",
    ")\n",
    "\n",
    "# Move the word above the bar\n",
    "visualization.update_traces(textposition='outside')\n",
    "visualization\n"
   ]
  },
  {
   "cell_type": "code",
   "execution_count": 281,
   "metadata": {},
   "outputs": [
    {
     "data": {
      "application/vnd.plotly.v1+json": {
       "config": {
        "plotlyServerURL": "https://plot.ly"
       },
       "data": [
        {
         "hovertemplate": "Subjectivity=%{x}<br>Polarity=%{marker.color}<extra></extra>",
         "legendgroup": "",
         "marker": {
          "color": {
           "bdata": "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",
           "dtype": "f8"
          },
          "coloraxis": "coloraxis",
          "opacity": 1,
          "symbol": "circle"
         },
         "mode": "markers",
         "name": "",
         "orientation": "v",
         "showlegend": false,
         "type": "scatter",
         "x": {
          "bdata": "AAAAAAAA8D8UbMEWbMHGPwAAAAAAAAAAtJw/y/mz5D8AAAAAAAAAAAAAAAAAAOA/UrgehetR2D9mZmZmZmbmP3ovn/fyed8/AAAAAAAAAAAAAAAAAAAAADMzMzMzM9M/zczMzMzM7D9uoNMGOm3gPwAAAAAAAAAAAAAAAAAA8D8AAAAAAAAAAITgkJbxodc/AAAAAAAAAAA6ahHy1+zcPwAAAAAAAAAAAAAAAAAAAAAAAAAAAAAAAM3MzMzMzOw/AAAAAAAAAABFREREREToP5qZmZmZmck/AAAAAAAAAABVVVVVVVXVPwAAAAAAAAAAAAAAAAAA8D8WKCXDbwbbPwAAAAAAAOg/AAAAAAAAAABVVVVVVVXlP9VBHdRBHeQ/AAAAAAAA6D8AAAAAAAAAAJqZmZmZmak/JEmSJEmS4D+amZmZmZnpPwAAAAAAAAAAVVVVVVVV5T8AAAAAAAAAAM3MzMzMzNw/AAAAAAAAAACqqqqqqqrmPzMzMzMzM9M/AAAAAAAAAAAAAAAAAAAAAAAAAAAAAAAAAAAAAAAAAAAAAAAAAAAAAEREREREROQ/AAAAAAAA0D8AAAAAAAAAAN3d3d3d3d0/VVVVVVVV5T+amZmZmZnZPwAAAAAAAAAAFK5H4XoU3j8zMzMzMzPTPwAAAAAAAPA/je/c+M6N1z8AAAAAAADoPwAAAAAAAPA/j8L1KFyP4j8AAAAAAAAAAAAAAAAAAAAAe8VXfMVX1D+SmZmZmZm5P1VVVVVVVdU/KxuOmPZE1j9yPQrXo3DdPwAAAAAAAPA/jC666KKL3j94d3d3d3fXP9q2bdu2bds/EBERERERwT8zMzMzMzPTPwAAAAAAAAAAAAAAAAAAAAAAAAAAAAAAAFuwBVuwBds/mpmZmZmZ6T+PwvUoXI/iP5iZmZmZmdk/ZWLtkWss4j8AAAAAAAAAAAu2YAu2YOM/NDMzMzMz4z/NzMzMzMzkP5qZmZmZmck/w/UoXI/C1T8AAAAAAAAAAAAAAAAAAAAAMzMzMzMz0z8jIiIiIiLiP3VQB3VQB+A/AAAAAAAAAACamZmZmZnZPwAAAAAAAAAA3t3d3d3d1T8AAAAAAADgPwAAAAAAAAAAAAAAAAAAAAAAAAAAAAAAAAAAAAAAAAAAAAAAAAAAAAAAAAAAAAAAABEREREREeE/AAAAAAAA5j94d3d3d3fnPwAAAAAAAPA/MzMzMzMz2z8AAAAAAAAAAGZmZmZmZtw/xld8xVd86T8cx3Ecx3HoP2ZmZmZmZuY/AAAAAAAAAAAAAAAAAAAAAJqZmZmZmeE/V3zFV3zF1z+amZmZmZnJP4XrUbgeheM/AAAAAAAAAAAAAAAAAADwP5mZmZmZmeE/AAAAAAAA0D/NzMzMzMzkPwAAAAAAAAAAMzMzMzMz4z+DLdiCLdjiPxZddNFFF90/AAAAAAAAAADYgi3Ygi3kPwAAAAAAAPA/AAAAAAAA0D8AAAAAAAAAAM3MzMzMzOw/AAAAAAAAAADNzMzMzMzsP83MzMzMzOQ/Kr7iK77i2z+IiIiIiIjQPwAAAAAAANA/AAAAAAAA8D+SXyz5xZLbP6mqqqqqqtg/mJmZmZmZ2T8iIiIiIiLaP/mKr/iKr+g/RURERERE5D8AAAAAAAAAAAAAAAAAAAAAEBERERERwT/NzMzMzMzgPwAAAAAAAAAAAAAAAAAAAAAjIiIiIiLYP4iIiIiIiNg/mpmZmZmZ2T9H4XoUrkfhPzMzMzMzM+M/mpmZmZmZuT8AAAAAAADwPwAAAAAAAAAAAAAAAAAA6D+gJhk0/mnmPwAAAAAAAAAAHMdxHMdx7D9mZmZmZmbWPwAAAAAAAAAAAAAAAAAAAACamZmZmZnJPwAAAAAAAAAANDMzMzMz4z/NzMzMzMzkPwAAAAAAAAAAFK5H4XoU3j8AAAAAAADwP5qZmZmZmeU/AAAAAAAAAADUQR3UQR3UPxEREREREek/AAAAAAAAAABJkiRJkiThP5qZmZmZmck/AAAAAAAAAAAAAAAAAAAAAGdmZmZmZug/AAAAAAAAAABmZmZmZmbWP5aZmZmZmck/AAAAAAAAAADNzMzMzMzgPwAAAAAAAAAAZmZmZmZm1j8AAAAAAAAAAFZDXzX0VeM/Pc/zPM/z2j+amZmZmZnZP5qZmZmZmck/AAAAAAAAAAAAAAAAAADwP5qZmZmZmdk/AAAAAAAAAAAAAAAAAAAAAOIrvuIrvto/mpmZmZmZ4T/NzMzMzMzcP83MzMzMzOw/AAAAAAAAAACamZmZmZnZPwAAAAAAAAAAAAAAAAAAAAAVX/EVX/HVPwAAAAAAAAAAMzMzMzMz0z/u7u7u7u7ZPwAAAAAAAOQ/AAAAAAAAAAAcx3Ecx3HcP1dWVlZWVto/AAAAAAAA4D9I4XoUrkfhP5qZmZmZmdk/mpmZmZmZ6T9mZmZmZmbiPxAREREREdk/ZmZmZmZm3j8AAAAAAAAAAENERERERNw/AAAAAAAA0D8AAAAAAAAAAM3MzMzMzNw/AAAAAAAAAAAAAAAAAADkP2ZmZmZmZuY/AAAAAAAA4D8AAAAAAAAAAAAAAAAAAAAAAAAAAAAAAAAzMzMzMzPTPwAAAAAAAOA/AAAAAAAAAAD3BxkqO0zdPwAAAAAAAAAAAAAAAAAA4D/DWM1zT9vgPwAAAAAAAAAAAAAAAAAAAAAzMzMzMzPjPwAAAAAAAPA/mpmZmZmZ2T9VVVVVVVXVPzMzMzMzM+M/GIZhGIZh4D8UrkfhehTgPwAAAAAAAAAAqqqqqqqq6j8zMzMzMzPTPwAAAAAAAAAAAAAAAAAAAABVVVVVVVXlPzMzMzMzM+M/seQXS36x1D8AAAAAAAAAAIaIiIiIiMQ/ZmZmZmZm5j8AAAAAAAAAALdgC7ZgC9Y/ZmZmZmZm3j+5HoXrUbjiP0VEREREROQ/AAAAAAAAAAAzMzMzMzPTP5qZmZmZmek/MzMzMzMz3D8AAAAAAADoPwAAAAAAAAAAMzMzMzMz0z9mZmZmZmbmPwAAAAAAAAAAAAAAAAAAAAAAAAAAAAAAAAAAAAAAAAAAAAAAAAAAAAADnTbQaQPhPwAAAAAAAAAAAAAAAAAAAADv7u7u7u7mPwAAAAAAAAAAzczMzMzM7D9mZmZmZmbmPzQzMzMzM+M/X6bTFRSv5D9DRERERETEP83MzMzMzOw/AAAAAAAAAABVVVVVVVXhPwAAAAAAAAAAAAAAAAAAAABERERERETiPzMzMzMzM9M/AAAAAAAAAAAAAAAAAAAAAFVVVVVVVeU/AAAAAAAAAAC1YAu2YAvmPwAAAAAAAPA/AAAAAAAA6D9JkiRJkiThPxzHcRzHcdw/AAAAAAAAAAAAAAAAAAAAAGZmZmZmZtY/AAAAAAAA4D8AAAAAAAAAAAAAAAAAAAAAAAAAAAAAwD9+seQXS37RP68927M927M/AAAAAAAAAACamZmZmZnZP5qZmZmZmbk/AAAAAAAA6D/NzMzMzMzsP5IkSZIkSeI/ERERERER4D+0bdu2bdvOP83MzMzMzNw/VVVVVVVV4T8AAAAAAAAAAAAAAAAAAPA/RRdddNFF2z8AAAAAAAAAAAAAAAAAAPA/AAAAAAAAAAAAAAAAAAAAAGZmZmZmZt4/ZmZmZmZm7j9t27Zt27blPwAAAAAAAPA/zczMzMzM7D/NzMzMzMzoP5qZmZmZmck/RhdddNFF5z+SmZmZmZm5PzMzMzMzM8M/yOJuijxo2j8jIiIiIiLYPxzHcRzHcew/CtejcD0K1z+pqqqqqqrSP5D92I/92Nc/NlqjNVqj1T8jIiIiIiLiPwAAAAAAAAAAAAAAAAAAAAAAAAAAAADoP7m7u7u7u8s/AAAAAAAAAAC2bdu2bdvWP0REREREROQ/SJIkSZIk0T/e3d3d3d3dP83MzMzMzNw/BqPdOcfD3z80MzMzMzPjPwAAAAAAAPA/bcEWbMEW7D8AAAAAAAAAAHh3d3d3d9c/27Zt27Zt6z+amZmZmZnZP0mSJEmSJOE/mpmZmZmZ2T8/6ZM+6ZPePwAAAAAAANg/ZmZmZmZm5j8zMzMzMzPTPwAAAAAAAOg/AAAAAAAAAADNzMzMzMzgP1uwBVuwBcs/AAAAAAAAAAAAAAAAAAAAAAAAAAAAAAAAZmZmZmZm7j+amZmZmZnJP3E9CtejcNk/uHzLt3zL3z8AAAAAAAAAAP1iyS+W/OI/ERERERER4T+amZmZmZm5PwAAAAAAAAAAZmZmZmZm4z8QERERERHZP5qZmZmZmdk/AAAAAAAAAACamZmZmZnpPwy2YAu2YOM/AAAAAAAAAAC4HoXrUbjeP83MzMzMzOw/kCRJkiRJwj8AAAAAAAAAAIac++wCYtM/KlyPwvUo7D8WXXTRRRfdPwAAAAAAAAAAAAAAAAAAAAAAAAAAAAAAAAAAAAAAAPA/mpmZmZmZmT8AAAAAAADmPwAAAAAAAAAAmpmZmZmZ6T8AAAAAAAAAAM3MzMzMzOQ/uB6F61G4zj+amZmZmZnpPwAAAAAAAAAAAAAAAAAAAADNzMzMzMzoP2dmZmZmZuI/AAAAAAAAAAC1YAu2YAvmPwAAAAAAAAAAAAAAAAAAAAAVX/EVX/HFP0REREREROQ/AAAAAAAAAADMzMzMzMznPwAAAAAAAAAAAAAAAAAAAAAWXXTRRRfdPwAAAAAAAAAAAAAAAAAAAABu6IZu6IbhPwAAAAAAAAAApImxdc/I0j8AAAAAAAAAAAAAAAAAAAAAAAAAAAAA8D8AAAAAAAAAAJqZmZmZmak/AAAAAAAAAABmZmZmZmbWPwAAAAAAAOA/zczMzMzM3D8AAAAAAADwPwAAAAAAAOA/AAAAAAAAAAAAAAAAAAAAAAAAAAAAAPA/AAAAAAAAAAB2d3d3d3ffPwAAAAAAAOA/AAAAAAAAAAAAAAAAAAAAAAAAAAAAAAAASOF6FK5H4T/NzMzMzMzUP+CbVxPPitY/AAAAAAAAAACJiIiIiIjgP5qZmZmZmbk/lpmZmZmZzz80MzMzMzPjPyMiIiIiItg/zczMzMzM3D8MERERERGxP5qZmZmZmdk/mpmZmZmZ4T8AAAAAAAAAAAAAAAAAAAAAzczMzMzM5D8AAAAAAAAAAJqZmZmZmek/9DzP8zzP6T8AAAAAAAAAAHP7gwyVHeY/kCRJkiRJwj9sFON5ZNHaPwAAAAAAAAAAzczMzMzM3D+SJEmSJEniP93d3d3d3c0/zczMzMzM7D8zMzMzMzPjPwAAAAAAAAAAZmZmZmZm7j8AAAAAAAAAAEYXXXTRReM/MzMzMzMzwz+amZmZmZmpPwAAAAAAAOA/tm3btm3b5j8AAAAAAAAAAAu2YAu2YOs/mpmZmZmZ2T9VVVVVVVXlPwAAAAAAAOM/AAAAAAAAAAAAAAAAAAAAAJqZmZmZmek/iYiIiIiI4D8UbMEWbMHGPwAAAAAAAOA/GYZhGIZh4D8AAAAAAAAAAIVhGIZhGNY/MzMzMzMzsz8AAAAAAAAAALRGa7RGa+U/AAAAAAAAAACSmZmZmZm5P289CtejcN0/AAAAAAAA4j9mZmZmZmbmPwAAAAAAAPA/AAAAAAAAAAAAAAAAAAAAAFNVVVVVVcU/AAAAAAAAAADu7u7u7u7ePwAAAAAAAAAAvLu7u7u76z/v7u7u7u7qPwAAAAAAAPA/AAAAAAAAAAAiIiIiIiLmP0mSJEmSJOE/mpmZmZmZ6T8AAAAAAAAAAI7jOI7jOOI/AAAAAAAA8D8AAAAAAAAAAJAkSZIkScI/AAAAAAAAAABVVVVVVVXlPwAAAAAAAAAAAAAAAAAAAADNzMzMzMzsP4pRw9+mGNU/AAAAAAAAAAAAAAAAAAAAAAAAAAAAAAAAAAAAAAAA8D9mZmZmZmbiP5qZmZmZmck/AAAAAAAAAAAAAAAAAAAAAHh3d3d3d9c/AAAAAAAAAAAAAAAAAAAAAEREREREROI/MzMzMzMzwz8MERERERGxP97d3d3d3eM/HMdxHMdx7D94d3d3d3fXPzMzMzMzM+M/bxzHcRzHwT+amZmZmZnpP5qZmZmZmak/3d3d3d3dzT8AAAAAAAAAAGZmZmZmZtw/AAAAAAAAAAAAAAAAAAAAAAAAAAAAAAAAAAAAAAAAAAAAAAAAAADQPwAAAAAAAAAAZ2ZmZmZm4j8AAAAAAAAAAHMpl3Ipl+A/AAAAAAAAAAAAAAAAAAAAACMiIiIiIuI/AAAAAAAAAABmZmZmZmbmPwAAAAAAAAAAAAAAAAAAAADNzMzMzMzeP9pApw102tw/iqIoiqIo4j+F61G4HoXjPwAAAAAAAAAAZ2ZmZmZm4j8AAAAAAAAAADMzMzMzM98/mpmZmZmZ2T+amZmZmZm5Pz3P8zzP89w/AAAAAAAA8D8AAAAAAAAAABPkKUGeEuQ/AAAAAAAAAAAAAAAAAAAAAKEO6qAO6tA/mpmZmZmZ2T8zMzMzMzPjPzMzMzMzM+M/mpmZmZmZ2T8AAAAAAAAAAJIkSZIkSeI/dDiHcziH4T8AAAAAAADgP3Q+53M+5+E/p2mapmma5j/NzMzMzMzoP+J6FK5H4eo/iYiIiIiI4D+amZmZmZnJPwAAAAAAAPA/AAAAAAAAAACamZmZmZnpPwAAAAAAAAAAAAAAAAAAAAA0MzMzMzPjPwAAAAAAAAAAu7u7u7u72z8AAAAAAAAAAGZmZmZmZuY/zczMzMzM5D8AAAAAAADYP2ELtmALtuA/AAAAAAAAAACYmZmZmZndP2ZmZmZmZuo/mpmZmZmZ2T8AAAAAAAAAAJqZmZmZmdk/TFVVVVVVpT80MzMzMzPjP5qZmZmZmbk/exSuR+F65D8AAAAAAAAAADMzMzMzM9M/AAAAAAAAAAAAAAAAAAAAAAAAAAAAAAAAAAAAAAAAAAAAAAAAAAAAAAAAAAAAAAAA0yd90id90j9VVVVVVVXlP0/6pE/6pN8/ZmZmZmZm1j8AAAAAAAAAAJqZmZmZmdk/mpmZmZmZyT8iIiIiIiLiP5qZmZmZmeE/AAAAAAAAAAAAAAAAAAAAAEfhehSuR+E/Fl100UUX3T92d3d3d3fHPwAAAAAAAAAAAAAAAAAA4D8AAAAAAAAAAN3d3d3d3d0/F1/xFV/x1T8AAAAAAAAAABEREREREeE/DBERERERsT/qUbgehevVP6eDOqiDOtg/VVVVVVVV5T/NzMzMzMzgPwAAAAAAAPA/3plINO+d2T8AAAAAAAAAAAAAAAAAAAAAqaqqqqqq3j+/QGFp6wvgP1VVVVVVVd0/lD7pkz7p4z8AAAAAAAAAAP/yL//yL9s/VVVVVVVV5T+amZmZmZm5P2ZmZmZmZuY/AAAAAAAAAACamZmZmZm5P5qZmZmZmdk/AAAAAAAA4D8AAAAAAAAAAM3MzMzMzOQ/AAAAAAAA8D+SmZmZmZm5PwAAAAAAAAAAAAAAAAAAAADNzMzMzMzsPzQzMzMzM+M/AAAAAAAAAAAAAAAAAADgPwAAAAAAAAAAAAAAAAAAAAAAAAAAAAAAAAAAAAAAAPA/mpmZmZmZuT8AAAAAAAAAABSuR+F6FN4/AAAAAAAAAAAAAAAAAAAAAAAAAAAAAAAAAAAAAAAAAACF61G4HoXfP0mSJEmSJOE/AAAAAAAAAABVVVVVVVXVPwAAAAAAAPA/rkfhehSu1z8AAAAAAAAAAJqZmZmZmbk//HdoKjJR3T+amZmZmZnZPwAAAAAAAMA/n/RJn/RJ3z8AAAAAAADwPwAAAAAAAAAAZmZmZmZm5j8AAAAAAAAAAB3HcRzHcdw/AAAAAAAAAAAAAAAAAADwPwAAAAAAAAAAmZmZmZmZ6T+PxZ4Dl+TaPwAAAAAAAAAAmH/5l3/51z8AAAAAAAAAAAAAAAAAAAAAAAAAAAAAAAARERERERHhPwAAAAAAAAAAy8zMzMzM3D8AAAAAAAAAAAAAAAAAAAAAAAAAAAAAAAAzMzMzMzPjPwAAAAAAAPA/AAAAAAAAAACamZmZmZnhP0D2Yz/2Y98/eHd3d3d33z8AAAAAAAAAAAAAAAAAAOI/AAAAAAAA8D8AAAAAAADoP5qZmZmZmbk/AAAAAAAAAAAyVHaYutzmP2ZmZmZmZtY/AAAAAAAA8D8iIiIiIiLSPzMzMzMzM9M/AAAAAAAAAACKsiiLsijbP5qZmZmZmeE/U1VVVVVVxT+amZmZmZnJPxRswRZswcY/AAAAAAAAAAAAAAAAAADgPwAAAAAAAPA/AAAAAAAAAADLzMzMzMzcP83MzMzMzOQ/MzMzMzMzwz/MzMzMzMzkPwAAAAAAAAAAAAAAAAAAAAAjIiIiIiLSPzMzMzMzM+M/AAAAAAAAAAAAAAAAAAAAAJqZmZmZmbk/AAAAAAAAAAC4HoXrUbjePwAAAAAAAOA/AAAAAAAAAAAAAAAAAAAAAAAAAAAAAOA/MzMzMzMz0z8AAAAAAAAAAM3MzMzMzNw/cRzHcRzH5T/NzMzMzMzsP5qZmZmZmdk/AAAAAAAAAAByHMdxHMfhPwAAAAAAAOQ/AAAAAAAAAAAAAAAAAAAAAClcj8L1KNw/mpmZmZmZuT8MERERERGxPzQzMzMzM+M/AAAAAAAAAABmZmZmZmbmPwAAAAAAAPA/9Umf9Emf5D/poA7qoA7aP5qZmZmZmck/+7Ef+7Ef2z8AAAAAAAAAAM3MzMzMzOA/AAAAAAAA8D/hehSuR+HiPwAAAAAAAMA/AAAAAAAAAAAAAAAAAAAAAENERERERNQ/AAAAAAAAAAAAAAAAAAAAAM3MzMzMzNw/mpmZmZmZ3T9Z8oslv1jiP5qZmZmZmek/CHVQB3VQ5z8AAAAAAAAAAAAAAAAAAAAApHA9Ctej0D8AAAAAAADwPwAAAAAAAAAAzczMzMzM7D+amZmZmZnlPyMiIiIiItg/AAAAAAAAAAAAAAAAAAAAAAAAAAAAAAAAZmZmZmZm5j8AAAAAAAAAAAAAAAAAAAAAAAAAAAAAAAAAAAAAAAAAAAAAAAAAAAAAAAAAAAAAAAA=",
          "dtype": "f8"
         },
         "xaxis": "x",
         "y": {
          "bdata": "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",
          "dtype": "f8"
         },
         "yaxis": "y"
        }
       ],
       "layout": {
        "coloraxis": {
         "colorbar": {
          "title": {
           "text": "Polarity"
          }
         },
         "colorscale": [
          [
           0,
           "rgb(243, 231, 155)"
          ],
          [
           0.16666666666666666,
           "rgb(250, 196, 132)"
          ],
          [
           0.3333333333333333,
           "rgb(248, 160, 126)"
          ],
          [
           0.5,
           "rgb(235, 127, 134)"
          ],
          [
           0.6666666666666666,
           "rgb(206, 102, 147)"
          ],
          [
           0.8333333333333334,
           "rgb(160, 89, 160)"
          ],
          [
           1,
           "rgb(92, 83, 165)"
          ]
         ]
        },
        "legend": {
         "tracegroupgap": 0
        },
        "template": {
         "data": {
          "bar": [
           {
            "error_x": {
             "color": "#2a3f5f"
            },
            "error_y": {
             "color": "#2a3f5f"
            },
            "marker": {
             "line": {
              "color": "#E5ECF6",
              "width": 0.5
             },
             "pattern": {
              "fillmode": "overlay",
              "size": 10,
              "solidity": 0.2
             }
            },
            "type": "bar"
           }
          ],
          "barpolar": [
           {
            "marker": {
             "line": {
              "color": "#E5ECF6",
              "width": 0.5
             },
             "pattern": {
              "fillmode": "overlay",
              "size": 10,
              "solidity": 0.2
             }
            },
            "type": "barpolar"
           }
          ],
          "carpet": [
           {
            "aaxis": {
             "endlinecolor": "#2a3f5f",
             "gridcolor": "white",
             "linecolor": "white",
             "minorgridcolor": "white",
             "startlinecolor": "#2a3f5f"
            },
            "baxis": {
             "endlinecolor": "#2a3f5f",
             "gridcolor": "white",
             "linecolor": "white",
             "minorgridcolor": "white",
             "startlinecolor": "#2a3f5f"
            },
            "type": "carpet"
           }
          ],
          "choropleth": [
           {
            "colorbar": {
             "outlinewidth": 0,
             "ticks": ""
            },
            "type": "choropleth"
           }
          ],
          "contour": [
           {
            "colorbar": {
             "outlinewidth": 0,
             "ticks": ""
            },
            "colorscale": [
             [
              0,
              "#0d0887"
             ],
             [
              0.1111111111111111,
              "#46039f"
             ],
             [
              0.2222222222222222,
              "#7201a8"
             ],
             [
              0.3333333333333333,
              "#9c179e"
             ],
             [
              0.4444444444444444,
              "#bd3786"
             ],
             [
              0.5555555555555556,
              "#d8576b"
             ],
             [
              0.6666666666666666,
              "#ed7953"
             ],
             [
              0.7777777777777778,
              "#fb9f3a"
             ],
             [
              0.8888888888888888,
              "#fdca26"
             ],
             [
              1,
              "#f0f921"
             ]
            ],
            "type": "contour"
           }
          ],
          "contourcarpet": [
           {
            "colorbar": {
             "outlinewidth": 0,
             "ticks": ""
            },
            "type": "contourcarpet"
           }
          ],
          "heatmap": [
           {
            "colorbar": {
             "outlinewidth": 0,
             "ticks": ""
            },
            "colorscale": [
             [
              0,
              "#0d0887"
             ],
             [
              0.1111111111111111,
              "#46039f"
             ],
             [
              0.2222222222222222,
              "#7201a8"
             ],
             [
              0.3333333333333333,
              "#9c179e"
             ],
             [
              0.4444444444444444,
              "#bd3786"
             ],
             [
              0.5555555555555556,
              "#d8576b"
             ],
             [
              0.6666666666666666,
              "#ed7953"
             ],
             [
              0.7777777777777778,
              "#fb9f3a"
             ],
             [
              0.8888888888888888,
              "#fdca26"
             ],
             [
              1,
              "#f0f921"
             ]
            ],
            "type": "heatmap"
           }
          ],
          "histogram": [
           {
            "marker": {
             "pattern": {
              "fillmode": "overlay",
              "size": 10,
              "solidity": 0.2
             }
            },
            "type": "histogram"
           }
          ],
          "histogram2d": [
           {
            "colorbar": {
             "outlinewidth": 0,
             "ticks": ""
            },
            "colorscale": [
             [
              0,
              "#0d0887"
             ],
             [
              0.1111111111111111,
              "#46039f"
             ],
             [
              0.2222222222222222,
              "#7201a8"
             ],
             [
              0.3333333333333333,
              "#9c179e"
             ],
             [
              0.4444444444444444,
              "#bd3786"
             ],
             [
              0.5555555555555556,
              "#d8576b"
             ],
             [
              0.6666666666666666,
              "#ed7953"
             ],
             [
              0.7777777777777778,
              "#fb9f3a"
             ],
             [
              0.8888888888888888,
              "#fdca26"
             ],
             [
              1,
              "#f0f921"
             ]
            ],
            "type": "histogram2d"
           }
          ],
          "histogram2dcontour": [
           {
            "colorbar": {
             "outlinewidth": 0,
             "ticks": ""
            },
            "colorscale": [
             [
              0,
              "#0d0887"
             ],
             [
              0.1111111111111111,
              "#46039f"
             ],
             [
              0.2222222222222222,
              "#7201a8"
             ],
             [
              0.3333333333333333,
              "#9c179e"
             ],
             [
              0.4444444444444444,
              "#bd3786"
             ],
             [
              0.5555555555555556,
              "#d8576b"
             ],
             [
              0.6666666666666666,
              "#ed7953"
             ],
             [
              0.7777777777777778,
              "#fb9f3a"
             ],
             [
              0.8888888888888888,
              "#fdca26"
             ],
             [
              1,
              "#f0f921"
             ]
            ],
            "type": "histogram2dcontour"
           }
          ],
          "mesh3d": [
           {
            "colorbar": {
             "outlinewidth": 0,
             "ticks": ""
            },
            "type": "mesh3d"
           }
          ],
          "parcoords": [
           {
            "line": {
             "colorbar": {
              "outlinewidth": 0,
              "ticks": ""
             }
            },
            "type": "parcoords"
           }
          ],
          "pie": [
           {
            "automargin": true,
            "type": "pie"
           }
          ],
          "scatter": [
           {
            "fillpattern": {
             "fillmode": "overlay",
             "size": 10,
             "solidity": 0.2
            },
            "type": "scatter"
           }
          ],
          "scatter3d": [
           {
            "line": {
             "colorbar": {
              "outlinewidth": 0,
              "ticks": ""
             }
            },
            "marker": {
             "colorbar": {
              "outlinewidth": 0,
              "ticks": ""
             }
            },
            "type": "scatter3d"
           }
          ],
          "scattercarpet": [
           {
            "marker": {
             "colorbar": {
              "outlinewidth": 0,
              "ticks": ""
             }
            },
            "type": "scattercarpet"
           }
          ],
          "scattergeo": [
           {
            "marker": {
             "colorbar": {
              "outlinewidth": 0,
              "ticks": ""
             }
            },
            "type": "scattergeo"
           }
          ],
          "scattergl": [
           {
            "marker": {
             "colorbar": {
              "outlinewidth": 0,
              "ticks": ""
             }
            },
            "type": "scattergl"
           }
          ],
          "scattermap": [
           {
            "marker": {
             "colorbar": {
              "outlinewidth": 0,
              "ticks": ""
             }
            },
            "type": "scattermap"
           }
          ],
          "scattermapbox": [
           {
            "marker": {
             "colorbar": {
              "outlinewidth": 0,
              "ticks": ""
             }
            },
            "type": "scattermapbox"
           }
          ],
          "scatterpolar": [
           {
            "marker": {
             "colorbar": {
              "outlinewidth": 0,
              "ticks": ""
             }
            },
            "type": "scatterpolar"
           }
          ],
          "scatterpolargl": [
           {
            "marker": {
             "colorbar": {
              "outlinewidth": 0,
              "ticks": ""
             }
            },
            "type": "scatterpolargl"
           }
          ],
          "scatterternary": [
           {
            "marker": {
             "colorbar": {
              "outlinewidth": 0,
              "ticks": ""
             }
            },
            "type": "scatterternary"
           }
          ],
          "surface": [
           {
            "colorbar": {
             "outlinewidth": 0,
             "ticks": ""
            },
            "colorscale": [
             [
              0,
              "#0d0887"
             ],
             [
              0.1111111111111111,
              "#46039f"
             ],
             [
              0.2222222222222222,
              "#7201a8"
             ],
             [
              0.3333333333333333,
              "#9c179e"
             ],
             [
              0.4444444444444444,
              "#bd3786"
             ],
             [
              0.5555555555555556,
              "#d8576b"
             ],
             [
              0.6666666666666666,
              "#ed7953"
             ],
             [
              0.7777777777777778,
              "#fb9f3a"
             ],
             [
              0.8888888888888888,
              "#fdca26"
             ],
             [
              1,
              "#f0f921"
             ]
            ],
            "type": "surface"
           }
          ],
          "table": [
           {
            "cells": {
             "fill": {
              "color": "#EBF0F8"
             },
             "line": {
              "color": "white"
             }
            },
            "header": {
             "fill": {
              "color": "#C8D4E3"
             },
             "line": {
              "color": "white"
             }
            },
            "type": "table"
           }
          ]
         },
         "layout": {
          "annotationdefaults": {
           "arrowcolor": "#2a3f5f",
           "arrowhead": 0,
           "arrowwidth": 1
          },
          "autotypenumbers": "strict",
          "coloraxis": {
           "colorbar": {
            "outlinewidth": 0,
            "ticks": ""
           }
          },
          "colorscale": {
           "diverging": [
            [
             0,
             "#8e0152"
            ],
            [
             0.1,
             "#c51b7d"
            ],
            [
             0.2,
             "#de77ae"
            ],
            [
             0.3,
             "#f1b6da"
            ],
            [
             0.4,
             "#fde0ef"
            ],
            [
             0.5,
             "#f7f7f7"
            ],
            [
             0.6,
             "#e6f5d0"
            ],
            [
             0.7,
             "#b8e186"
            ],
            [
             0.8,
             "#7fbc41"
            ],
            [
             0.9,
             "#4d9221"
            ],
            [
             1,
             "#276419"
            ]
           ],
           "sequential": [
            [
             0,
             "#0d0887"
            ],
            [
             0.1111111111111111,
             "#46039f"
            ],
            [
             0.2222222222222222,
             "#7201a8"
            ],
            [
             0.3333333333333333,
             "#9c179e"
            ],
            [
             0.4444444444444444,
             "#bd3786"
            ],
            [
             0.5555555555555556,
             "#d8576b"
            ],
            [
             0.6666666666666666,
             "#ed7953"
            ],
            [
             0.7777777777777778,
             "#fb9f3a"
            ],
            [
             0.8888888888888888,
             "#fdca26"
            ],
            [
             1,
             "#f0f921"
            ]
           ],
           "sequentialminus": [
            [
             0,
             "#0d0887"
            ],
            [
             0.1111111111111111,
             "#46039f"
            ],
            [
             0.2222222222222222,
             "#7201a8"
            ],
            [
             0.3333333333333333,
             "#9c179e"
            ],
            [
             0.4444444444444444,
             "#bd3786"
            ],
            [
             0.5555555555555556,
             "#d8576b"
            ],
            [
             0.6666666666666666,
             "#ed7953"
            ],
            [
             0.7777777777777778,
             "#fb9f3a"
            ],
            [
             0.8888888888888888,
             "#fdca26"
            ],
            [
             1,
             "#f0f921"
            ]
           ]
          },
          "colorway": [
           "#636efa",
           "#EF553B",
           "#00cc96",
           "#ab63fa",
           "#FFA15A",
           "#19d3f3",
           "#FF6692",
           "#B6E880",
           "#FF97FF",
           "#FECB52"
          ],
          "font": {
           "color": "#2a3f5f"
          },
          "geo": {
           "bgcolor": "white",
           "lakecolor": "white",
           "landcolor": "#E5ECF6",
           "showlakes": true,
           "showland": true,
           "subunitcolor": "white"
          },
          "hoverlabel": {
           "align": "left"
          },
          "hovermode": "closest",
          "mapbox": {
           "style": "light"
          },
          "paper_bgcolor": "white",
          "plot_bgcolor": "#E5ECF6",
          "polar": {
           "angularaxis": {
            "gridcolor": "white",
            "linecolor": "white",
            "ticks": ""
           },
           "bgcolor": "#E5ECF6",
           "radialaxis": {
            "gridcolor": "white",
            "linecolor": "white",
            "ticks": ""
           }
          },
          "scene": {
           "xaxis": {
            "backgroundcolor": "#E5ECF6",
            "gridcolor": "white",
            "gridwidth": 2,
            "linecolor": "white",
            "showbackground": true,
            "ticks": "",
            "zerolinecolor": "white"
           },
           "yaxis": {
            "backgroundcolor": "#E5ECF6",
            "gridcolor": "white",
            "gridwidth": 2,
            "linecolor": "white",
            "showbackground": true,
            "ticks": "",
            "zerolinecolor": "white"
           },
           "zaxis": {
            "backgroundcolor": "#E5ECF6",
            "gridcolor": "white",
            "gridwidth": 2,
            "linecolor": "white",
            "showbackground": true,
            "ticks": "",
            "zerolinecolor": "white"
           }
          },
          "shapedefaults": {
           "line": {
            "color": "#2a3f5f"
           }
          },
          "ternary": {
           "aaxis": {
            "gridcolor": "white",
            "linecolor": "white",
            "ticks": ""
           },
           "baxis": {
            "gridcolor": "white",
            "linecolor": "white",
            "ticks": ""
           },
           "bgcolor": "#E5ECF6",
           "caxis": {
            "gridcolor": "white",
            "linecolor": "white",
            "ticks": ""
           }
          },
          "title": {
           "x": 0.05
          },
          "xaxis": {
           "automargin": true,
           "gridcolor": "white",
           "linecolor": "white",
           "ticks": "",
           "title": {
            "standoff": 15
           },
           "zerolinecolor": "white",
           "zerolinewidth": 2
          },
          "yaxis": {
           "automargin": true,
           "gridcolor": "white",
           "linecolor": "white",
           "ticks": "",
           "title": {
            "standoff": 15
           },
           "zerolinecolor": "white",
           "zerolinewidth": 2
          }
         }
        },
        "title": {
         "text": "Relationship Between Polarity and Subjectivity"
        },
        "xaxis": {
         "anchor": "y",
         "domain": [
          0,
          1
         ],
         "title": {
          "text": "Subjectivity"
         }
        },
        "yaxis": {
         "anchor": "x",
         "domain": [
          0,
          1
         ],
         "title": {
          "text": "Polarity"
         }
        }
       }
      }
     },
     "metadata": {},
     "output_type": "display_data"
    }
   ],
   "source": [
    "# Graph of the relationship between subjectivity and polarity\n",
    "\n",
    "pltly.scatter( # scatter plot\n",
    "    df,\n",
    "    x='subjectivity',\n",
    "    y='polarity',\n",
    "    color='polarity',\n",
    "    color_continuous_scale='sunset', # Found color from https://plotly.com/python/builtin-colorscales/\n",
    "    opacity=1,\n",
    "    labels={'subjectivity': 'Subjectivity', 'polarity': 'Polarity'},\n",
    "    title='Relationship Between Polarity and Subjectivity'\n",
    ")\n",
    "\n",
    "# From the graph, we can see that less subjective topics have less polarity.\n",
    "# As the subjectivity increases, the opinions start to diverge so the polarity\n",
    "# starts to increase."
   ]
  },
  {
   "cell_type": "code",
   "execution_count": 282,
   "metadata": {},
   "outputs": [
    {
     "data": {
      "application/vnd.plotly.v1+json": {
       "config": {
        "plotlyServerURL": "https://plot.ly"
       },
       "data": [
        {
         "hovertemplate": "subreddit=stockstobuytoday<br>Year=%{x}<br>Number of Posts=%{y}<extra></extra>",
         "legendgroup": "stockstobuytoday",
         "line": {
          "color": "#636efa",
          "dash": "solid"
         },
         "marker": {
          "symbol": "circle"
         },
         "mode": "lines+markers",
         "name": "stockstobuytoday",
         "orientation": "v",
         "showlegend": true,
         "type": "scatter",
         "x": {
          "bdata": "5QfmB+cH6AfpBw==",
          "dtype": "i2"
         },
         "xaxis": "x",
         "y": {
          "bdata": "OhYOFjo=",
          "dtype": "i1"
         },
         "yaxis": "y"
        },
        {
         "hovertemplate": "subreddit=stocks<br>Year=%{x}<br>Number of Posts=%{y}<extra></extra>",
         "legendgroup": "stocks",
         "line": {
          "color": "#EF553B",
          "dash": "solid"
         },
         "marker": {
          "symbol": "circle"
         },
         "mode": "lines+markers",
         "name": "stocks",
         "orientation": "v",
         "showlegend": true,
         "type": "scatter",
         "x": {
          "bdata": "5QfpBw==",
          "dtype": "i2"
         },
         "xaxis": "x",
         "y": {
          "bdata": "KQDpAA==",
          "dtype": "i2"
         },
         "yaxis": "y"
        },
        {
         "hovertemplate": "subreddit=StockMarket<br>Year=%{x}<br>Number of Posts=%{y}<extra></extra>",
         "legendgroup": "StockMarket",
         "line": {
          "color": "#00cc96",
          "dash": "solid"
         },
         "marker": {
          "symbol": "circle"
         },
         "mode": "lines+markers",
         "name": "StockMarket",
         "orientation": "v",
         "showlegend": true,
         "type": "scatter",
         "x": {
          "bdata": "6Qc=",
          "dtype": "i2"
         },
         "xaxis": "x",
         "y": {
          "bdata": "+gA=",
          "dtype": "i2"
         },
         "yaxis": "y"
        },
        {
         "hovertemplate": "subreddit=wallstreetbets<br>Year=%{x}<br>Number of Posts=%{y}<extra></extra>",
         "legendgroup": "wallstreetbets",
         "line": {
          "color": "#ab63fa",
          "dash": "solid"
         },
         "marker": {
          "symbol": "circle"
         },
         "mode": "lines+markers",
         "name": "wallstreetbets",
         "orientation": "v",
         "showlegend": true,
         "type": "scatter",
         "x": {
          "bdata": "6Qc=",
          "dtype": "i2"
         },
         "xaxis": "x",
         "y": {
          "bdata": "lQA=",
          "dtype": "i2"
         },
         "yaxis": "y"
        }
       ],
       "layout": {
        "legend": {
         "title": {
          "text": "subreddit"
         },
         "tracegroupgap": 0
        },
        "template": {
         "data": {
          "bar": [
           {
            "error_x": {
             "color": "#2a3f5f"
            },
            "error_y": {
             "color": "#2a3f5f"
            },
            "marker": {
             "line": {
              "color": "#E5ECF6",
              "width": 0.5
             },
             "pattern": {
              "fillmode": "overlay",
              "size": 10,
              "solidity": 0.2
             }
            },
            "type": "bar"
           }
          ],
          "barpolar": [
           {
            "marker": {
             "line": {
              "color": "#E5ECF6",
              "width": 0.5
             },
             "pattern": {
              "fillmode": "overlay",
              "size": 10,
              "solidity": 0.2
             }
            },
            "type": "barpolar"
           }
          ],
          "carpet": [
           {
            "aaxis": {
             "endlinecolor": "#2a3f5f",
             "gridcolor": "white",
             "linecolor": "white",
             "minorgridcolor": "white",
             "startlinecolor": "#2a3f5f"
            },
            "baxis": {
             "endlinecolor": "#2a3f5f",
             "gridcolor": "white",
             "linecolor": "white",
             "minorgridcolor": "white",
             "startlinecolor": "#2a3f5f"
            },
            "type": "carpet"
           }
          ],
          "choropleth": [
           {
            "colorbar": {
             "outlinewidth": 0,
             "ticks": ""
            },
            "type": "choropleth"
           }
          ],
          "contour": [
           {
            "colorbar": {
             "outlinewidth": 0,
             "ticks": ""
            },
            "colorscale": [
             [
              0,
              "#0d0887"
             ],
             [
              0.1111111111111111,
              "#46039f"
             ],
             [
              0.2222222222222222,
              "#7201a8"
             ],
             [
              0.3333333333333333,
              "#9c179e"
             ],
             [
              0.4444444444444444,
              "#bd3786"
             ],
             [
              0.5555555555555556,
              "#d8576b"
             ],
             [
              0.6666666666666666,
              "#ed7953"
             ],
             [
              0.7777777777777778,
              "#fb9f3a"
             ],
             [
              0.8888888888888888,
              "#fdca26"
             ],
             [
              1,
              "#f0f921"
             ]
            ],
            "type": "contour"
           }
          ],
          "contourcarpet": [
           {
            "colorbar": {
             "outlinewidth": 0,
             "ticks": ""
            },
            "type": "contourcarpet"
           }
          ],
          "heatmap": [
           {
            "colorbar": {
             "outlinewidth": 0,
             "ticks": ""
            },
            "colorscale": [
             [
              0,
              "#0d0887"
             ],
             [
              0.1111111111111111,
              "#46039f"
             ],
             [
              0.2222222222222222,
              "#7201a8"
             ],
             [
              0.3333333333333333,
              "#9c179e"
             ],
             [
              0.4444444444444444,
              "#bd3786"
             ],
             [
              0.5555555555555556,
              "#d8576b"
             ],
             [
              0.6666666666666666,
              "#ed7953"
             ],
             [
              0.7777777777777778,
              "#fb9f3a"
             ],
             [
              0.8888888888888888,
              "#fdca26"
             ],
             [
              1,
              "#f0f921"
             ]
            ],
            "type": "heatmap"
           }
          ],
          "histogram": [
           {
            "marker": {
             "pattern": {
              "fillmode": "overlay",
              "size": 10,
              "solidity": 0.2
             }
            },
            "type": "histogram"
           }
          ],
          "histogram2d": [
           {
            "colorbar": {
             "outlinewidth": 0,
             "ticks": ""
            },
            "colorscale": [
             [
              0,
              "#0d0887"
             ],
             [
              0.1111111111111111,
              "#46039f"
             ],
             [
              0.2222222222222222,
              "#7201a8"
             ],
             [
              0.3333333333333333,
              "#9c179e"
             ],
             [
              0.4444444444444444,
              "#bd3786"
             ],
             [
              0.5555555555555556,
              "#d8576b"
             ],
             [
              0.6666666666666666,
              "#ed7953"
             ],
             [
              0.7777777777777778,
              "#fb9f3a"
             ],
             [
              0.8888888888888888,
              "#fdca26"
             ],
             [
              1,
              "#f0f921"
             ]
            ],
            "type": "histogram2d"
           }
          ],
          "histogram2dcontour": [
           {
            "colorbar": {
             "outlinewidth": 0,
             "ticks": ""
            },
            "colorscale": [
             [
              0,
              "#0d0887"
             ],
             [
              0.1111111111111111,
              "#46039f"
             ],
             [
              0.2222222222222222,
              "#7201a8"
             ],
             [
              0.3333333333333333,
              "#9c179e"
             ],
             [
              0.4444444444444444,
              "#bd3786"
             ],
             [
              0.5555555555555556,
              "#d8576b"
             ],
             [
              0.6666666666666666,
              "#ed7953"
             ],
             [
              0.7777777777777778,
              "#fb9f3a"
             ],
             [
              0.8888888888888888,
              "#fdca26"
             ],
             [
              1,
              "#f0f921"
             ]
            ],
            "type": "histogram2dcontour"
           }
          ],
          "mesh3d": [
           {
            "colorbar": {
             "outlinewidth": 0,
             "ticks": ""
            },
            "type": "mesh3d"
           }
          ],
          "parcoords": [
           {
            "line": {
             "colorbar": {
              "outlinewidth": 0,
              "ticks": ""
             }
            },
            "type": "parcoords"
           }
          ],
          "pie": [
           {
            "automargin": true,
            "type": "pie"
           }
          ],
          "scatter": [
           {
            "fillpattern": {
             "fillmode": "overlay",
             "size": 10,
             "solidity": 0.2
            },
            "type": "scatter"
           }
          ],
          "scatter3d": [
           {
            "line": {
             "colorbar": {
              "outlinewidth": 0,
              "ticks": ""
             }
            },
            "marker": {
             "colorbar": {
              "outlinewidth": 0,
              "ticks": ""
             }
            },
            "type": "scatter3d"
           }
          ],
          "scattercarpet": [
           {
            "marker": {
             "colorbar": {
              "outlinewidth": 0,
              "ticks": ""
             }
            },
            "type": "scattercarpet"
           }
          ],
          "scattergeo": [
           {
            "marker": {
             "colorbar": {
              "outlinewidth": 0,
              "ticks": ""
             }
            },
            "type": "scattergeo"
           }
          ],
          "scattergl": [
           {
            "marker": {
             "colorbar": {
              "outlinewidth": 0,
              "ticks": ""
             }
            },
            "type": "scattergl"
           }
          ],
          "scattermap": [
           {
            "marker": {
             "colorbar": {
              "outlinewidth": 0,
              "ticks": ""
             }
            },
            "type": "scattermap"
           }
          ],
          "scattermapbox": [
           {
            "marker": {
             "colorbar": {
              "outlinewidth": 0,
              "ticks": ""
             }
            },
            "type": "scattermapbox"
           }
          ],
          "scatterpolar": [
           {
            "marker": {
             "colorbar": {
              "outlinewidth": 0,
              "ticks": ""
             }
            },
            "type": "scatterpolar"
           }
          ],
          "scatterpolargl": [
           {
            "marker": {
             "colorbar": {
              "outlinewidth": 0,
              "ticks": ""
             }
            },
            "type": "scatterpolargl"
           }
          ],
          "scatterternary": [
           {
            "marker": {
             "colorbar": {
              "outlinewidth": 0,
              "ticks": ""
             }
            },
            "type": "scatterternary"
           }
          ],
          "surface": [
           {
            "colorbar": {
             "outlinewidth": 0,
             "ticks": ""
            },
            "colorscale": [
             [
              0,
              "#0d0887"
             ],
             [
              0.1111111111111111,
              "#46039f"
             ],
             [
              0.2222222222222222,
              "#7201a8"
             ],
             [
              0.3333333333333333,
              "#9c179e"
             ],
             [
              0.4444444444444444,
              "#bd3786"
             ],
             [
              0.5555555555555556,
              "#d8576b"
             ],
             [
              0.6666666666666666,
              "#ed7953"
             ],
             [
              0.7777777777777778,
              "#fb9f3a"
             ],
             [
              0.8888888888888888,
              "#fdca26"
             ],
             [
              1,
              "#f0f921"
             ]
            ],
            "type": "surface"
           }
          ],
          "table": [
           {
            "cells": {
             "fill": {
              "color": "#EBF0F8"
             },
             "line": {
              "color": "white"
             }
            },
            "header": {
             "fill": {
              "color": "#C8D4E3"
             },
             "line": {
              "color": "white"
             }
            },
            "type": "table"
           }
          ]
         },
         "layout": {
          "annotationdefaults": {
           "arrowcolor": "#2a3f5f",
           "arrowhead": 0,
           "arrowwidth": 1
          },
          "autotypenumbers": "strict",
          "coloraxis": {
           "colorbar": {
            "outlinewidth": 0,
            "ticks": ""
           }
          },
          "colorscale": {
           "diverging": [
            [
             0,
             "#8e0152"
            ],
            [
             0.1,
             "#c51b7d"
            ],
            [
             0.2,
             "#de77ae"
            ],
            [
             0.3,
             "#f1b6da"
            ],
            [
             0.4,
             "#fde0ef"
            ],
            [
             0.5,
             "#f7f7f7"
            ],
            [
             0.6,
             "#e6f5d0"
            ],
            [
             0.7,
             "#b8e186"
            ],
            [
             0.8,
             "#7fbc41"
            ],
            [
             0.9,
             "#4d9221"
            ],
            [
             1,
             "#276419"
            ]
           ],
           "sequential": [
            [
             0,
             "#0d0887"
            ],
            [
             0.1111111111111111,
             "#46039f"
            ],
            [
             0.2222222222222222,
             "#7201a8"
            ],
            [
             0.3333333333333333,
             "#9c179e"
            ],
            [
             0.4444444444444444,
             "#bd3786"
            ],
            [
             0.5555555555555556,
             "#d8576b"
            ],
            [
             0.6666666666666666,
             "#ed7953"
            ],
            [
             0.7777777777777778,
             "#fb9f3a"
            ],
            [
             0.8888888888888888,
             "#fdca26"
            ],
            [
             1,
             "#f0f921"
            ]
           ],
           "sequentialminus": [
            [
             0,
             "#0d0887"
            ],
            [
             0.1111111111111111,
             "#46039f"
            ],
            [
             0.2222222222222222,
             "#7201a8"
            ],
            [
             0.3333333333333333,
             "#9c179e"
            ],
            [
             0.4444444444444444,
             "#bd3786"
            ],
            [
             0.5555555555555556,
             "#d8576b"
            ],
            [
             0.6666666666666666,
             "#ed7953"
            ],
            [
             0.7777777777777778,
             "#fb9f3a"
            ],
            [
             0.8888888888888888,
             "#fdca26"
            ],
            [
             1,
             "#f0f921"
            ]
           ]
          },
          "colorway": [
           "#636efa",
           "#EF553B",
           "#00cc96",
           "#ab63fa",
           "#FFA15A",
           "#19d3f3",
           "#FF6692",
           "#B6E880",
           "#FF97FF",
           "#FECB52"
          ],
          "font": {
           "color": "#2a3f5f"
          },
          "geo": {
           "bgcolor": "white",
           "lakecolor": "white",
           "landcolor": "#E5ECF6",
           "showlakes": true,
           "showland": true,
           "subunitcolor": "white"
          },
          "hoverlabel": {
           "align": "left"
          },
          "hovermode": "closest",
          "mapbox": {
           "style": "light"
          },
          "paper_bgcolor": "white",
          "plot_bgcolor": "#E5ECF6",
          "polar": {
           "angularaxis": {
            "gridcolor": "white",
            "linecolor": "white",
            "ticks": ""
           },
           "bgcolor": "#E5ECF6",
           "radialaxis": {
            "gridcolor": "white",
            "linecolor": "white",
            "ticks": ""
           }
          },
          "scene": {
           "xaxis": {
            "backgroundcolor": "#E5ECF6",
            "gridcolor": "white",
            "gridwidth": 2,
            "linecolor": "white",
            "showbackground": true,
            "ticks": "",
            "zerolinecolor": "white"
           },
           "yaxis": {
            "backgroundcolor": "#E5ECF6",
            "gridcolor": "white",
            "gridwidth": 2,
            "linecolor": "white",
            "showbackground": true,
            "ticks": "",
            "zerolinecolor": "white"
           },
           "zaxis": {
            "backgroundcolor": "#E5ECF6",
            "gridcolor": "white",
            "gridwidth": 2,
            "linecolor": "white",
            "showbackground": true,
            "ticks": "",
            "zerolinecolor": "white"
           }
          },
          "shapedefaults": {
           "line": {
            "color": "#2a3f5f"
           }
          },
          "ternary": {
           "aaxis": {
            "gridcolor": "white",
            "linecolor": "white",
            "ticks": ""
           },
           "baxis": {
            "gridcolor": "white",
            "linecolor": "white",
            "ticks": ""
           },
           "bgcolor": "#E5ECF6",
           "caxis": {
            "gridcolor": "white",
            "linecolor": "white",
            "ticks": ""
           }
          },
          "title": {
           "x": 0.05
          },
          "xaxis": {
           "automargin": true,
           "gridcolor": "white",
           "linecolor": "white",
           "ticks": "",
           "title": {
            "standoff": 15
           },
           "zerolinecolor": "white",
           "zerolinewidth": 2
          },
          "yaxis": {
           "automargin": true,
           "gridcolor": "white",
           "linecolor": "white",
           "ticks": "",
           "title": {
            "standoff": 15
           },
           "zerolinecolor": "white",
           "zerolinewidth": 2
          }
         }
        },
        "title": {
         "text": "Popularity of Subreddits Over the Years"
        },
        "xaxis": {
         "anchor": "y",
         "domain": [
          0,
          1
         ],
         "title": {
          "text": "Year"
         }
        },
        "yaxis": {
         "anchor": "x",
         "domain": [
          0,
          1
         ],
         "title": {
          "text": "Number of Posts"
         }
        }
       }
      }
     },
     "metadata": {},
     "output_type": "display_data"
    }
   ],
   "source": [
    "\n",
    "# Graph of the popularity of subreddits over the years\n",
    "\n",
    "mp = dict() # {subreddit: (year, number_of_posts)}\n",
    "\n",
    "# Create the mp map \n",
    "for year, group in df.groupby('year'):\n",
    "    counts = group['subreddit'].value_counts()\n",
    "    for subreddit_name, post_count in counts.items():\n",
    "        if subreddit_name not in mp: mp[subreddit_name] = [[year, post_count]]\n",
    "        else: mp[subreddit_name].append([year, post_count])\n",
    "\n",
    "line_df = pd.DataFrame([\n",
    "    {'year': year, 'count': count, 'subreddit': subreddit}\n",
    "    for subreddit, values in mp.items()\n",
    "    for year, count in values\n",
    "])\n",
    "\n",
    "pltly.line(\n",
    "    line_df,\n",
    "    x='year',\n",
    "    y='count',\n",
    "    color='subreddit',\n",
    "    markers=True,\n",
    "    labels={'year': 'Year', 'count': 'Number of Posts'},\n",
    "    title='Popularity of Subreddits Over the Years'\n",
    ")\n",
    "\n",
    "# From the graph, we can see that we only have posts from the subreddits \n",
    "# \"StockMarket\" and \"wallstreetbets\" from the year 2025. We can also see that the\n",
    "# subreddit \"stocks\" grows in popularity every year, while \"stockstobuytoday\" \n",
    "# dipped in popularity and is now at the same popularity as it was 4 years ago.\n"
   ]
  },
  {
   "cell_type": "markdown",
   "metadata": {},
   "source": [
    "# Phase 2"
   ]
  },
  {
   "cell_type": "code",
   "execution_count": 283,
   "metadata": {},
   "outputs": [],
   "source": [
    "### Begin Assignment Here\n"
   ]
  }
 ],
 "metadata": {
  "kernelspec": {
   "display_name": "Python (dm2025lab)",
   "language": "python",
   "name": "dm2025lab"
  },
  "language_info": {
   "codemirror_mode": {
    "name": "ipython",
    "version": 3
   },
   "file_extension": ".py",
   "mimetype": "text/x-python",
   "name": "python",
   "nbconvert_exporter": "python",
   "pygments_lexer": "ipython3",
   "version": "3.11.0"
  }
 },
 "nbformat": 4,
 "nbformat_minor": 4
}
